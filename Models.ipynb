{
 "cells": [
  {
   "cell_type": "code",
   "execution_count": 42,
   "id": "1d731efc",
   "metadata": {},
   "outputs": [],
   "source": [
    "import numpy as np\n",
    "import pandas as pd\n",
    "import matplotlib.pyplot as plt\n",
    "import seaborn as sns"
   ]
  },
  {
   "cell_type": "code",
   "execution_count": 43,
   "id": "13da7588",
   "metadata": {},
   "outputs": [],
   "source": [
    "from sklearn.preprocessing import OneHotEncoder, StandardScaler\n",
    "from sklearn.compose import ColumnTransformer\n",
    "from sklearn.pipeline import Pipeline\n",
    "from sklearn.linear_model import Ridge\n",
    "from sklearn.model_selection import train_test_split\n",
    "from sklearn.metrics import mean_squared_error\n",
    "from sklearn.metrics import mean_absolute_error"
   ]
  },
  {
   "cell_type": "code",
   "execution_count": 44,
   "id": "cb4e1dcd",
   "metadata": {},
   "outputs": [],
   "source": [
    "from sklearn.tree import DecisionTreeRegressor\n",
    "from sklearn.ensemble import GradientBoostingRegressor\n",
    "from sklearn.ensemble import RandomForestRegressor\n",
    "from sklearn.linear_model import Lasso"
   ]
  },
  {
   "cell_type": "code",
   "execution_count": 49,
   "id": "da177450",
   "metadata": {},
   "outputs": [],
   "source": [
    "df = pd.read_csv(\"oup_discipline.csv\")"
   ]
  },
  {
   "cell_type": "markdown",
   "id": "72a31c45",
   "metadata": {},
   "source": [
    "# Первая часть\n",
    "\n",
    "В начале я пробовала использовать метрику RMSE (потом перешла на более удобную, но в начале несколько экспериментов с ней).\n",
    "\n",
    "Также данные просто смешивались в куче и брались train_test_split."
   ]
  },
  {
   "cell_type": "markdown",
   "id": "25b8f4b1",
   "metadata": {},
   "source": [
    "Сначала бейзлайн:"
   ]
  },
  {
   "cell_type": "code",
   "execution_count": 46,
   "id": "0a715ac4",
   "metadata": {},
   "outputs": [
    {
     "data": {
      "text/plain": [
       "49.738082451167266"
      ]
     },
     "execution_count": 46,
     "metadata": {},
     "output_type": "execute_result"
    }
   ],
   "source": [
    "easy_pred = [y_train.mean()] * len(y_test)\n",
    "mean_squared_error(y_test, easy_pred, squared=False)"
   ]
  },
  {
   "cell_type": "markdown",
   "id": "64107567",
   "metadata": {},
   "source": [
    "Теперь нормальные эксперименты:"
   ]
  },
  {
   "cell_type": "code",
   "execution_count": 50,
   "id": "d4f2743a",
   "metadata": {},
   "outputs": [],
   "source": [
    "all_columns = set(df.columns)\n",
    "delete_columns = set([\"StudLearnCount\", \"BachStudCount\", \"MagStudCount\", \"ID\", \"ProposalItem\", \"MasterItem\", \"MasterItemPos\"])\n",
    "categorical_columns = all_columns - delete_columns - set([\"StudCount\"])\n",
    "numeric_columns = [\"StudCount\"]\n",
    "\n",
    "X = df[np.array(all_columns - delete_columns)]\n",
    "y = df[\"StudLearnCount\"]\n",
    "\n",
    "X_train, X_test, y_train, y_test = train_test_split(X, y, test_size=0.3, random_state=42)"
   ]
  },
  {
   "cell_type": "code",
   "execution_count": 7,
   "id": "7c6564ec",
   "metadata": {},
   "outputs": [],
   "source": [
    "def base_algo(numeric_col, categor_col, no_coef=False, method=Ridge(), error_func=mean_squared_error, params_for_error={}):\n",
    "    X_train, X_test, y_train, y_test = train_test_split(X, y, test_size=0.3, random_state=42)\n",
    "    column_transformer = ColumnTransformer([\n",
    "        ('ohe', OneHotEncoder(handle_unknown='ignore'), categor_col),\n",
    "        ('scaling', StandardScaler(), numeric_col)\n",
    "    ])\n",
    "\n",
    "    pipeline = Pipeline(steps=[\n",
    "        ('ohe_and_scaling', column_transformer),\n",
    "        ('regression', method)\n",
    "    ])\n",
    "\n",
    "    model = pipeline.fit(X_train, y_train)\n",
    "    y_pred = model.predict(X_test)\n",
    "    err = error_func(y_test, y_pred, **params_for_error)\n",
    "    print(\"Method:\", method, \"\\n\")\n",
    "    print(\"Error:\", error_func)\n",
    "    print(err, \"\\n\")\n",
    "    if no_coef:\n",
    "        return model\n",
    "    coefs = model.named_steps['regression'].coef_\n",
    "    print(\"Coefs:\")\n",
    "    for i in coefs:\n",
    "        print(i)\n",
    "    return model"
   ]
  },
  {
   "cell_type": "code",
   "execution_count": 8,
   "id": "c97087a9",
   "metadata": {},
   "outputs": [
    {
     "name": "stdout",
     "output_type": "stream",
     "text": [
      "Method: Ridge() \n",
      "\n",
      "Error: <function mean_squared_error at 0x7f958ee0dd30>\n",
      "31.971086371589404 \n",
      "\n",
      "Coefs:\n",
      "50.50413973703333\n"
     ]
    },
    {
     "data": {
      "text/html": [
       "<style>#sk-container-id-1 {color: black;background-color: white;}#sk-container-id-1 pre{padding: 0;}#sk-container-id-1 div.sk-toggleable {background-color: white;}#sk-container-id-1 label.sk-toggleable__label {cursor: pointer;display: block;width: 100%;margin-bottom: 0;padding: 0.3em;box-sizing: border-box;text-align: center;}#sk-container-id-1 label.sk-toggleable__label-arrow:before {content: \"▸\";float: left;margin-right: 0.25em;color: #696969;}#sk-container-id-1 label.sk-toggleable__label-arrow:hover:before {color: black;}#sk-container-id-1 div.sk-estimator:hover label.sk-toggleable__label-arrow:before {color: black;}#sk-container-id-1 div.sk-toggleable__content {max-height: 0;max-width: 0;overflow: hidden;text-align: left;background-color: #f0f8ff;}#sk-container-id-1 div.sk-toggleable__content pre {margin: 0.2em;color: black;border-radius: 0.25em;background-color: #f0f8ff;}#sk-container-id-1 input.sk-toggleable__control:checked~div.sk-toggleable__content {max-height: 200px;max-width: 100%;overflow: auto;}#sk-container-id-1 input.sk-toggleable__control:checked~label.sk-toggleable__label-arrow:before {content: \"▾\";}#sk-container-id-1 div.sk-estimator input.sk-toggleable__control:checked~label.sk-toggleable__label {background-color: #d4ebff;}#sk-container-id-1 div.sk-label input.sk-toggleable__control:checked~label.sk-toggleable__label {background-color: #d4ebff;}#sk-container-id-1 input.sk-hidden--visually {border: 0;clip: rect(1px 1px 1px 1px);clip: rect(1px, 1px, 1px, 1px);height: 1px;margin: -1px;overflow: hidden;padding: 0;position: absolute;width: 1px;}#sk-container-id-1 div.sk-estimator {font-family: monospace;background-color: #f0f8ff;border: 1px dotted black;border-radius: 0.25em;box-sizing: border-box;margin-bottom: 0.5em;}#sk-container-id-1 div.sk-estimator:hover {background-color: #d4ebff;}#sk-container-id-1 div.sk-parallel-item::after {content: \"\";width: 100%;border-bottom: 1px solid gray;flex-grow: 1;}#sk-container-id-1 div.sk-label:hover label.sk-toggleable__label {background-color: #d4ebff;}#sk-container-id-1 div.sk-serial::before {content: \"\";position: absolute;border-left: 1px solid gray;box-sizing: border-box;top: 0;bottom: 0;left: 50%;z-index: 0;}#sk-container-id-1 div.sk-serial {display: flex;flex-direction: column;align-items: center;background-color: white;padding-right: 0.2em;padding-left: 0.2em;position: relative;}#sk-container-id-1 div.sk-item {position: relative;z-index: 1;}#sk-container-id-1 div.sk-parallel {display: flex;align-items: stretch;justify-content: center;background-color: white;position: relative;}#sk-container-id-1 div.sk-item::before, #sk-container-id-1 div.sk-parallel-item::before {content: \"\";position: absolute;border-left: 1px solid gray;box-sizing: border-box;top: 0;bottom: 0;left: 50%;z-index: -1;}#sk-container-id-1 div.sk-parallel-item {display: flex;flex-direction: column;z-index: 1;position: relative;background-color: white;}#sk-container-id-1 div.sk-parallel-item:first-child::after {align-self: flex-end;width: 50%;}#sk-container-id-1 div.sk-parallel-item:last-child::after {align-self: flex-start;width: 50%;}#sk-container-id-1 div.sk-parallel-item:only-child::after {width: 0;}#sk-container-id-1 div.sk-dashed-wrapped {border: 1px dashed gray;margin: 0 0.4em 0.5em 0.4em;box-sizing: border-box;padding-bottom: 0.4em;background-color: white;}#sk-container-id-1 div.sk-label label {font-family: monospace;font-weight: bold;display: inline-block;line-height: 1.2em;}#sk-container-id-1 div.sk-label-container {text-align: center;}#sk-container-id-1 div.sk-container {/* jupyter's `normalize.less` sets `[hidden] { display: none; }` but bootstrap.min.css set `[hidden] { display: none !important; }` so we also need the `!important` here to be able to override the default hidden behavior on the sphinx rendered scikit-learn.org. See: https://github.com/scikit-learn/scikit-learn/issues/21755 */display: inline-block !important;position: relative;}#sk-container-id-1 div.sk-text-repr-fallback {display: none;}</style><div id=\"sk-container-id-1\" class=\"sk-top-container\"><div class=\"sk-text-repr-fallback\"><pre>Pipeline(steps=[(&#x27;ohe_and_scaling&#x27;,\n",
       "                 ColumnTransformer(transformers=[(&#x27;ohe&#x27;,\n",
       "                                                  OneHotEncoder(handle_unknown=&#x27;ignore&#x27;),\n",
       "                                                  []),\n",
       "                                                 (&#x27;scaling&#x27;, StandardScaler(),\n",
       "                                                  [&#x27;StudCount&#x27;])])),\n",
       "                (&#x27;regression&#x27;, Ridge())])</pre><b>In a Jupyter environment, please rerun this cell to show the HTML representation or trust the notebook. <br />On GitHub, the HTML representation is unable to render, please try loading this page with nbviewer.org.</b></div><div class=\"sk-container\" hidden><div class=\"sk-item sk-dashed-wrapped\"><div class=\"sk-label-container\"><div class=\"sk-label sk-toggleable\"><input class=\"sk-toggleable__control sk-hidden--visually\" id=\"sk-estimator-id-1\" type=\"checkbox\" ><label for=\"sk-estimator-id-1\" class=\"sk-toggleable__label sk-toggleable__label-arrow\">Pipeline</label><div class=\"sk-toggleable__content\"><pre>Pipeline(steps=[(&#x27;ohe_and_scaling&#x27;,\n",
       "                 ColumnTransformer(transformers=[(&#x27;ohe&#x27;,\n",
       "                                                  OneHotEncoder(handle_unknown=&#x27;ignore&#x27;),\n",
       "                                                  []),\n",
       "                                                 (&#x27;scaling&#x27;, StandardScaler(),\n",
       "                                                  [&#x27;StudCount&#x27;])])),\n",
       "                (&#x27;regression&#x27;, Ridge())])</pre></div></div></div><div class=\"sk-serial\"><div class=\"sk-item sk-dashed-wrapped\"><div class=\"sk-label-container\"><div class=\"sk-label sk-toggleable\"><input class=\"sk-toggleable__control sk-hidden--visually\" id=\"sk-estimator-id-2\" type=\"checkbox\" ><label for=\"sk-estimator-id-2\" class=\"sk-toggleable__label sk-toggleable__label-arrow\">ohe_and_scaling: ColumnTransformer</label><div class=\"sk-toggleable__content\"><pre>ColumnTransformer(transformers=[(&#x27;ohe&#x27;, OneHotEncoder(handle_unknown=&#x27;ignore&#x27;),\n",
       "                                 []),\n",
       "                                (&#x27;scaling&#x27;, StandardScaler(), [&#x27;StudCount&#x27;])])</pre></div></div></div><div class=\"sk-parallel\"><div class=\"sk-parallel-item\"><div class=\"sk-item\"><div class=\"sk-label-container\"><div class=\"sk-label sk-toggleable\"><input class=\"sk-toggleable__control sk-hidden--visually\" id=\"sk-estimator-id-3\" type=\"checkbox\" ><label for=\"sk-estimator-id-3\" class=\"sk-toggleable__label sk-toggleable__label-arrow\">ohe</label><div class=\"sk-toggleable__content\"><pre>[]</pre></div></div></div><div class=\"sk-serial\"><div class=\"sk-item\"><div class=\"sk-estimator sk-toggleable\"><input class=\"sk-toggleable__control sk-hidden--visually\" id=\"sk-estimator-id-4\" type=\"checkbox\" ><label for=\"sk-estimator-id-4\" class=\"sk-toggleable__label sk-toggleable__label-arrow\">OneHotEncoder</label><div class=\"sk-toggleable__content\"><pre>OneHotEncoder(handle_unknown=&#x27;ignore&#x27;)</pre></div></div></div></div></div></div><div class=\"sk-parallel-item\"><div class=\"sk-item\"><div class=\"sk-label-container\"><div class=\"sk-label sk-toggleable\"><input class=\"sk-toggleable__control sk-hidden--visually\" id=\"sk-estimator-id-5\" type=\"checkbox\" ><label for=\"sk-estimator-id-5\" class=\"sk-toggleable__label sk-toggleable__label-arrow\">scaling</label><div class=\"sk-toggleable__content\"><pre>[&#x27;StudCount&#x27;]</pre></div></div></div><div class=\"sk-serial\"><div class=\"sk-item\"><div class=\"sk-estimator sk-toggleable\"><input class=\"sk-toggleable__control sk-hidden--visually\" id=\"sk-estimator-id-6\" type=\"checkbox\" ><label for=\"sk-estimator-id-6\" class=\"sk-toggleable__label sk-toggleable__label-arrow\">StandardScaler</label><div class=\"sk-toggleable__content\"><pre>StandardScaler()</pre></div></div></div></div></div></div></div></div><div class=\"sk-item\"><div class=\"sk-estimator sk-toggleable\"><input class=\"sk-toggleable__control sk-hidden--visually\" id=\"sk-estimator-id-7\" type=\"checkbox\" ><label for=\"sk-estimator-id-7\" class=\"sk-toggleable__label sk-toggleable__label-arrow\">Ridge</label><div class=\"sk-toggleable__content\"><pre>Ridge()</pre></div></div></div></div></div></div></div>"
      ],
      "text/plain": [
       "Pipeline(steps=[('ohe_and_scaling',\n",
       "                 ColumnTransformer(transformers=[('ohe',\n",
       "                                                  OneHotEncoder(handle_unknown='ignore'),\n",
       "                                                  []),\n",
       "                                                 ('scaling', StandardScaler(),\n",
       "                                                  ['StudCount'])])),\n",
       "                ('regression', Ridge())])"
      ]
     },
     "execution_count": 8,
     "metadata": {},
     "output_type": "execute_result"
    }
   ],
   "source": [
    "base_algo([\"StudCount\"], [], params_for_error={\"squared\": False})"
   ]
  },
  {
   "cell_type": "markdown",
   "id": "84d5dc8d",
   "metadata": {},
   "source": [
    "Пробуем добавить еще признаков:"
   ]
  },
  {
   "cell_type": "code",
   "execution_count": 50,
   "id": "0fdc51f4",
   "metadata": {},
   "outputs": [
    {
     "name": "stdout",
     "output_type": "stream",
     "text": [
      "Method: Ridge() \n",
      "\n",
      "Error: <function mean_squared_error at 0x7f0f48e83c10>\n",
      "31.932715768073177 \n",
      "\n",
      "Coefs:\n",
      "-1.16538917977444\n",
      "1.1653891797746563\n",
      "3.433978418364064\n",
      "0.12656693297664046\n",
      "-3.560545351314346\n",
      "50.55441420135785\n"
     ]
    }
   ],
   "source": [
    "base_algo([\"StudCount\"], [\"WithOnlineCourse\", \"ItemLearnYear_D\"], params_for_error={\"squared\": False})"
   ]
  },
  {
   "cell_type": "markdown",
   "id": "7b652b5c",
   "metadata": {},
   "source": [
    "Давайте попробуем поиспользовать Credits и PracticeHours, но для этого надо решить, что делать с проблеми (\"None\").\n",
    "Для Credits проблема решена выше - заменили на 0 (это в основном физкультура, логично, что она не имеет веса).\n",
    "Предлагаю для PracticeHours и тд тоже заменить на 0 и потестить."
   ]
  },
  {
   "cell_type": "code",
   "execution_count": 51,
   "id": "f766a606",
   "metadata": {},
   "outputs": [
    {
     "name": "stdout",
     "output_type": "stream",
     "text": [
      "Method: Ridge() \n",
      "\n",
      "Error: <function mean_squared_error at 0x7f0f48e83c10>\n",
      "31.961100948837455 \n",
      "\n",
      "Coefs:\n",
      "-1.2970410973180722\n",
      "1.297041097318243\n",
      "3.4138668894503965\n",
      "0.13247811247546215\n",
      "-3.546345001899121\n",
      "50.56245034942134\n",
      "-0.790465323570226\n"
     ]
    }
   ],
   "source": [
    "base_algo([\"StudCount\", \"Credits\"], [\"WithOnlineCourse\", \"ItemLearnYear_D\"], params_for_error={\"squared\": False})"
   ]
  },
  {
   "cell_type": "markdown",
   "id": "7971229d",
   "metadata": {},
   "source": [
    "Видно, что самые большие дельты у Английского языка(в том или ином виде). Давайте попробуем добавить факультет:"
   ]
  },
  {
   "cell_type": "code",
   "execution_count": 52,
   "id": "cca027df",
   "metadata": {},
   "outputs": [
    {
     "name": "stdout",
     "output_type": "stream",
     "text": [
      "Method: Ridge() \n",
      "\n",
      "Error: <function mean_squared_error at 0x7f0f48e83c10>\n",
      "32.30016017583393 \n",
      "\n"
     ]
    }
   ],
   "source": [
    "base_algo([\"StudCount\", \"Credits\"], [\"Description\"], no_coef=True, params_for_error={\"squared\": False})"
   ]
  },
  {
   "cell_type": "code",
   "execution_count": 53,
   "id": "7452535d",
   "metadata": {},
   "outputs": [
    {
     "name": "stdout",
     "output_type": "stream",
     "text": [
      "Method: Ridge() \n",
      "\n",
      "Error: <function mean_squared_error at 0x7f0f48e83c10>\n",
      "31.053559446075898 \n",
      "\n"
     ]
    }
   ],
   "source": [
    "base_algo([\"StudCount\"], [\"EdLevel_D\", \"ItemCourse_D\"], no_coef=True, params_for_error={\"squared\": False})"
   ]
  },
  {
   "cell_type": "code",
   "execution_count": 54,
   "id": "76061172",
   "metadata": {},
   "outputs": [
    {
     "name": "stdout",
     "output_type": "stream",
     "text": [
      "Method: Ridge() \n",
      "\n",
      "Error: <function mean_squared_error at 0x7f0f48e83c10>\n",
      "31.008989943556177 \n",
      "\n"
     ]
    }
   ],
   "source": [
    "base_algo(\n",
    "    [\"StudCount\"],\n",
    "    [\"EdLevel_D\", \"ItemCourse_D\", \"ItemLearnYear_D\"],\n",
    "    no_coef=True, params_for_error={\"squared\": False})"
   ]
  },
  {
   "cell_type": "markdown",
   "id": "c6a4eaae",
   "metadata": {},
   "source": [
    "Дрбавили так называемые \"корзины\" - взяли логарифм от StudCount, чтобы разделть веса на тяжелые и легкие."
   ]
  },
  {
   "cell_type": "code",
   "execution_count": 55,
   "id": "e437ab23",
   "metadata": {},
   "outputs": [
    {
     "name": "stdout",
     "output_type": "stream",
     "text": [
      "Method: Ridge() \n",
      "\n",
      "Error: <function mean_squared_error at 0x7f0f48e83c10>\n",
      "33.171345666821814 \n",
      "\n",
      "Coefs:\n",
      "84.34209905100354\n",
      "24.302301578900092\n",
      "26.274534771643047\n",
      "29.059015854428985\n",
      "41.13867161635022\n",
      "75.84951459548952\n",
      "180.66621236453105\n",
      "-513.7592892245956\n",
      "52.12693939008375\n",
      "48.532050178995924\n"
     ]
    }
   ],
   "source": [
    "base_algo(\n",
    "    [\"StudCount\"],\n",
    "    [\"StudCountBins\"],\n",
    "    no_coef=False, params_for_error={\"squared\": False})"
   ]
  },
  {
   "cell_type": "markdown",
   "id": "4f935272",
   "metadata": {},
   "source": [
    "Пробуем простое решающее дерево и градиентный бустинг:"
   ]
  },
  {
   "cell_type": "code",
   "execution_count": 58,
   "id": "eb850602",
   "metadata": {},
   "outputs": [
    {
     "name": "stdout",
     "output_type": "stream",
     "text": [
      "Method: DecisionTreeRegressor() \n",
      "\n",
      "Error: <function mean_squared_error at 0x7f0f48e83c10>\n",
      "70.78357889472663 \n",
      "\n"
     ]
    }
   ],
   "source": [
    "base_algo(\n",
    "    [\"StudCount\"],\n",
    "    [\"EdLevel_D\", \"ItemCourse_D\", \"ItemLearnYear_D\"],\n",
    "    method=DecisionTreeRegressor(),\n",
    "    no_coef=True, params_for_error={\"squared\": False})"
   ]
  },
  {
   "cell_type": "code",
   "execution_count": 60,
   "id": "4e675a15",
   "metadata": {},
   "outputs": [
    {
     "name": "stdout",
     "output_type": "stream",
     "text": [
      "Method: GradientBoostingRegressor() \n",
      "\n",
      "Error: <function mean_squared_error at 0x7f0f48e83c10>\n",
      "37.65608950346666 \n",
      "\n"
     ]
    }
   ],
   "source": [
    "base_algo(\n",
    "    [\"StudCount\", \"EntireHours\"],\n",
    "    [\"EdLevel_D\", \"ItemCourse_D\", \"ItemLearnYear_D\", \"StudCountBins\", \"WithOnlineCourse\"],\n",
    "    method=GradientBoostingRegressor(),\n",
    "    no_coef=True, params_for_error={\"squared\": False})"
   ]
  },
  {
   "cell_type": "markdown",
   "id": "75b7558f",
   "metadata": {},
   "source": [
    "# Вторая часть\n",
    "\n",
    "Пробуем изменить метрику на процент ошибки относительно правильного ответа:"
   ]
  },
  {
   "cell_type": "code",
   "execution_count": 12,
   "id": "02b1d61e",
   "metadata": {},
   "outputs": [],
   "source": [
    "def part_error(y_test, y_pred):\n",
    "    y_test[y_test == 0] = 1\n",
    "    res = y_pred / y_test\n",
    "    res = abs(1 - res)\n",
    "    return res.mean()"
   ]
  },
  {
   "cell_type": "code",
   "execution_count": 69,
   "id": "759a3fae",
   "metadata": {},
   "outputs": [
    {
     "name": "stdout",
     "output_type": "stream",
     "text": [
      "Method: Ridge() \n",
      "\n",
      "Error: <function part_error at 0x7f0f40fbce50>\n",
      "2.995311588933207 \n",
      "\n",
      "Coefs:\n",
      "50.50413973703333\n"
     ]
    }
   ],
   "source": [
    "base_algo(\n",
    "    [\"StudCount\"],\n",
    "    [],\n",
    "    error_func=part_error)"
   ]
  },
  {
   "cell_type": "code",
   "execution_count": 27,
   "id": "0cd9e70d",
   "metadata": {},
   "outputs": [
    {
     "name": "stdout",
     "output_type": "stream",
     "text": [
      "Method: Ridge() \n",
      "\n",
      "Error: <function part_error at 0x7fb244515a60>\n",
      "2.6387213237249103 \n",
      "\n",
      "Coefs:\n",
      "-26.748007361766742\n",
      "28.99335153415839\n",
      "-10.402182077920306\n",
      "8.156837904394441\n",
      "26.782201477548085\n",
      "-12.564997619108984\n",
      "-13.021354944102995\n",
      "-14.702651190570625\n",
      "-15.195752989706099\n",
      "-16.577126259194642\n",
      "18.838381921122853\n",
      "18.28446169985428\n",
      "3.8943215609773536\n",
      "4.262516343417086\n",
      "3.7447551689806344\n",
      "-0.25333504187391975\n",
      "-3.4914201270610064\n",
      "46.90796251311258\n"
     ]
    }
   ],
   "source": [
    "base_algo(\n",
    "    [\"StudCount\"],\n",
    "    [\"EdLevel_D\", \"ItemCourse_D\", \"ItemLearnYear_D\"],\n",
    "    error_func=part_error,\n",
    ")"
   ]
  },
  {
   "cell_type": "markdown",
   "id": "67c6c843",
   "metadata": {},
   "source": [
    "Прочитала про метрику SMAPE:"
   ]
  },
  {
   "cell_type": "code",
   "execution_count": 1,
   "id": "f3a14035",
   "metadata": {},
   "outputs": [],
   "source": [
    "def smape(A, F):\n",
    "    return np.sum(2 * np.abs(F - A) / (np.abs(A) + np.abs(F))) / len(A)"
   ]
  },
  {
   "cell_type": "markdown",
   "id": "afba4690",
   "metadata": {},
   "source": [
    "Также я прочитала, что если мы берем в качестве регуляризатора L1, то часто много весов зануляется. Глобально, мы этого и хотим - положить кучу разных данных и занулить их потом. Так что попробуем поиспользовать Lasso:"
   ]
  },
  {
   "cell_type": "code",
   "execution_count": 14,
   "id": "96e8a129",
   "metadata": {},
   "outputs": [
    {
     "name": "stdout",
     "output_type": "stream",
     "text": [
      "Method: Lasso() \n",
      "\n",
      "Error: <function part_error at 0x7fb244515a60>\n",
      "3.0483246017438477 \n",
      "\n",
      "Coefs:\n",
      "49.507908140237134\n"
     ]
    }
   ],
   "source": [
    "base_algo(\n",
    "    numeric_col=[\"StudCount\"],\n",
    "    categor_col=[],\n",
    "    method=Lasso(),\n",
    "    error_func=part_error)"
   ]
  },
  {
   "cell_type": "code",
   "execution_count": 15,
   "id": "db4e6a4c",
   "metadata": {},
   "outputs": [
    {
     "name": "stdout",
     "output_type": "stream",
     "text": [
      "Method: Lasso() \n",
      "\n",
      "Error: <function part_error at 0x7fb244515a60>\n",
      "2.8209659134220844 \n",
      "\n",
      "Coefs:\n",
      "-5.740088905505539\n",
      "8.454213789759486\n",
      "-0.0\n",
      "0.0\n",
      "10.633986327516785\n",
      "0.0\n",
      "-0.0\n",
      "-0.0\n",
      "-0.0\n",
      "-0.0\n",
      "0.0\n",
      "-0.0\n",
      "0.0\n",
      "0.0\n",
      "0.31323208758413995\n",
      "0.0\n",
      "-0.6445818597535079\n",
      "47.966927615745604\n"
     ]
    }
   ],
   "source": [
    "base_algo(\n",
    "    numeric_col=[\"StudCount\"],\n",
    "    categor_col=[\"EdLevel_D\", \"ItemCourse_D\", \"ItemLearnYear_D\"],\n",
    "    method=Lasso(),\n",
    "    error_func=part_error)"
   ]
  },
  {
   "cell_type": "code",
   "execution_count": 17,
   "id": "87d31690",
   "metadata": {},
   "outputs": [
    {
     "name": "stdout",
     "output_type": "stream",
     "text": [
      "Method: Lasso(alpha=0.5) \n",
      "\n",
      "Error: <function part_error at 0x7fb244515a60>\n",
      "2.696341775810879 \n",
      "\n",
      "Coefs:\n",
      "-24.21674679831957\n",
      "8.281107759482296\n",
      "-0.0\n",
      "0.0\n",
      "23.06672724930179\n",
      "0.0\n",
      "-0.0\n",
      "-0.0\n",
      "-0.0\n",
      "-0.0\n",
      "0.0\n",
      "0.0\n",
      "0.0\n",
      "0.0\n",
      "2.0824702469536533\n",
      "0.0\n",
      "-1.9401214094825177\n",
      "47.552979588987974\n"
     ]
    }
   ],
   "source": [
    "base_algo(\n",
    "    numeric_col=[\"StudCount\"],\n",
    "    categor_col=[\"EdLevel_D\", \"ItemCourse_D\", \"ItemLearnYear_D\"],\n",
    "    method=Lasso(alpha=0.5),\n",
    "    error_func=part_error)"
   ]
  },
  {
   "cell_type": "code",
   "execution_count": 22,
   "id": "6bfe0393",
   "metadata": {},
   "outputs": [
    {
     "data": {
      "text/plain": [
       "ID                             int64\n",
       "ProposalItem                   int64\n",
       "PlanClass_D                   object\n",
       "EdLevel_D                     object\n",
       "ItemCourse_D                  object\n",
       "ItemLearnYear_D               object\n",
       "StudCount                      int64\n",
       "StudLearnCount                 int64\n",
       "BachStudCount                  int64\n",
       "MagStudCount                   int64\n",
       "RegDepartment_D               object\n",
       "Faculty_D                     object\n",
       "LearnProgram_D                object\n",
       "Description                   object\n",
       "LongName                      object\n",
       "SubjectClass_D                object\n",
       "FacDepartment_D               object\n",
       "FDFaculty_D                   object\n",
       "FDRegDepartment_D             object\n",
       "MasterItem                     int64\n",
       "MasterItemPos                 object\n",
       "ItemSource_D                  object\n",
       "AudienceScope_D               object\n",
       "Credits                        int64\n",
       "EntireHours                    int64\n",
       "LectionHours                   int64\n",
       "SeminarHours                   int64\n",
       "PracticeHours                  int64\n",
       "PeriodNumList                 object\n",
       "WithOnlineCourse              object\n",
       "ItemLearnYear_D_discipline    object\n",
       "dtype: object"
      ]
     },
     "execution_count": 22,
     "metadata": {},
     "output_type": "execute_result"
    }
   ],
   "source": [
    "df.dtypes"
   ]
  },
  {
   "cell_type": "code",
   "execution_count": 33,
   "id": "65137eef",
   "metadata": {},
   "outputs": [
    {
     "name": "stdout",
     "output_type": "stream",
     "text": [
      "Method: Lasso(alpha=0.5) \n",
      "\n",
      "Error: <function part_error at 0x7fb244515a60>\n",
      "2.763400044181575 \n",
      "\n",
      "Coefs:\n",
      "0.0\n",
      "0.0\n",
      "-0.0\n",
      "-10.273457948596782\n",
      "-21.564376331170905\n",
      "8.748725423121488\n",
      "-0.0\n",
      "0.0\n",
      "10.756191294443562\n",
      "0.0\n",
      "0.0\n",
      "-0.0\n",
      "-0.3586826347611377\n",
      "-0.0\n",
      "0.0\n",
      "0.0\n",
      "0.0\n",
      "0.0\n",
      "1.1399056517268444\n",
      "-0.0\n",
      "-1.8894702394244856\n",
      "-0.0\n",
      "0.0\n",
      "-0.0\n",
      "0.0\n",
      "0.0\n",
      "-0.0\n",
      "0.0\n",
      "-0.0\n",
      "0.0\n",
      "-0.0\n",
      "0.0\n",
      "-0.0\n",
      "-0.0\n",
      "-0.0\n",
      "212.81772248264016\n",
      "-0.0\n",
      "0.0\n",
      "47.66407428773121\n",
      "0.0\n",
      "0.0\n",
      "0.07777515234035015\n",
      "0.006440698895365199\n",
      "-0.7289882238825414\n"
     ]
    }
   ],
   "source": [
    "base_algo(\n",
    "    numeric_col=[\"StudCount\", \"Credits\", \"EntireHours\", \"LectionHours\", \"SeminarHours\", \"PracticeHours\"],\n",
    "    categor_col=[\"PlanClass_D\", \"EdLevel_D\", \"ItemCourse_D\", \"ItemLearnYear_D\", \"PeriodNumList\", \"WithOnlineCourse\"],\n",
    "    method=Lasso(alpha=0.5),\n",
    "    error_func=part_error)"
   ]
  },
  {
   "cell_type": "markdown",
   "id": "bb5d0f54",
   "metadata": {},
   "source": [
    "## Перейдем на SMAPE:"
   ]
  },
  {
   "cell_type": "code",
   "execution_count": 34,
   "id": "729d884b",
   "metadata": {},
   "outputs": [
    {
     "name": "stdout",
     "output_type": "stream",
     "text": [
      "Method: Lasso() \n",
      "\n",
      "Error: <function smape at 0x7fb28835a430>\n",
      "0.6181089596732408 \n",
      "\n",
      "Coefs:\n",
      "49.507908140237134\n"
     ]
    }
   ],
   "source": [
    "base_algo(\n",
    "    numeric_col=[\"StudCount\"],\n",
    "    categor_col=[],\n",
    "    method=Lasso(),\n",
    "    error_func=smape)"
   ]
  },
  {
   "cell_type": "code",
   "execution_count": 35,
   "id": "5453b037",
   "metadata": {},
   "outputs": [
    {
     "name": "stdout",
     "output_type": "stream",
     "text": [
      "Method: Lasso() \n",
      "\n",
      "Error: <function smape at 0x7fb28835a430>\n",
      "0.6056611867156406 \n",
      "\n",
      "Coefs:\n",
      "-5.740088905505539\n",
      "8.454213789759486\n",
      "-0.0\n",
      "0.0\n",
      "10.633986327516785\n",
      "0.0\n",
      "-0.0\n",
      "-0.0\n",
      "-0.0\n",
      "-0.0\n",
      "0.0\n",
      "-0.0\n",
      "0.0\n",
      "0.0\n",
      "0.31323208758413995\n",
      "0.0\n",
      "-0.6445818597535079\n",
      "47.966927615745604\n"
     ]
    }
   ],
   "source": [
    "base_algo(\n",
    "    numeric_col=[\"StudCount\"],\n",
    "    categor_col=[\"EdLevel_D\", \"ItemCourse_D\", \"ItemLearnYear_D\"],\n",
    "    method=Lasso(),\n",
    "    error_func=smape)"
   ]
  },
  {
   "cell_type": "code",
   "execution_count": 36,
   "id": "b1ff1de7",
   "metadata": {},
   "outputs": [
    {
     "name": "stdout",
     "output_type": "stream",
     "text": [
      "Method: Lasso(alpha=0.5) \n",
      "\n",
      "Error: <function smape at 0x7fb28835a430>\n",
      "0.6069783290833942 \n",
      "\n",
      "Coefs:\n",
      "-24.21674679831957\n",
      "8.281107759482296\n",
      "-0.0\n",
      "0.0\n",
      "23.06672724930179\n",
      "0.0\n",
      "-0.0\n",
      "-0.0\n",
      "-0.0\n",
      "-0.0\n",
      "0.0\n",
      "0.0\n",
      "0.0\n",
      "0.0\n",
      "2.0824702469536533\n",
      "0.0\n",
      "-1.9401214094825177\n",
      "47.552979588987974\n"
     ]
    }
   ],
   "source": [
    "base_algo(\n",
    "    numeric_col=[\"StudCount\"],\n",
    "    categor_col=[\"EdLevel_D\", \"ItemCourse_D\", \"ItemLearnYear_D\"],\n",
    "    method=Lasso(alpha=0.5),\n",
    "    error_func=smape)"
   ]
  },
  {
   "cell_type": "code",
   "execution_count": 37,
   "id": "45860dfe",
   "metadata": {},
   "outputs": [
    {
     "name": "stdout",
     "output_type": "stream",
     "text": [
      "Method: Lasso(alpha=0.5) \n",
      "\n",
      "Error: <function smape at 0x7fb28835a430>\n",
      "0.6048528990263804 \n",
      "\n",
      "Coefs:\n",
      "0.0\n",
      "0.0\n",
      "-0.0\n",
      "-10.273457948596782\n",
      "-21.564376331170905\n",
      "8.748725423121488\n",
      "-0.0\n",
      "0.0\n",
      "10.756191294443562\n",
      "0.0\n",
      "0.0\n",
      "-0.0\n",
      "-0.3586826347611377\n",
      "-0.0\n",
      "0.0\n",
      "0.0\n",
      "0.0\n",
      "0.0\n",
      "1.1399056517268444\n",
      "-0.0\n",
      "-1.8894702394244856\n",
      "-0.0\n",
      "0.0\n",
      "-0.0\n",
      "0.0\n",
      "0.0\n",
      "-0.0\n",
      "0.0\n",
      "-0.0\n",
      "0.0\n",
      "-0.0\n",
      "0.0\n",
      "-0.0\n",
      "-0.0\n",
      "-0.0\n",
      "212.81772248264016\n",
      "-0.0\n",
      "0.0\n",
      "47.66407428773121\n",
      "0.0\n",
      "0.0\n",
      "0.07777515234035015\n",
      "0.006440698895365199\n",
      "-0.7289882238825414\n"
     ]
    }
   ],
   "source": [
    "base_algo(\n",
    "    numeric_col=[\"StudCount\", \"Credits\", \"EntireHours\", \"LectionHours\", \"SeminarHours\", \"PracticeHours\"],\n",
    "    categor_col=[\"PlanClass_D\", \"EdLevel_D\", \"ItemCourse_D\", \"ItemLearnYear_D\", \"PeriodNumList\", \"WithOnlineCourse\"],\n",
    "    method=Lasso(alpha=0.5),\n",
    "    error_func=smape)"
   ]
  },
  {
   "cell_type": "markdown",
   "id": "8e19a40d",
   "metadata": {},
   "source": [
    "Попробуем DecisionTreeRegressor (с визуалиазацией):"
   ]
  },
  {
   "cell_type": "code",
   "execution_count": 45,
   "id": "1050e187",
   "metadata": {},
   "outputs": [
    {
     "name": "stdout",
     "output_type": "stream",
     "text": [
      "Method: DecisionTreeRegressor() \n",
      "\n",
      "Error: <function smape at 0x7fb28835a430>\n",
      "0.6352356241191554 \n",
      "\n"
     ]
    },
    {
     "data": {
      "text/html": [
       "<style>#sk-container-id-2 {color: black;background-color: white;}#sk-container-id-2 pre{padding: 0;}#sk-container-id-2 div.sk-toggleable {background-color: white;}#sk-container-id-2 label.sk-toggleable__label {cursor: pointer;display: block;width: 100%;margin-bottom: 0;padding: 0.3em;box-sizing: border-box;text-align: center;}#sk-container-id-2 label.sk-toggleable__label-arrow:before {content: \"▸\";float: left;margin-right: 0.25em;color: #696969;}#sk-container-id-2 label.sk-toggleable__label-arrow:hover:before {color: black;}#sk-container-id-2 div.sk-estimator:hover label.sk-toggleable__label-arrow:before {color: black;}#sk-container-id-2 div.sk-toggleable__content {max-height: 0;max-width: 0;overflow: hidden;text-align: left;background-color: #f0f8ff;}#sk-container-id-2 div.sk-toggleable__content pre {margin: 0.2em;color: black;border-radius: 0.25em;background-color: #f0f8ff;}#sk-container-id-2 input.sk-toggleable__control:checked~div.sk-toggleable__content {max-height: 200px;max-width: 100%;overflow: auto;}#sk-container-id-2 input.sk-toggleable__control:checked~label.sk-toggleable__label-arrow:before {content: \"▾\";}#sk-container-id-2 div.sk-estimator input.sk-toggleable__control:checked~label.sk-toggleable__label {background-color: #d4ebff;}#sk-container-id-2 div.sk-label input.sk-toggleable__control:checked~label.sk-toggleable__label {background-color: #d4ebff;}#sk-container-id-2 input.sk-hidden--visually {border: 0;clip: rect(1px 1px 1px 1px);clip: rect(1px, 1px, 1px, 1px);height: 1px;margin: -1px;overflow: hidden;padding: 0;position: absolute;width: 1px;}#sk-container-id-2 div.sk-estimator {font-family: monospace;background-color: #f0f8ff;border: 1px dotted black;border-radius: 0.25em;box-sizing: border-box;margin-bottom: 0.5em;}#sk-container-id-2 div.sk-estimator:hover {background-color: #d4ebff;}#sk-container-id-2 div.sk-parallel-item::after {content: \"\";width: 100%;border-bottom: 1px solid gray;flex-grow: 1;}#sk-container-id-2 div.sk-label:hover label.sk-toggleable__label {background-color: #d4ebff;}#sk-container-id-2 div.sk-serial::before {content: \"\";position: absolute;border-left: 1px solid gray;box-sizing: border-box;top: 0;bottom: 0;left: 50%;z-index: 0;}#sk-container-id-2 div.sk-serial {display: flex;flex-direction: column;align-items: center;background-color: white;padding-right: 0.2em;padding-left: 0.2em;position: relative;}#sk-container-id-2 div.sk-item {position: relative;z-index: 1;}#sk-container-id-2 div.sk-parallel {display: flex;align-items: stretch;justify-content: center;background-color: white;position: relative;}#sk-container-id-2 div.sk-item::before, #sk-container-id-2 div.sk-parallel-item::before {content: \"\";position: absolute;border-left: 1px solid gray;box-sizing: border-box;top: 0;bottom: 0;left: 50%;z-index: -1;}#sk-container-id-2 div.sk-parallel-item {display: flex;flex-direction: column;z-index: 1;position: relative;background-color: white;}#sk-container-id-2 div.sk-parallel-item:first-child::after {align-self: flex-end;width: 50%;}#sk-container-id-2 div.sk-parallel-item:last-child::after {align-self: flex-start;width: 50%;}#sk-container-id-2 div.sk-parallel-item:only-child::after {width: 0;}#sk-container-id-2 div.sk-dashed-wrapped {border: 1px dashed gray;margin: 0 0.4em 0.5em 0.4em;box-sizing: border-box;padding-bottom: 0.4em;background-color: white;}#sk-container-id-2 div.sk-label label {font-family: monospace;font-weight: bold;display: inline-block;line-height: 1.2em;}#sk-container-id-2 div.sk-label-container {text-align: center;}#sk-container-id-2 div.sk-container {/* jupyter's `normalize.less` sets `[hidden] { display: none; }` but bootstrap.min.css set `[hidden] { display: none !important; }` so we also need the `!important` here to be able to override the default hidden behavior on the sphinx rendered scikit-learn.org. See: https://github.com/scikit-learn/scikit-learn/issues/21755 */display: inline-block !important;position: relative;}#sk-container-id-2 div.sk-text-repr-fallback {display: none;}</style><div id=\"sk-container-id-2\" class=\"sk-top-container\"><div class=\"sk-text-repr-fallback\"><pre>Pipeline(steps=[(&#x27;ohe_and_scaling&#x27;,\n",
       "                 ColumnTransformer(transformers=[(&#x27;ohe&#x27;,\n",
       "                                                  OneHotEncoder(handle_unknown=&#x27;ignore&#x27;),\n",
       "                                                  [&#x27;PlanClass_D&#x27;, &#x27;EdLevel_D&#x27;,\n",
       "                                                   &#x27;ItemCourse_D&#x27;,\n",
       "                                                   &#x27;ItemLearnYear_D&#x27;,\n",
       "                                                   &#x27;PeriodNumList&#x27;,\n",
       "                                                   &#x27;WithOnlineCourse&#x27;]),\n",
       "                                                 (&#x27;scaling&#x27;, StandardScaler(),\n",
       "                                                  [&#x27;StudCount&#x27;, &#x27;Credits&#x27;,\n",
       "                                                   &#x27;EntireHours&#x27;,\n",
       "                                                   &#x27;LectionHours&#x27;,\n",
       "                                                   &#x27;SeminarHours&#x27;,\n",
       "                                                   &#x27;PracticeHours&#x27;])])),\n",
       "                (&#x27;regression&#x27;, DecisionTreeRegressor())])</pre><b>In a Jupyter environment, please rerun this cell to show the HTML representation or trust the notebook. <br />On GitHub, the HTML representation is unable to render, please try loading this page with nbviewer.org.</b></div><div class=\"sk-container\" hidden><div class=\"sk-item sk-dashed-wrapped\"><div class=\"sk-label-container\"><div class=\"sk-label sk-toggleable\"><input class=\"sk-toggleable__control sk-hidden--visually\" id=\"sk-estimator-id-8\" type=\"checkbox\" ><label for=\"sk-estimator-id-8\" class=\"sk-toggleable__label sk-toggleable__label-arrow\">Pipeline</label><div class=\"sk-toggleable__content\"><pre>Pipeline(steps=[(&#x27;ohe_and_scaling&#x27;,\n",
       "                 ColumnTransformer(transformers=[(&#x27;ohe&#x27;,\n",
       "                                                  OneHotEncoder(handle_unknown=&#x27;ignore&#x27;),\n",
       "                                                  [&#x27;PlanClass_D&#x27;, &#x27;EdLevel_D&#x27;,\n",
       "                                                   &#x27;ItemCourse_D&#x27;,\n",
       "                                                   &#x27;ItemLearnYear_D&#x27;,\n",
       "                                                   &#x27;PeriodNumList&#x27;,\n",
       "                                                   &#x27;WithOnlineCourse&#x27;]),\n",
       "                                                 (&#x27;scaling&#x27;, StandardScaler(),\n",
       "                                                  [&#x27;StudCount&#x27;, &#x27;Credits&#x27;,\n",
       "                                                   &#x27;EntireHours&#x27;,\n",
       "                                                   &#x27;LectionHours&#x27;,\n",
       "                                                   &#x27;SeminarHours&#x27;,\n",
       "                                                   &#x27;PracticeHours&#x27;])])),\n",
       "                (&#x27;regression&#x27;, DecisionTreeRegressor())])</pre></div></div></div><div class=\"sk-serial\"><div class=\"sk-item sk-dashed-wrapped\"><div class=\"sk-label-container\"><div class=\"sk-label sk-toggleable\"><input class=\"sk-toggleable__control sk-hidden--visually\" id=\"sk-estimator-id-9\" type=\"checkbox\" ><label for=\"sk-estimator-id-9\" class=\"sk-toggleable__label sk-toggleable__label-arrow\">ohe_and_scaling: ColumnTransformer</label><div class=\"sk-toggleable__content\"><pre>ColumnTransformer(transformers=[(&#x27;ohe&#x27;, OneHotEncoder(handle_unknown=&#x27;ignore&#x27;),\n",
       "                                 [&#x27;PlanClass_D&#x27;, &#x27;EdLevel_D&#x27;, &#x27;ItemCourse_D&#x27;,\n",
       "                                  &#x27;ItemLearnYear_D&#x27;, &#x27;PeriodNumList&#x27;,\n",
       "                                  &#x27;WithOnlineCourse&#x27;]),\n",
       "                                (&#x27;scaling&#x27;, StandardScaler(),\n",
       "                                 [&#x27;StudCount&#x27;, &#x27;Credits&#x27;, &#x27;EntireHours&#x27;,\n",
       "                                  &#x27;LectionHours&#x27;, &#x27;SeminarHours&#x27;,\n",
       "                                  &#x27;PracticeHours&#x27;])])</pre></div></div></div><div class=\"sk-parallel\"><div class=\"sk-parallel-item\"><div class=\"sk-item\"><div class=\"sk-label-container\"><div class=\"sk-label sk-toggleable\"><input class=\"sk-toggleable__control sk-hidden--visually\" id=\"sk-estimator-id-10\" type=\"checkbox\" ><label for=\"sk-estimator-id-10\" class=\"sk-toggleable__label sk-toggleable__label-arrow\">ohe</label><div class=\"sk-toggleable__content\"><pre>[&#x27;PlanClass_D&#x27;, &#x27;EdLevel_D&#x27;, &#x27;ItemCourse_D&#x27;, &#x27;ItemLearnYear_D&#x27;, &#x27;PeriodNumList&#x27;, &#x27;WithOnlineCourse&#x27;]</pre></div></div></div><div class=\"sk-serial\"><div class=\"sk-item\"><div class=\"sk-estimator sk-toggleable\"><input class=\"sk-toggleable__control sk-hidden--visually\" id=\"sk-estimator-id-11\" type=\"checkbox\" ><label for=\"sk-estimator-id-11\" class=\"sk-toggleable__label sk-toggleable__label-arrow\">OneHotEncoder</label><div class=\"sk-toggleable__content\"><pre>OneHotEncoder(handle_unknown=&#x27;ignore&#x27;)</pre></div></div></div></div></div></div><div class=\"sk-parallel-item\"><div class=\"sk-item\"><div class=\"sk-label-container\"><div class=\"sk-label sk-toggleable\"><input class=\"sk-toggleable__control sk-hidden--visually\" id=\"sk-estimator-id-12\" type=\"checkbox\" ><label for=\"sk-estimator-id-12\" class=\"sk-toggleable__label sk-toggleable__label-arrow\">scaling</label><div class=\"sk-toggleable__content\"><pre>[&#x27;StudCount&#x27;, &#x27;Credits&#x27;, &#x27;EntireHours&#x27;, &#x27;LectionHours&#x27;, &#x27;SeminarHours&#x27;, &#x27;PracticeHours&#x27;]</pre></div></div></div><div class=\"sk-serial\"><div class=\"sk-item\"><div class=\"sk-estimator sk-toggleable\"><input class=\"sk-toggleable__control sk-hidden--visually\" id=\"sk-estimator-id-13\" type=\"checkbox\" ><label for=\"sk-estimator-id-13\" class=\"sk-toggleable__label sk-toggleable__label-arrow\">StandardScaler</label><div class=\"sk-toggleable__content\"><pre>StandardScaler()</pre></div></div></div></div></div></div></div></div><div class=\"sk-item\"><div class=\"sk-estimator sk-toggleable\"><input class=\"sk-toggleable__control sk-hidden--visually\" id=\"sk-estimator-id-14\" type=\"checkbox\" ><label for=\"sk-estimator-id-14\" class=\"sk-toggleable__label sk-toggleable__label-arrow\">DecisionTreeRegressor</label><div class=\"sk-toggleable__content\"><pre>DecisionTreeRegressor()</pre></div></div></div></div></div></div></div>"
      ],
      "text/plain": [
       "Pipeline(steps=[('ohe_and_scaling',\n",
       "                 ColumnTransformer(transformers=[('ohe',\n",
       "                                                  OneHotEncoder(handle_unknown='ignore'),\n",
       "                                                  ['PlanClass_D', 'EdLevel_D',\n",
       "                                                   'ItemCourse_D',\n",
       "                                                   'ItemLearnYear_D',\n",
       "                                                   'PeriodNumList',\n",
       "                                                   'WithOnlineCourse']),\n",
       "                                                 ('scaling', StandardScaler(),\n",
       "                                                  ['StudCount', 'Credits',\n",
       "                                                   'EntireHours',\n",
       "                                                   'LectionHours',\n",
       "                                                   'SeminarHours',\n",
       "                                                   'PracticeHours'])])),\n",
       "                ('regression', DecisionTreeRegressor())])"
      ]
     },
     "execution_count": 45,
     "metadata": {},
     "output_type": "execute_result"
    }
   ],
   "source": [
    "base_algo(\n",
    "    numeric_col=[\"StudCount\", \"Credits\", \"EntireHours\", \"LectionHours\", \"SeminarHours\", \"PracticeHours\"],\n",
    "    categor_col=[\"PlanClass_D\", \"EdLevel_D\", \"ItemCourse_D\", \"ItemLearnYear_D\", \"PeriodNumList\", \"WithOnlineCourse\"],\n",
    "    method=DecisionTreeRegressor(),\n",
    "    no_coef=True,\n",
    "    error_func=smape)"
   ]
  },
  {
   "cell_type": "code",
   "execution_count": 42,
   "id": "a7bf72d1",
   "metadata": {},
   "outputs": [],
   "source": [
    "from sklearn import tree"
   ]
  },
  {
   "cell_type": "code",
   "execution_count": 54,
   "id": "356f8680",
   "metadata": {},
   "outputs": [
    {
     "name": "stdout",
     "output_type": "stream",
     "text": [
      "Method: DecisionTreeRegressor() \n",
      "\n",
      "Error: <function smape at 0x7fb28835a430>\n",
      "0.5833954238013328 \n",
      "\n"
     ]
    }
   ],
   "source": [
    "model_tree = base_algo(\n",
    "    numeric_col=[\"StudCount\"],\n",
    "    categor_col=[],\n",
    "    method=DecisionTreeRegressor(),\n",
    "    no_coef=True,\n",
    "    error_func=smape)"
   ]
  },
  {
   "cell_type": "code",
   "execution_count": 57,
   "id": "184066cc",
   "metadata": {},
   "outputs": [
    {
     "name": "stdout",
     "output_type": "stream",
     "text": [
      "Method: DecisionTreeRegressor(criterion='absolute_error') \n",
      "\n",
      "Error: <function smape at 0x7fb28835a430>\n",
      "0.5715934552496578 \n",
      "\n"
     ]
    }
   ],
   "source": [
    "model_tree = base_algo(\n",
    "    numeric_col=[\"StudCount\"],\n",
    "    categor_col=[],\n",
    "    method=DecisionTreeRegressor(criterion=\"absolute_error\"),\n",
    "    no_coef=True,\n",
    "    error_func=smape)"
   ]
  },
  {
   "cell_type": "code",
   "execution_count": 58,
   "id": "b722d157",
   "metadata": {},
   "outputs": [
    {
     "name": "stdout",
     "output_type": "stream",
     "text": [
      "Method: DecisionTreeRegressor(criterion='absolute_error', max_depth=3) \n",
      "\n",
      "Error: <function smape at 0x7fb28835a430>\n",
      "0.601072193127812 \n",
      "\n"
     ]
    }
   ],
   "source": [
    "model_tree = base_algo(\n",
    "    numeric_col=[\"StudCount\"],\n",
    "    categor_col=[],\n",
    "    method=DecisionTreeRegressor(criterion=\"absolute_error\", max_depth=3),\n",
    "    no_coef=True,\n",
    "    error_func=smape)"
   ]
  },
  {
   "cell_type": "code",
   "execution_count": 63,
   "id": "0d389457",
   "metadata": {},
   "outputs": [
    {
     "data": {
      "image/png": "[encoded data removed]",
      "text/plain": [
       "<Figure size 1200x1200 with 1 Axes>"
      ]
     },
     "metadata": {},
     "output_type": "display_data"
    }
   ],
   "source": [
    "plt.figure(figsize=(12, 12))\n",
    "tree.plot_tree(model_tree.named_steps['regression'])\n",
    "plt.show()"
   ]
  },
  {
   "cell_type": "code",
   "execution_count": 67,
   "id": "949cf8ab",
   "metadata": {},
   "outputs": [
    {
     "name": "stdout",
     "output_type": "stream",
     "text": [
      "Method: DecisionTreeRegressor(criterion='absolute_error') \n",
      "\n",
      "Error: <function smape at 0x7fb28835a430>\n",
      "0.5658210143509778 \n",
      "\n"
     ]
    }
   ],
   "source": [
    "model_tree = base_algo(\n",
    "    numeric_col=[\"StudCount\"],\n",
    "    categor_col=[\"PlanClass_D\", \"EdLevel_D\", \"ItemCourse_D\"],\n",
    "    method=DecisionTreeRegressor(criterion=\"absolute_error\"),\n",
    "    no_coef=True,\n",
    "    error_func=smape)"
   ]
  },
  {
   "cell_type": "code",
   "execution_count": 68,
   "id": "d781b238",
   "metadata": {},
   "outputs": [
    {
     "name": "stdout",
     "output_type": "stream",
     "text": [
      "Method: DecisionTreeRegressor(criterion='absolute_error') \n",
      "\n",
      "Error: <function smape at 0x7fb28835a430>\n",
      "0.6329233134314386 \n",
      "\n"
     ]
    }
   ],
   "source": [
    "model_tree = base_algo(\n",
    "    numeric_col=[\"StudCount\", \"Credits\", \"EntireHours\", \"LectionHours\", \"SeminarHours\", \"PracticeHours\"],\n",
    "    categor_col=[\"PlanClass_D\", \"EdLevel_D\", \"ItemCourse_D\", \"ItemLearnYear_D\", \"PeriodNumList\", \"WithOnlineCourse\"],\n",
    "    method=DecisionTreeRegressor(criterion=\"absolute_error\"),\n",
    "    no_coef=True,\n",
    "    error_func=smape)"
   ]
  },
  {
   "cell_type": "code",
   "execution_count": 74,
   "id": "13036942",
   "metadata": {},
   "outputs": [
    {
     "name": "stdout",
     "output_type": "stream",
     "text": [
      "Method: RandomForestRegressor(criterion='absolute_error') \n",
      "\n",
      "Error: <function smape at 0x7fb28835a430>\n",
      "0.5687225560106784 \n",
      "\n"
     ]
    }
   ],
   "source": [
    "model_tree = base_algo(\n",
    "    numeric_col=[\"StudCount\", \"Credits\", \"EntireHours\", \"LectionHours\", \"SeminarHours\", \"PracticeHours\"],\n",
    "    categor_col=[\"PlanClass_D\", \"EdLevel_D\", \"ItemCourse_D\", \"ItemLearnYear_D\", \"PeriodNumList\", \"WithOnlineCourse\"],\n",
    "    method=RandomForestRegressor(criterion=\"absolute_error\"),\n",
    "    no_coef=True,\n",
    "    error_func=smape)"
   ]
  },
  {
   "cell_type": "markdown",
   "id": "6422d2b0",
   "metadata": {},
   "source": [
    "# Попробуем MAE"
   ]
  },
  {
   "cell_type": "code",
   "execution_count": 14,
   "id": "8fcac090",
   "metadata": {},
   "outputs": [
    {
     "name": "stdout",
     "output_type": "stream",
     "text": [
      "Method: Lasso() \n",
      "\n",
      "Error: <function mean_absolute_error at 0x7f958ee0db80>\n",
      "15.071180076563326 \n",
      "\n",
      "\n"
     ]
    }
   ],
   "source": [
    "base_algo(\n",
    "    numeric_col=[\"StudCount\"],\n",
    "    categor_col=[],\n",
    "    method=Lasso(),\n",
    "    no_coef=True,\n",
    "    error_func=mean_absolute_error)\n",
    "print(\"\")"
   ]
  },
  {
   "cell_type": "code",
   "execution_count": 15,
   "id": "9fec517a",
   "metadata": {},
   "outputs": [
    {
     "name": "stdout",
     "output_type": "stream",
     "text": [
      "Method: Lasso() \n",
      "\n",
      "Error: <function mean_absolute_error at 0x7f958ee0db80>\n",
      "14.444248420328071 \n",
      "\n",
      "\n"
     ]
    }
   ],
   "source": [
    "base_algo(\n",
    "    numeric_col=[\"StudCount\"],\n",
    "    categor_col=[\"EdLevel_D\", \"ItemCourse_D\", \"ItemLearnYear_D\"],\n",
    "    method=Lasso(),\n",
    "    no_coef=True,\n",
    "    error_func=mean_absolute_error)\n",
    "print(\"\")"
   ]
  },
  {
   "cell_type": "code",
   "execution_count": 17,
   "id": "acbbd2a0",
   "metadata": {},
   "outputs": [
    {
     "name": "stdout",
     "output_type": "stream",
     "text": [
      "Method: DecisionTreeRegressor(criterion='absolute_error') \n",
      "\n",
      "Error: <function mean_absolute_error at 0x7f958ee0db80>\n",
      "13.946475195822455 \n",
      "\n"
     ]
    }
   ],
   "source": [
    "model_tree = base_algo(\n",
    "    numeric_col=[\"StudCount\"],\n",
    "    categor_col=[\"PlanClass_D\", \"EdLevel_D\", \"ItemCourse_D\"],\n",
    "    method=DecisionTreeRegressor(criterion=\"absolute_error\"),\n",
    "    no_coef=True,\n",
    "    error_func=mean_absolute_error)"
   ]
  },
  {
   "cell_type": "markdown",
   "id": "d06a8ff9",
   "metadata": {},
   "source": [
    "# Добавим кросс-валидацию"
   ]
  },
  {
   "cell_type": "code",
   "execution_count": 39,
   "id": "45871cba",
   "metadata": {},
   "outputs": [],
   "source": [
    "from sklearn.model_selection import cross_val_score\n",
    "from sklearn.model_selection import cross_validate\n",
    "from sklearn.metrics import make_scorer"
   ]
  },
  {
   "cell_type": "code",
   "execution_count": 42,
   "id": "185040ff",
   "metadata": {},
   "outputs": [],
   "source": [
    "def base_algo_with_validation(numeric_col, categor_col, no_coef=False, method=Ridge(), error_func=mean_squared_error, params_for_error={}):\n",
    "    X_train, X_test, y_train, y_test = train_test_split(X, y, test_size=0.3, random_state=42)\n",
    "    column_transformer = ColumnTransformer([\n",
    "        ('ohe', OneHotEncoder(handle_unknown='ignore'), categor_col),\n",
    "        ('scaling', StandardScaler(), numeric_col)\n",
    "    ])\n",
    "\n",
    "#     pipeline = Pipeline(steps=[\n",
    "#         ('ohe_and_scaling', column_transformer),\n",
    "#         ('cross_val', cross_val_score(method))\n",
    "#     ])\n",
    "\n",
    "    X_2 = column_transformer.fit_transform(X)\n",
    "#     model = pipeline.fit(X_train, y_train)\n",
    "    score = cross_validate(method, X_2, y, cv=5, scoring=make_scorer(mean_absolute_error))\n",
    "    print(score)\n",
    "#     y_pred = model.predict(X_test)\n",
    "#     err = error_func(y_test, y_pred, **params_for_error)\n",
    "#     print(\"Method:\", method, \"\\n\")\n",
    "#     print(\"Error:\", error_func)\n",
    "#     print(err, \"\\n\")\n",
    "#     if no_coef:\n",
    "#         return model\n",
    "#     coefs = model.named_steps['regression'].coef_\n",
    "#     print(\"Coefs:\")\n",
    "#     for i in coefs:\n",
    "#         print(i)\n",
    "#     return model"
   ]
  },
  {
   "cell_type": "code",
   "execution_count": 43,
   "id": "55a1b642",
   "metadata": {},
   "outputs": [
    {
     "name": "stdout",
     "output_type": "stream",
     "text": [
      "{'fit_time': array([0.02942371, 0.02137613, 0.01147914, 0.01453948, 0.01956248]), 'score_time': array([0.00133324, 0.00093937, 0.00086808, 0.00083017, 0.00083637]), 'test_score': array([15.98274083, 16.45956684, 31.11866233, 14.29209873,  9.40452578])}\n"
     ]
    }
   ],
   "source": [
    "model_tree = base_algo_with_validation(\n",
    "    numeric_col=[\"StudCount\"],\n",
    "    categor_col=[\"PlanClass_D\", \"EdLevel_D\", \"ItemCourse_D\"],\n",
    "    method=Lasso(),\n",
    "    no_coef=True,\n",
    "    error_func=mean_absolute_error)"
   ]
  },
  {
   "cell_type": "code",
   "execution_count": 44,
   "id": "16bd9b9d",
   "metadata": {},
   "outputs": [
    {
     "name": "stdout",
     "output_type": "stream",
     "text": [
      "{'fit_time': array([0.03903437, 0.0059464 , 0.00561142, 0.01513958, 0.01309991]), 'score_time': array([0.07443404, 0.00109935, 0.00442338, 0.00114942, 0.00108814]), 'test_score': array([14.65863007, 15.23259504, 31.73027553, 14.32220599, 10.24636049])}\n"
     ]
    }
   ],
   "source": [
    "model_tree = base_algo_with_validation(\n",
    "    numeric_col=[\"StudCount\"],\n",
    "    categor_col=[],\n",
    "    method=Lasso(),\n",
    "    no_coef=True,\n",
    "    error_func=mean_absolute_error)"
   ]
  },
  {
   "cell_type": "markdown",
   "id": "b7b5bb11",
   "metadata": {},
   "source": [
    "# Попробуем Catboost"
   ]
  },
  {
   "cell_type": "code",
   "execution_count": 51,
   "id": "446fd51c",
   "metadata": {},
   "outputs": [
    {
     "data": {
      "text/plain": [
       "ID                                0\n",
       "ProposalItem                      0\n",
       "PlanClass_D                       0\n",
       "EdLevel_D                         0\n",
       "ItemCourse_D                      0\n",
       "ItemLearnYear_D                   0\n",
       "StudCount                         0\n",
       "StudLearnCount                    0\n",
       "BachStudCount                     0\n",
       "MagStudCount                      0\n",
       "RegDepartment_D                 753\n",
       "Faculty_D                       753\n",
       "LearnProgram_D                 3057\n",
       "Description                       0\n",
       "LongName                          2\n",
       "SubjectClass_D                    0\n",
       "FacDepartment_D                   0\n",
       "FDFaculty_D                       2\n",
       "FDRegDepartment_D                 0\n",
       "MasterItem                        0\n",
       "MasterItemPos                     6\n",
       "ItemSource_D                     12\n",
       "AudienceScope_D               11650\n",
       "Credits                           0\n",
       "EntireHours                       0\n",
       "LectionHours                      0\n",
       "SeminarHours                      0\n",
       "PracticeHours                     0\n",
       "PeriodNumList                     0\n",
       "WithOnlineCourse                  0\n",
       "ItemLearnYear_D_discipline        0\n",
       "dtype: int64"
      ]
     },
     "execution_count": 51,
     "metadata": {},
     "output_type": "execute_result"
    }
   ],
   "source": [
    "df.isna().sum()"
   ]
  },
  {
   "cell_type": "code",
   "execution_count": 56,
   "id": "dde4e652",
   "metadata": {},
   "outputs": [],
   "source": [
    "from catboost import Pool, CatBoostRegressor\n",
    "import optuna\n",
    "# from hyperopt import fmin, hp, tpe, Trials, space_eval, STATUS_OK\n",
    "from optuna.samplers import TPESampler"
   ]
  },
  {
   "cell_type": "code",
   "execution_count": 35,
   "id": "dcb62015",
   "metadata": {},
   "outputs": [],
   "source": [
    "cat_features = [\"PlanClass_D\", \"EdLevel_D\", \"ItemCourse_D\"]\n",
    "num_features = [\"StudCount\"]"
   ]
  },
  {
   "cell_type": "code",
   "execution_count": 36,
   "id": "5b841db7",
   "metadata": {},
   "outputs": [],
   "source": [
    "cat_model = CatBoostRegressor(\n",
    "    loss_function='MAE',\n",
    "    cat_features=cat_features\n",
    ")\n",
    "\n",
    "\n",
    "# preds = cat_model.predict(X_test, prediction_type='Probability')"
   ]
  },
  {
   "cell_type": "code",
   "execution_count": 39,
   "id": "476c9bf7",
   "metadata": {},
   "outputs": [
    {
     "name": "stdout",
     "output_type": "stream",
     "text": [
      "0:\tlearn: 26.0941671\ttotal: 3.76ms\tremaining: 3.76s\n",
      "1:\tlearn: 25.6327640\ttotal: 6.89ms\tremaining: 3.44s\n",
      "2:\tlearn: 25.3859592\ttotal: 10.1ms\tremaining: 3.34s\n",
      "3:\tlearn: 25.0632588\ttotal: 12.8ms\tremaining: 3.2s\n",
      "4:\tlearn: 24.8406907\ttotal: 15ms\tremaining: 2.98s\n",
      "5:\tlearn: 24.5010741\ttotal: 17.8ms\tremaining: 2.95s\n",
      "6:\tlearn: 24.2021541\ttotal: 20.5ms\tremaining: 2.9s\n",
      "7:\tlearn: 23.8507055\ttotal: 23.1ms\tremaining: 2.86s\n",
      "8:\tlearn: 23.5480307\ttotal: 25.7ms\tremaining: 2.83s\n",
      "9:\tlearn: 23.2867363\ttotal: 28.4ms\tremaining: 2.81s\n",
      "10:\tlearn: 23.1121826\ttotal: 30.5ms\tremaining: 2.74s\n",
      "11:\tlearn: 22.8695317\ttotal: 32.7ms\tremaining: 2.69s\n",
      "12:\tlearn: 22.6432829\ttotal: 35.1ms\tremaining: 2.67s\n",
      "13:\tlearn: 22.3651642\ttotal: 37.7ms\tremaining: 2.65s\n",
      "14:\tlearn: 22.1055184\ttotal: 40.2ms\tremaining: 2.64s\n",
      "15:\tlearn: 21.9116804\ttotal: 42.3ms\tremaining: 2.6s\n",
      "16:\tlearn: 21.7210648\ttotal: 44.4ms\tremaining: 2.57s\n",
      "17:\tlearn: 21.4577470\ttotal: 47ms\tremaining: 2.56s\n",
      "18:\tlearn: 21.2527800\ttotal: 49.2ms\tremaining: 2.54s\n",
      "19:\tlearn: 21.0074966\ttotal: 51.9ms\tremaining: 2.54s\n",
      "20:\tlearn: 20.7960154\ttotal: 54.2ms\tremaining: 2.52s\n",
      "21:\tlearn: 20.6848721\ttotal: 56ms\tremaining: 2.49s\n",
      "22:\tlearn: 20.5292373\ttotal: 58.2ms\tremaining: 2.47s\n",
      "23:\tlearn: 20.4152932\ttotal: 60.7ms\tremaining: 2.47s\n",
      "24:\tlearn: 20.2257327\ttotal: 63.1ms\tremaining: 2.46s\n",
      "25:\tlearn: 20.0394012\ttotal: 65.8ms\tremaining: 2.46s\n",
      "26:\tlearn: 19.8401987\ttotal: 68.5ms\tremaining: 2.47s\n",
      "27:\tlearn: 19.6777448\ttotal: 70.6ms\tremaining: 2.45s\n",
      "28:\tlearn: 19.5446516\ttotal: 72.9ms\tremaining: 2.44s\n",
      "29:\tlearn: 19.4313275\ttotal: 75.3ms\tremaining: 2.44s\n",
      "30:\tlearn: 19.2466825\ttotal: 77.9ms\tremaining: 2.44s\n",
      "31:\tlearn: 19.1748741\ttotal: 80ms\tremaining: 2.42s\n",
      "32:\tlearn: 19.0612452\ttotal: 82.4ms\tremaining: 2.42s\n",
      "33:\tlearn: 18.9485507\ttotal: 84.7ms\tremaining: 2.41s\n",
      "34:\tlearn: 18.8405727\ttotal: 86.7ms\tremaining: 2.39s\n",
      "35:\tlearn: 18.6941685\ttotal: 88.9ms\tremaining: 2.38s\n",
      "36:\tlearn: 18.5571595\ttotal: 91.7ms\tremaining: 2.39s\n",
      "37:\tlearn: 18.4623689\ttotal: 94.3ms\tremaining: 2.39s\n",
      "38:\tlearn: 18.3676613\ttotal: 96.2ms\tremaining: 2.37s\n",
      "39:\tlearn: 18.2529310\ttotal: 98.8ms\tremaining: 2.37s\n",
      "40:\tlearn: 18.1668422\ttotal: 101ms\tremaining: 2.36s\n",
      "41:\tlearn: 18.0922461\ttotal: 103ms\tremaining: 2.35s\n",
      "42:\tlearn: 18.0082724\ttotal: 106ms\tremaining: 2.35s\n",
      "43:\tlearn: 17.9505816\ttotal: 108ms\tremaining: 2.34s\n",
      "44:\tlearn: 17.8566455\ttotal: 110ms\tremaining: 2.33s\n",
      "45:\tlearn: 17.8030022\ttotal: 112ms\tremaining: 2.32s\n",
      "46:\tlearn: 17.6917447\ttotal: 115ms\tremaining: 2.32s\n",
      "47:\tlearn: 17.6073780\ttotal: 117ms\tremaining: 2.32s\n",
      "48:\tlearn: 17.5300801\ttotal: 119ms\tremaining: 2.31s\n",
      "49:\tlearn: 17.4677675\ttotal: 121ms\tremaining: 2.3s\n",
      "50:\tlearn: 17.3884325\ttotal: 123ms\tremaining: 2.29s\n",
      "51:\tlearn: 17.2990977\ttotal: 126ms\tremaining: 2.3s\n",
      "52:\tlearn: 17.2340548\ttotal: 128ms\tremaining: 2.29s\n",
      "53:\tlearn: 17.1308260\ttotal: 131ms\tremaining: 2.3s\n",
      "54:\tlearn: 17.0307821\ttotal: 133ms\tremaining: 2.29s\n",
      "55:\tlearn: 16.9772676\ttotal: 135ms\tremaining: 2.28s\n",
      "56:\tlearn: 16.8898130\ttotal: 138ms\tremaining: 2.28s\n",
      "57:\tlearn: 16.8050921\ttotal: 140ms\tremaining: 2.28s\n",
      "58:\tlearn: 16.7267128\ttotal: 143ms\tremaining: 2.28s\n",
      "59:\tlearn: 16.6610451\ttotal: 145ms\tremaining: 2.27s\n",
      "60:\tlearn: 16.5760282\ttotal: 148ms\tremaining: 2.27s\n",
      "61:\tlearn: 16.5243089\ttotal: 150ms\tremaining: 2.27s\n",
      "62:\tlearn: 16.4510862\ttotal: 152ms\tremaining: 2.26s\n",
      "63:\tlearn: 16.4038347\ttotal: 155ms\tremaining: 2.26s\n",
      "64:\tlearn: 16.3468157\ttotal: 157ms\tremaining: 2.26s\n",
      "65:\tlearn: 16.3160156\ttotal: 159ms\tremaining: 2.25s\n",
      "66:\tlearn: 16.2652275\ttotal: 161ms\tremaining: 2.25s\n",
      "67:\tlearn: 16.2028690\ttotal: 164ms\tremaining: 2.25s\n",
      "68:\tlearn: 16.1499278\ttotal: 166ms\tremaining: 2.24s\n",
      "69:\tlearn: 16.1152814\ttotal: 168ms\tremaining: 2.24s\n",
      "70:\tlearn: 16.0703328\ttotal: 171ms\tremaining: 2.23s\n",
      "71:\tlearn: 15.9940186\ttotal: 173ms\tremaining: 2.23s\n",
      "72:\tlearn: 15.9498088\ttotal: 175ms\tremaining: 2.23s\n",
      "73:\tlearn: 15.9140795\ttotal: 178ms\tremaining: 2.22s\n",
      "74:\tlearn: 15.8737483\ttotal: 180ms\tremaining: 2.22s\n",
      "75:\tlearn: 15.8295506\ttotal: 182ms\tremaining: 2.21s\n",
      "76:\tlearn: 15.8020208\ttotal: 185ms\tremaining: 2.21s\n",
      "77:\tlearn: 15.7502072\ttotal: 187ms\tremaining: 2.21s\n",
      "78:\tlearn: 15.6917544\ttotal: 189ms\tremaining: 2.21s\n",
      "79:\tlearn: 15.6390991\ttotal: 192ms\tremaining: 2.21s\n",
      "80:\tlearn: 15.6013900\ttotal: 194ms\tremaining: 2.2s\n",
      "81:\tlearn: 15.5707074\ttotal: 197ms\tremaining: 2.2s\n",
      "82:\tlearn: 15.5492325\ttotal: 199ms\tremaining: 2.2s\n",
      "83:\tlearn: 15.4898632\ttotal: 202ms\tremaining: 2.2s\n",
      "84:\tlearn: 15.4406432\ttotal: 205ms\tremaining: 2.21s\n",
      "85:\tlearn: 15.4162091\ttotal: 207ms\tremaining: 2.2s\n",
      "86:\tlearn: 15.3638840\ttotal: 210ms\tremaining: 2.21s\n",
      "87:\tlearn: 15.3508775\ttotal: 212ms\tremaining: 2.2s\n",
      "88:\tlearn: 15.2843443\ttotal: 215ms\tremaining: 2.2s\n",
      "89:\tlearn: 15.2414705\ttotal: 217ms\tremaining: 2.2s\n",
      "90:\tlearn: 15.2088949\ttotal: 219ms\tremaining: 2.19s\n",
      "91:\tlearn: 15.1790978\ttotal: 222ms\tremaining: 2.19s\n",
      "92:\tlearn: 15.1574481\ttotal: 224ms\tremaining: 2.19s\n",
      "93:\tlearn: 15.1108598\ttotal: 227ms\tremaining: 2.18s\n",
      "94:\tlearn: 15.0861299\ttotal: 229ms\tremaining: 2.18s\n",
      "95:\tlearn: 15.0545499\ttotal: 231ms\tremaining: 2.18s\n",
      "96:\tlearn: 15.0134812\ttotal: 233ms\tremaining: 2.17s\n",
      "97:\tlearn: 14.9816092\ttotal: 236ms\tremaining: 2.17s\n",
      "98:\tlearn: 14.9614472\ttotal: 239ms\tremaining: 2.17s\n",
      "99:\tlearn: 14.9193159\ttotal: 241ms\tremaining: 2.17s\n",
      "100:\tlearn: 14.8896303\ttotal: 243ms\tremaining: 2.16s\n",
      "101:\tlearn: 14.8566903\ttotal: 245ms\tremaining: 2.16s\n",
      "102:\tlearn: 14.8264803\ttotal: 248ms\tremaining: 2.16s\n",
      "103:\tlearn: 14.7819597\ttotal: 250ms\tremaining: 2.16s\n",
      "104:\tlearn: 14.7637102\ttotal: 252ms\tremaining: 2.15s\n",
      "105:\tlearn: 14.7446236\ttotal: 254ms\tremaining: 2.15s\n",
      "106:\tlearn: 14.7203532\ttotal: 257ms\tremaining: 2.14s\n",
      "107:\tlearn: 14.7008628\ttotal: 259ms\tremaining: 2.14s\n",
      "108:\tlearn: 14.6696273\ttotal: 261ms\tremaining: 2.13s\n",
      "109:\tlearn: 14.6274825\ttotal: 263ms\tremaining: 2.13s\n",
      "110:\tlearn: 14.5952755\ttotal: 266ms\tremaining: 2.13s\n",
      "111:\tlearn: 14.5821519\ttotal: 268ms\tremaining: 2.12s\n",
      "112:\tlearn: 14.5549707\ttotal: 270ms\tremaining: 2.12s\n",
      "113:\tlearn: 14.5269954\ttotal: 273ms\tremaining: 2.12s\n",
      "114:\tlearn: 14.5130615\ttotal: 275ms\tremaining: 2.12s\n",
      "115:\tlearn: 14.4747376\ttotal: 277ms\tremaining: 2.11s\n",
      "116:\tlearn: 14.4604337\ttotal: 279ms\tremaining: 2.11s\n",
      "117:\tlearn: 14.4284739\ttotal: 282ms\tremaining: 2.11s\n",
      "118:\tlearn: 14.4034254\ttotal: 284ms\tremaining: 2.1s\n",
      "119:\tlearn: 14.3794936\ttotal: 287ms\tremaining: 2.1s\n",
      "120:\tlearn: 14.3545634\ttotal: 289ms\tremaining: 2.1s\n",
      "121:\tlearn: 14.3270051\ttotal: 291ms\tremaining: 2.1s\n",
      "122:\tlearn: 14.3221343\ttotal: 293ms\tremaining: 2.09s\n",
      "123:\tlearn: 14.2932783\ttotal: 296ms\tremaining: 2.09s\n",
      "124:\tlearn: 14.2633379\ttotal: 298ms\tremaining: 2.08s\n",
      "125:\tlearn: 14.2400698\ttotal: 300ms\tremaining: 2.08s\n",
      "126:\tlearn: 14.2098254\ttotal: 303ms\tremaining: 2.08s\n",
      "127:\tlearn: 14.2049324\ttotal: 305ms\tremaining: 2.08s\n",
      "128:\tlearn: 14.1770868\ttotal: 307ms\tremaining: 2.07s\n",
      "129:\tlearn: 14.1747381\ttotal: 309ms\tremaining: 2.07s\n",
      "130:\tlearn: 14.1579171\ttotal: 311ms\tremaining: 2.06s\n",
      "131:\tlearn: 14.1327542\ttotal: 314ms\tremaining: 2.06s\n",
      "132:\tlearn: 14.1116367\ttotal: 316ms\tremaining: 2.06s\n",
      "133:\tlearn: 14.0912964\ttotal: 319ms\tremaining: 2.06s\n",
      "134:\tlearn: 14.0686881\ttotal: 321ms\tremaining: 2.06s\n",
      "135:\tlearn: 14.0578114\ttotal: 323ms\tremaining: 2.05s\n",
      "136:\tlearn: 14.0391989\ttotal: 326ms\tremaining: 2.05s\n",
      "137:\tlearn: 14.0246508\ttotal: 328ms\tremaining: 2.04s\n",
      "138:\tlearn: 14.0172840\ttotal: 330ms\tremaining: 2.04s\n",
      "139:\tlearn: 14.0040585\ttotal: 332ms\tremaining: 2.04s\n",
      "140:\tlearn: 13.9990413\ttotal: 335ms\tremaining: 2.04s\n",
      "141:\tlearn: 13.9981633\ttotal: 337ms\tremaining: 2.03s\n",
      "142:\tlearn: 13.9779393\ttotal: 339ms\tremaining: 2.03s\n",
      "143:\tlearn: 13.9591509\ttotal: 341ms\tremaining: 2.03s\n",
      "144:\tlearn: 13.9420984\ttotal: 343ms\tremaining: 2.02s\n",
      "145:\tlearn: 13.9266783\ttotal: 346ms\tremaining: 2.02s\n",
      "146:\tlearn: 13.9237960\ttotal: 348ms\tremaining: 2.02s\n",
      "147:\tlearn: 13.9180596\ttotal: 350ms\tremaining: 2.02s\n",
      "148:\tlearn: 13.9020979\ttotal: 352ms\tremaining: 2.01s\n",
      "149:\tlearn: 13.8921475\ttotal: 355ms\tremaining: 2.01s\n",
      "150:\tlearn: 13.8760598\ttotal: 357ms\tremaining: 2s\n",
      "151:\tlearn: 13.8640718\ttotal: 359ms\tremaining: 2s\n",
      "152:\tlearn: 13.8507965\ttotal: 362ms\tremaining: 2s\n",
      "153:\tlearn: 13.8412496\ttotal: 364ms\tremaining: 2s\n",
      "154:\tlearn: 13.8300737\ttotal: 366ms\tremaining: 1.99s\n",
      "155:\tlearn: 13.8174620\ttotal: 368ms\tremaining: 1.99s\n",
      "156:\tlearn: 13.8164445\ttotal: 370ms\tremaining: 1.99s\n",
      "157:\tlearn: 13.8035903\ttotal: 372ms\tremaining: 1.98s\n",
      "158:\tlearn: 13.7937095\ttotal: 374ms\tremaining: 1.98s\n",
      "159:\tlearn: 13.7883101\ttotal: 376ms\tremaining: 1.98s\n",
      "160:\tlearn: 13.7811639\ttotal: 378ms\tremaining: 1.97s\n",
      "161:\tlearn: 13.7782824\ttotal: 380ms\tremaining: 1.97s\n",
      "162:\tlearn: 13.7679467\ttotal: 382ms\tremaining: 1.96s\n",
      "163:\tlearn: 13.7638681\ttotal: 385ms\tremaining: 1.96s\n",
      "164:\tlearn: 13.7532987\ttotal: 387ms\tremaining: 1.96s\n",
      "165:\tlearn: 13.7454846\ttotal: 390ms\tremaining: 1.96s\n",
      "166:\tlearn: 13.7356701\ttotal: 393ms\tremaining: 1.96s\n",
      "167:\tlearn: 13.7287451\ttotal: 395ms\tremaining: 1.96s\n",
      "168:\tlearn: 13.7219943\ttotal: 397ms\tremaining: 1.95s\n"
     ]
    },
    {
     "name": "stdout",
     "output_type": "stream",
     "text": [
      "169:\tlearn: 13.7136559\ttotal: 400ms\tremaining: 1.95s\n",
      "170:\tlearn: 13.7056865\ttotal: 406ms\tremaining: 1.97s\n",
      "171:\tlearn: 13.6998780\ttotal: 408ms\tremaining: 1.97s\n",
      "172:\tlearn: 13.6947281\ttotal: 411ms\tremaining: 1.96s\n",
      "173:\tlearn: 13.6882470\ttotal: 414ms\tremaining: 1.96s\n",
      "174:\tlearn: 13.6847965\ttotal: 417ms\tremaining: 1.97s\n",
      "175:\tlearn: 13.6773493\ttotal: 419ms\tremaining: 1.96s\n",
      "176:\tlearn: 13.6729311\ttotal: 422ms\tremaining: 1.96s\n",
      "177:\tlearn: 13.6678015\ttotal: 424ms\tremaining: 1.96s\n",
      "178:\tlearn: 13.6635660\ttotal: 427ms\tremaining: 1.96s\n",
      "179:\tlearn: 13.6577486\ttotal: 430ms\tremaining: 1.96s\n",
      "180:\tlearn: 13.6558847\ttotal: 432ms\tremaining: 1.95s\n",
      "181:\tlearn: 13.6500089\ttotal: 434ms\tremaining: 1.95s\n",
      "182:\tlearn: 13.6500028\ttotal: 436ms\tremaining: 1.95s\n",
      "183:\tlearn: 13.6424974\ttotal: 438ms\tremaining: 1.94s\n",
      "184:\tlearn: 13.6370307\ttotal: 440ms\tremaining: 1.94s\n",
      "185:\tlearn: 13.6329894\ttotal: 443ms\tremaining: 1.94s\n",
      "186:\tlearn: 13.6263217\ttotal: 445ms\tremaining: 1.93s\n",
      "187:\tlearn: 13.6258939\ttotal: 447ms\tremaining: 1.93s\n",
      "188:\tlearn: 13.6234308\ttotal: 449ms\tremaining: 1.93s\n",
      "189:\tlearn: 13.6200846\ttotal: 451ms\tremaining: 1.92s\n",
      "190:\tlearn: 13.6147080\ttotal: 454ms\tremaining: 1.92s\n",
      "191:\tlearn: 13.6101287\ttotal: 456ms\tremaining: 1.92s\n",
      "192:\tlearn: 13.6061694\ttotal: 459ms\tremaining: 1.92s\n",
      "193:\tlearn: 13.6054686\ttotal: 461ms\tremaining: 1.91s\n",
      "194:\tlearn: 13.5991115\ttotal: 463ms\tremaining: 1.91s\n",
      "195:\tlearn: 13.5977067\ttotal: 465ms\tremaining: 1.91s\n",
      "196:\tlearn: 13.5924542\ttotal: 468ms\tremaining: 1.91s\n",
      "197:\tlearn: 13.5865539\ttotal: 470ms\tremaining: 1.9s\n",
      "198:\tlearn: 13.5852301\ttotal: 472ms\tremaining: 1.9s\n",
      "199:\tlearn: 13.5843869\ttotal: 474ms\tremaining: 1.9s\n",
      "200:\tlearn: 13.5815893\ttotal: 476ms\tremaining: 1.89s\n",
      "201:\tlearn: 13.5794142\ttotal: 479ms\tremaining: 1.89s\n",
      "202:\tlearn: 13.5779436\ttotal: 481ms\tremaining: 1.89s\n",
      "203:\tlearn: 13.5755772\ttotal: 483ms\tremaining: 1.88s\n",
      "204:\tlearn: 13.5746080\ttotal: 485ms\tremaining: 1.88s\n",
      "205:\tlearn: 13.5734666\ttotal: 487ms\tremaining: 1.88s\n",
      "206:\tlearn: 13.5734649\ttotal: 489ms\tremaining: 1.87s\n",
      "207:\tlearn: 13.5734633\ttotal: 490ms\tremaining: 1.87s\n",
      "208:\tlearn: 13.5730946\ttotal: 492ms\tremaining: 1.86s\n",
      "209:\tlearn: 13.5722895\ttotal: 494ms\tremaining: 1.86s\n",
      "210:\tlearn: 13.5696636\ttotal: 497ms\tremaining: 1.86s\n",
      "211:\tlearn: 13.5666419\ttotal: 499ms\tremaining: 1.85s\n",
      "212:\tlearn: 13.5655745\ttotal: 501ms\tremaining: 1.85s\n",
      "213:\tlearn: 13.5634102\ttotal: 503ms\tremaining: 1.85s\n",
      "214:\tlearn: 13.5624648\ttotal: 505ms\tremaining: 1.84s\n",
      "215:\tlearn: 13.5618415\ttotal: 507ms\tremaining: 1.84s\n",
      "216:\tlearn: 13.5616133\ttotal: 509ms\tremaining: 1.84s\n",
      "217:\tlearn: 13.5613935\ttotal: 511ms\tremaining: 1.83s\n",
      "218:\tlearn: 13.5581535\ttotal: 513ms\tremaining: 1.83s\n",
      "219:\tlearn: 13.5567568\ttotal: 516ms\tremaining: 1.83s\n",
      "220:\tlearn: 13.5566330\ttotal: 518ms\tremaining: 1.82s\n",
      "221:\tlearn: 13.5561764\ttotal: 520ms\tremaining: 1.82s\n",
      "222:\tlearn: 13.5534500\ttotal: 522ms\tremaining: 1.82s\n",
      "223:\tlearn: 13.5427500\ttotal: 524ms\tremaining: 1.81s\n",
      "224:\tlearn: 13.5421122\ttotal: 526ms\tremaining: 1.81s\n",
      "225:\tlearn: 13.5406233\ttotal: 528ms\tremaining: 1.81s\n",
      "226:\tlearn: 13.5405586\ttotal: 529ms\tremaining: 1.8s\n",
      "227:\tlearn: 13.5401905\ttotal: 531ms\tremaining: 1.8s\n",
      "228:\tlearn: 13.5268441\ttotal: 533ms\tremaining: 1.8s\n",
      "229:\tlearn: 13.5267156\ttotal: 536ms\tremaining: 1.79s\n",
      "230:\tlearn: 13.5218183\ttotal: 538ms\tremaining: 1.79s\n",
      "231:\tlearn: 13.5172079\ttotal: 540ms\tremaining: 1.79s\n",
      "232:\tlearn: 13.5128938\ttotal: 543ms\tremaining: 1.79s\n",
      "233:\tlearn: 13.5127278\ttotal: 545ms\tremaining: 1.78s\n",
      "234:\tlearn: 13.5099765\ttotal: 547ms\tremaining: 1.78s\n",
      "235:\tlearn: 13.5064322\ttotal: 549ms\tremaining: 1.78s\n",
      "236:\tlearn: 13.5059983\ttotal: 551ms\tremaining: 1.77s\n",
      "237:\tlearn: 13.4981168\ttotal: 553ms\tremaining: 1.77s\n",
      "238:\tlearn: 13.4958834\ttotal: 556ms\tremaining: 1.77s\n",
      "239:\tlearn: 13.4941859\ttotal: 558ms\tremaining: 1.77s\n",
      "240:\tlearn: 13.4921327\ttotal: 560ms\tremaining: 1.76s\n",
      "241:\tlearn: 13.4903118\ttotal: 562ms\tremaining: 1.76s\n",
      "242:\tlearn: 13.4833369\ttotal: 564ms\tremaining: 1.76s\n",
      "243:\tlearn: 13.4821466\ttotal: 566ms\tremaining: 1.75s\n",
      "244:\tlearn: 13.4805413\ttotal: 569ms\tremaining: 1.75s\n",
      "245:\tlearn: 13.4772937\ttotal: 571ms\tremaining: 1.75s\n",
      "246:\tlearn: 13.4769386\ttotal: 573ms\tremaining: 1.75s\n",
      "247:\tlearn: 13.4766240\ttotal: 575ms\tremaining: 1.74s\n",
      "248:\tlearn: 13.4656211\ttotal: 577ms\tremaining: 1.74s\n",
      "249:\tlearn: 13.4630308\ttotal: 579ms\tremaining: 1.74s\n",
      "250:\tlearn: 13.4607694\ttotal: 581ms\tremaining: 1.73s\n",
      "251:\tlearn: 13.4583970\ttotal: 584ms\tremaining: 1.73s\n",
      "252:\tlearn: 13.4571186\ttotal: 586ms\tremaining: 1.73s\n",
      "253:\tlearn: 13.4569260\ttotal: 588ms\tremaining: 1.73s\n",
      "254:\tlearn: 13.4493279\ttotal: 590ms\tremaining: 1.72s\n",
      "255:\tlearn: 13.4477217\ttotal: 592ms\tremaining: 1.72s\n",
      "256:\tlearn: 13.4412618\ttotal: 594ms\tremaining: 1.72s\n",
      "257:\tlearn: 13.4364382\ttotal: 597ms\tremaining: 1.72s\n",
      "258:\tlearn: 13.4326401\ttotal: 599ms\tremaining: 1.71s\n",
      "259:\tlearn: 13.4303122\ttotal: 602ms\tremaining: 1.71s\n",
      "260:\tlearn: 13.4248165\ttotal: 604ms\tremaining: 1.71s\n",
      "261:\tlearn: 13.4165234\ttotal: 607ms\tremaining: 1.71s\n",
      "262:\tlearn: 13.4153326\ttotal: 609ms\tremaining: 1.71s\n",
      "263:\tlearn: 13.4112345\ttotal: 612ms\tremaining: 1.71s\n",
      "264:\tlearn: 13.4106727\ttotal: 614ms\tremaining: 1.7s\n",
      "265:\tlearn: 13.4045293\ttotal: 617ms\tremaining: 1.7s\n",
      "266:\tlearn: 13.4037907\ttotal: 619ms\tremaining: 1.7s\n",
      "267:\tlearn: 13.4037798\ttotal: 621ms\tremaining: 1.7s\n",
      "268:\tlearn: 13.3946791\ttotal: 623ms\tremaining: 1.69s\n",
      "269:\tlearn: 13.3902066\ttotal: 625ms\tremaining: 1.69s\n",
      "270:\tlearn: 13.3878330\ttotal: 628ms\tremaining: 1.69s\n",
      "271:\tlearn: 13.3857565\ttotal: 630ms\tremaining: 1.69s\n",
      "272:\tlearn: 13.3856242\ttotal: 632ms\tremaining: 1.68s\n",
      "273:\tlearn: 13.3852511\ttotal: 634ms\tremaining: 1.68s\n",
      "274:\tlearn: 13.3847761\ttotal: 636ms\tremaining: 1.68s\n",
      "275:\tlearn: 13.3845277\ttotal: 639ms\tremaining: 1.68s\n",
      "276:\tlearn: 13.3844610\ttotal: 641ms\tremaining: 1.67s\n",
      "277:\tlearn: 13.3842944\ttotal: 643ms\tremaining: 1.67s\n",
      "278:\tlearn: 13.3834523\ttotal: 645ms\tremaining: 1.67s\n",
      "279:\tlearn: 13.3827267\ttotal: 648ms\tremaining: 1.67s\n",
      "280:\tlearn: 13.3818591\ttotal: 651ms\tremaining: 1.66s\n",
      "281:\tlearn: 13.3818219\ttotal: 653ms\tremaining: 1.66s\n",
      "282:\tlearn: 13.3818077\ttotal: 654ms\tremaining: 1.66s\n",
      "283:\tlearn: 13.3785455\ttotal: 656ms\tremaining: 1.65s\n",
      "284:\tlearn: 13.3779521\ttotal: 659ms\tremaining: 1.65s\n",
      "285:\tlearn: 13.3768763\ttotal: 660ms\tremaining: 1.65s\n",
      "286:\tlearn: 13.3762078\ttotal: 663ms\tremaining: 1.65s\n",
      "287:\tlearn: 13.3760197\ttotal: 665ms\tremaining: 1.64s\n",
      "288:\tlearn: 13.3741414\ttotal: 668ms\tremaining: 1.64s\n",
      "289:\tlearn: 13.3736507\ttotal: 670ms\tremaining: 1.64s\n",
      "290:\tlearn: 13.3721157\ttotal: 672ms\tremaining: 1.64s\n",
      "291:\tlearn: 13.3720393\ttotal: 674ms\tremaining: 1.63s\n",
      "292:\tlearn: 13.3689306\ttotal: 677ms\tremaining: 1.63s\n",
      "293:\tlearn: 13.3619773\ttotal: 679ms\tremaining: 1.63s\n",
      "294:\tlearn: 13.3610382\ttotal: 681ms\tremaining: 1.63s\n",
      "295:\tlearn: 13.3603429\ttotal: 683ms\tremaining: 1.63s\n",
      "296:\tlearn: 13.3598971\ttotal: 685ms\tremaining: 1.62s\n",
      "297:\tlearn: 13.3577552\ttotal: 688ms\tremaining: 1.62s\n",
      "298:\tlearn: 13.3565116\ttotal: 690ms\tremaining: 1.62s\n",
      "299:\tlearn: 13.3559705\ttotal: 693ms\tremaining: 1.62s\n",
      "300:\tlearn: 13.3557875\ttotal: 695ms\tremaining: 1.61s\n",
      "301:\tlearn: 13.3542964\ttotal: 697ms\tremaining: 1.61s\n",
      "302:\tlearn: 13.3539758\ttotal: 699ms\tremaining: 1.61s\n",
      "303:\tlearn: 13.3514478\ttotal: 702ms\tremaining: 1.61s\n",
      "304:\tlearn: 13.3512846\ttotal: 704ms\tremaining: 1.6s\n",
      "305:\tlearn: 13.3500911\ttotal: 706ms\tremaining: 1.6s\n",
      "306:\tlearn: 13.3482156\ttotal: 708ms\tremaining: 1.6s\n",
      "307:\tlearn: 13.3481167\ttotal: 710ms\tremaining: 1.59s\n",
      "308:\tlearn: 13.3466601\ttotal: 712ms\tremaining: 1.59s\n",
      "309:\tlearn: 13.3412420\ttotal: 715ms\tremaining: 1.59s\n",
      "310:\tlearn: 13.3387524\ttotal: 717ms\tremaining: 1.59s\n",
      "311:\tlearn: 13.3367351\ttotal: 720ms\tremaining: 1.59s\n",
      "312:\tlearn: 13.3357135\ttotal: 723ms\tremaining: 1.59s\n",
      "313:\tlearn: 13.3357126\ttotal: 724ms\tremaining: 1.58s\n",
      "314:\tlearn: 13.3351081\ttotal: 727ms\tremaining: 1.58s\n",
      "315:\tlearn: 13.3350515\ttotal: 729ms\tremaining: 1.58s\n",
      "316:\tlearn: 13.3339024\ttotal: 731ms\tremaining: 1.57s\n",
      "317:\tlearn: 13.3331664\ttotal: 733ms\tremaining: 1.57s\n",
      "318:\tlearn: 13.3329146\ttotal: 737ms\tremaining: 1.57s\n",
      "319:\tlearn: 13.3326595\ttotal: 739ms\tremaining: 1.57s\n",
      "320:\tlearn: 13.3324785\ttotal: 741ms\tremaining: 1.57s\n",
      "321:\tlearn: 13.3323675\ttotal: 743ms\tremaining: 1.56s\n",
      "322:\tlearn: 13.3316124\ttotal: 745ms\tremaining: 1.56s\n",
      "323:\tlearn: 13.3312321\ttotal: 747ms\tremaining: 1.56s\n",
      "324:\tlearn: 13.3288734\ttotal: 750ms\tremaining: 1.56s\n",
      "325:\tlearn: 13.3274180\ttotal: 753ms\tremaining: 1.56s\n",
      "326:\tlearn: 13.3272076\ttotal: 755ms\tremaining: 1.55s\n",
      "327:\tlearn: 13.3240438\ttotal: 758ms\tremaining: 1.55s\n",
      "328:\tlearn: 13.3239008\ttotal: 761ms\tremaining: 1.55s\n",
      "329:\tlearn: 13.3209073\ttotal: 763ms\tremaining: 1.55s\n",
      "330:\tlearn: 13.3191991\ttotal: 766ms\tremaining: 1.55s\n",
      "331:\tlearn: 13.3190328\ttotal: 767ms\tremaining: 1.54s\n",
      "332:\tlearn: 13.3188561\ttotal: 770ms\tremaining: 1.54s\n",
      "333:\tlearn: 13.3187389\ttotal: 772ms\tremaining: 1.54s\n",
      "334:\tlearn: 13.3181133\ttotal: 775ms\tremaining: 1.54s\n",
      "335:\tlearn: 13.3125134\ttotal: 777ms\tremaining: 1.53s\n",
      "336:\tlearn: 13.3118313\ttotal: 779ms\tremaining: 1.53s\n",
      "337:\tlearn: 13.3106807\ttotal: 782ms\tremaining: 1.53s\n",
      "338:\tlearn: 13.3106119\ttotal: 784ms\tremaining: 1.53s\n",
      "339:\tlearn: 13.3096920\ttotal: 786ms\tremaining: 1.53s\n",
      "340:\tlearn: 13.3085425\ttotal: 789ms\tremaining: 1.52s\n",
      "341:\tlearn: 13.3068937\ttotal: 791ms\tremaining: 1.52s\n"
     ]
    },
    {
     "name": "stdout",
     "output_type": "stream",
     "text": [
      "342:\tlearn: 13.3066151\ttotal: 793ms\tremaining: 1.52s\n",
      "343:\tlearn: 13.3064884\ttotal: 795ms\tremaining: 1.52s\n",
      "344:\tlearn: 13.3055453\ttotal: 798ms\tremaining: 1.51s\n",
      "345:\tlearn: 13.3054639\ttotal: 801ms\tremaining: 1.51s\n",
      "346:\tlearn: 13.3045905\ttotal: 803ms\tremaining: 1.51s\n",
      "347:\tlearn: 13.3037549\ttotal: 805ms\tremaining: 1.51s\n",
      "348:\tlearn: 13.3035267\ttotal: 807ms\tremaining: 1.51s\n",
      "349:\tlearn: 13.3020969\ttotal: 810ms\tremaining: 1.5s\n",
      "350:\tlearn: 13.2988408\ttotal: 813ms\tremaining: 1.5s\n",
      "351:\tlearn: 13.2988046\ttotal: 815ms\tremaining: 1.5s\n",
      "352:\tlearn: 13.2987029\ttotal: 817ms\tremaining: 1.5s\n",
      "353:\tlearn: 13.2964774\ttotal: 819ms\tremaining: 1.5s\n",
      "354:\tlearn: 13.2957480\ttotal: 823ms\tremaining: 1.49s\n",
      "355:\tlearn: 13.2953852\ttotal: 825ms\tremaining: 1.49s\n",
      "356:\tlearn: 13.2950353\ttotal: 829ms\tremaining: 1.49s\n",
      "357:\tlearn: 13.2949945\ttotal: 831ms\tremaining: 1.49s\n",
      "358:\tlearn: 13.2940606\ttotal: 833ms\tremaining: 1.49s\n",
      "359:\tlearn: 13.2939944\ttotal: 835ms\tremaining: 1.48s\n",
      "360:\tlearn: 13.2882809\ttotal: 838ms\tremaining: 1.48s\n",
      "361:\tlearn: 13.2878487\ttotal: 840ms\tremaining: 1.48s\n",
      "362:\tlearn: 13.2856420\ttotal: 842ms\tremaining: 1.48s\n",
      "363:\tlearn: 13.2853106\ttotal: 845ms\tremaining: 1.48s\n",
      "364:\tlearn: 13.2846475\ttotal: 847ms\tremaining: 1.47s\n",
      "365:\tlearn: 13.2841515\ttotal: 850ms\tremaining: 1.47s\n",
      "366:\tlearn: 13.2769676\ttotal: 852ms\tremaining: 1.47s\n",
      "367:\tlearn: 13.2760540\ttotal: 855ms\tremaining: 1.47s\n",
      "368:\tlearn: 13.2739138\ttotal: 857ms\tremaining: 1.47s\n",
      "369:\tlearn: 13.2736523\ttotal: 860ms\tremaining: 1.46s\n",
      "370:\tlearn: 13.2734983\ttotal: 861ms\tremaining: 1.46s\n",
      "371:\tlearn: 13.2715029\ttotal: 864ms\tremaining: 1.46s\n",
      "372:\tlearn: 13.2711831\ttotal: 866ms\tremaining: 1.46s\n",
      "373:\tlearn: 13.2711171\ttotal: 869ms\tremaining: 1.45s\n",
      "374:\tlearn: 13.2662058\ttotal: 871ms\tremaining: 1.45s\n",
      "375:\tlearn: 13.2651983\ttotal: 874ms\tremaining: 1.45s\n",
      "376:\tlearn: 13.2648929\ttotal: 876ms\tremaining: 1.45s\n",
      "377:\tlearn: 13.2607509\ttotal: 879ms\tremaining: 1.45s\n",
      "378:\tlearn: 13.2605326\ttotal: 883ms\tremaining: 1.45s\n",
      "379:\tlearn: 13.2601088\ttotal: 885ms\tremaining: 1.44s\n",
      "380:\tlearn: 13.2575332\ttotal: 889ms\tremaining: 1.44s\n",
      "381:\tlearn: 13.2574444\ttotal: 891ms\tremaining: 1.44s\n",
      "382:\tlearn: 13.2559926\ttotal: 893ms\tremaining: 1.44s\n",
      "383:\tlearn: 13.2557788\ttotal: 895ms\tremaining: 1.44s\n",
      "384:\tlearn: 13.2531396\ttotal: 897ms\tremaining: 1.43s\n",
      "385:\tlearn: 13.2529543\ttotal: 900ms\tremaining: 1.43s\n",
      "386:\tlearn: 13.2519993\ttotal: 902ms\tremaining: 1.43s\n",
      "387:\tlearn: 13.2519719\ttotal: 905ms\tremaining: 1.43s\n",
      "388:\tlearn: 13.2504214\ttotal: 907ms\tremaining: 1.42s\n",
      "389:\tlearn: 13.2498926\ttotal: 909ms\tremaining: 1.42s\n",
      "390:\tlearn: 13.2494728\ttotal: 912ms\tremaining: 1.42s\n",
      "391:\tlearn: 13.2493966\ttotal: 914ms\tremaining: 1.42s\n",
      "392:\tlearn: 13.2489686\ttotal: 916ms\tremaining: 1.41s\n",
      "393:\tlearn: 13.2487467\ttotal: 918ms\tremaining: 1.41s\n",
      "394:\tlearn: 13.2486415\ttotal: 920ms\tremaining: 1.41s\n",
      "395:\tlearn: 13.2469891\ttotal: 923ms\tremaining: 1.41s\n",
      "396:\tlearn: 13.2468675\ttotal: 925ms\tremaining: 1.4s\n",
      "397:\tlearn: 13.2453914\ttotal: 927ms\tremaining: 1.4s\n",
      "398:\tlearn: 13.2446952\ttotal: 930ms\tremaining: 1.4s\n",
      "399:\tlearn: 13.2444444\ttotal: 932ms\tremaining: 1.4s\n",
      "400:\tlearn: 13.2412239\ttotal: 934ms\tremaining: 1.4s\n",
      "401:\tlearn: 13.2410142\ttotal: 937ms\tremaining: 1.39s\n",
      "402:\tlearn: 13.2407889\ttotal: 939ms\tremaining: 1.39s\n",
      "403:\tlearn: 13.2407333\ttotal: 942ms\tremaining: 1.39s\n",
      "404:\tlearn: 13.2388956\ttotal: 945ms\tremaining: 1.39s\n",
      "405:\tlearn: 13.2362269\ttotal: 948ms\tremaining: 1.39s\n",
      "406:\tlearn: 13.2348039\ttotal: 951ms\tremaining: 1.39s\n",
      "407:\tlearn: 13.2336402\ttotal: 955ms\tremaining: 1.39s\n",
      "408:\tlearn: 13.2329180\ttotal: 958ms\tremaining: 1.38s\n",
      "409:\tlearn: 13.2328437\ttotal: 960ms\tremaining: 1.38s\n",
      "410:\tlearn: 13.2309666\ttotal: 962ms\tremaining: 1.38s\n",
      "411:\tlearn: 13.2308458\ttotal: 964ms\tremaining: 1.38s\n",
      "412:\tlearn: 13.2303712\ttotal: 967ms\tremaining: 1.37s\n",
      "413:\tlearn: 13.2284248\ttotal: 969ms\tremaining: 1.37s\n",
      "414:\tlearn: 13.2283744\ttotal: 971ms\tremaining: 1.37s\n",
      "415:\tlearn: 13.2276036\ttotal: 973ms\tremaining: 1.37s\n",
      "416:\tlearn: 13.2272105\ttotal: 975ms\tremaining: 1.36s\n",
      "417:\tlearn: 13.2260909\ttotal: 978ms\tremaining: 1.36s\n",
      "418:\tlearn: 13.2259757\ttotal: 980ms\tremaining: 1.36s\n",
      "419:\tlearn: 13.2256937\ttotal: 982ms\tremaining: 1.36s\n",
      "420:\tlearn: 13.2206637\ttotal: 985ms\tremaining: 1.35s\n",
      "421:\tlearn: 13.2199988\ttotal: 988ms\tremaining: 1.35s\n",
      "422:\tlearn: 13.2197430\ttotal: 990ms\tremaining: 1.35s\n",
      "423:\tlearn: 13.2190120\ttotal: 994ms\tremaining: 1.35s\n",
      "424:\tlearn: 13.2188946\ttotal: 997ms\tremaining: 1.35s\n",
      "425:\tlearn: 13.2183559\ttotal: 1s\tremaining: 1.35s\n",
      "426:\tlearn: 13.2167409\ttotal: 1s\tremaining: 1.35s\n",
      "427:\tlearn: 13.2160960\ttotal: 1.01s\tremaining: 1.34s\n",
      "428:\tlearn: 13.2155481\ttotal: 1.01s\tremaining: 1.34s\n",
      "429:\tlearn: 13.2153941\ttotal: 1.01s\tremaining: 1.34s\n",
      "430:\tlearn: 13.2151687\ttotal: 1.01s\tremaining: 1.34s\n",
      "431:\tlearn: 13.2128653\ttotal: 1.02s\tremaining: 1.34s\n",
      "432:\tlearn: 13.2123274\ttotal: 1.02s\tremaining: 1.33s\n",
      "433:\tlearn: 13.2122449\ttotal: 1.02s\tremaining: 1.33s\n",
      "434:\tlearn: 13.2107459\ttotal: 1.02s\tremaining: 1.33s\n",
      "435:\tlearn: 13.2104718\ttotal: 1.03s\tremaining: 1.33s\n",
      "436:\tlearn: 13.2083513\ttotal: 1.03s\tremaining: 1.32s\n",
      "437:\tlearn: 13.2081761\ttotal: 1.03s\tremaining: 1.32s\n",
      "438:\tlearn: 13.2053229\ttotal: 1.03s\tremaining: 1.32s\n",
      "439:\tlearn: 13.2049851\ttotal: 1.03s\tremaining: 1.32s\n",
      "440:\tlearn: 13.2028338\ttotal: 1.04s\tremaining: 1.31s\n",
      "441:\tlearn: 13.2015150\ttotal: 1.04s\tremaining: 1.31s\n",
      "442:\tlearn: 13.2009178\ttotal: 1.04s\tremaining: 1.31s\n",
      "443:\tlearn: 13.1997592\ttotal: 1.05s\tremaining: 1.31s\n",
      "444:\tlearn: 13.1982999\ttotal: 1.05s\tremaining: 1.31s\n",
      "445:\tlearn: 13.1982046\ttotal: 1.05s\tremaining: 1.3s\n",
      "446:\tlearn: 13.1976194\ttotal: 1.05s\tremaining: 1.3s\n",
      "447:\tlearn: 13.1964498\ttotal: 1.05s\tremaining: 1.3s\n",
      "448:\tlearn: 13.1949366\ttotal: 1.06s\tremaining: 1.3s\n",
      "449:\tlearn: 13.1946732\ttotal: 1.06s\tremaining: 1.29s\n",
      "450:\tlearn: 13.1945159\ttotal: 1.06s\tremaining: 1.29s\n",
      "451:\tlearn: 13.1941739\ttotal: 1.06s\tremaining: 1.29s\n",
      "452:\tlearn: 13.1940409\ttotal: 1.06s\tremaining: 1.29s\n",
      "453:\tlearn: 13.1927237\ttotal: 1.07s\tremaining: 1.28s\n",
      "454:\tlearn: 13.1918694\ttotal: 1.07s\tremaining: 1.28s\n",
      "455:\tlearn: 13.1881142\ttotal: 1.07s\tremaining: 1.28s\n",
      "456:\tlearn: 13.1880614\ttotal: 1.08s\tremaining: 1.28s\n",
      "457:\tlearn: 13.1877127\ttotal: 1.08s\tremaining: 1.28s\n",
      "458:\tlearn: 13.1861668\ttotal: 1.08s\tremaining: 1.27s\n",
      "459:\tlearn: 13.1856718\ttotal: 1.08s\tremaining: 1.27s\n",
      "460:\tlearn: 13.1838723\ttotal: 1.09s\tremaining: 1.27s\n",
      "461:\tlearn: 13.1830392\ttotal: 1.09s\tremaining: 1.27s\n",
      "462:\tlearn: 13.1826455\ttotal: 1.09s\tremaining: 1.26s\n",
      "463:\tlearn: 13.1824466\ttotal: 1.09s\tremaining: 1.26s\n",
      "464:\tlearn: 13.1806188\ttotal: 1.09s\tremaining: 1.26s\n",
      "465:\tlearn: 13.1800127\ttotal: 1.1s\tremaining: 1.26s\n",
      "466:\tlearn: 13.1793172\ttotal: 1.1s\tremaining: 1.26s\n",
      "467:\tlearn: 13.1773564\ttotal: 1.1s\tremaining: 1.25s\n",
      "468:\tlearn: 13.1744202\ttotal: 1.11s\tremaining: 1.25s\n",
      "469:\tlearn: 13.1742778\ttotal: 1.11s\tremaining: 1.25s\n",
      "470:\tlearn: 13.1740188\ttotal: 1.11s\tremaining: 1.25s\n",
      "471:\tlearn: 13.1738423\ttotal: 1.11s\tremaining: 1.25s\n",
      "472:\tlearn: 13.1634379\ttotal: 1.12s\tremaining: 1.24s\n",
      "473:\tlearn: 13.1614233\ttotal: 1.12s\tremaining: 1.24s\n",
      "474:\tlearn: 13.1608671\ttotal: 1.12s\tremaining: 1.24s\n",
      "475:\tlearn: 13.1602501\ttotal: 1.12s\tremaining: 1.24s\n",
      "476:\tlearn: 13.1600186\ttotal: 1.13s\tremaining: 1.24s\n",
      "477:\tlearn: 13.1579620\ttotal: 1.13s\tremaining: 1.23s\n",
      "478:\tlearn: 13.1575635\ttotal: 1.13s\tremaining: 1.23s\n",
      "479:\tlearn: 13.1567990\ttotal: 1.13s\tremaining: 1.23s\n",
      "480:\tlearn: 13.1566288\ttotal: 1.14s\tremaining: 1.23s\n",
      "481:\tlearn: 13.1563249\ttotal: 1.14s\tremaining: 1.22s\n",
      "482:\tlearn: 13.1543289\ttotal: 1.14s\tremaining: 1.22s\n",
      "483:\tlearn: 13.1541409\ttotal: 1.14s\tremaining: 1.22s\n",
      "484:\tlearn: 13.1532224\ttotal: 1.15s\tremaining: 1.22s\n",
      "485:\tlearn: 13.1530550\ttotal: 1.15s\tremaining: 1.22s\n",
      "486:\tlearn: 13.1526482\ttotal: 1.15s\tremaining: 1.21s\n",
      "487:\tlearn: 13.1502802\ttotal: 1.15s\tremaining: 1.21s\n",
      "488:\tlearn: 13.1499089\ttotal: 1.16s\tremaining: 1.21s\n",
      "489:\tlearn: 13.1498526\ttotal: 1.16s\tremaining: 1.21s\n",
      "490:\tlearn: 13.1496842\ttotal: 1.16s\tremaining: 1.2s\n",
      "491:\tlearn: 13.1486461\ttotal: 1.16s\tremaining: 1.2s\n",
      "492:\tlearn: 13.1459013\ttotal: 1.17s\tremaining: 1.2s\n",
      "493:\tlearn: 13.1446603\ttotal: 1.17s\tremaining: 1.2s\n",
      "494:\tlearn: 13.1444969\ttotal: 1.17s\tremaining: 1.2s\n",
      "495:\tlearn: 13.1442672\ttotal: 1.18s\tremaining: 1.19s\n",
      "496:\tlearn: 13.1437613\ttotal: 1.18s\tremaining: 1.19s\n",
      "497:\tlearn: 13.1432140\ttotal: 1.18s\tremaining: 1.19s\n",
      "498:\tlearn: 13.1430028\ttotal: 1.18s\tremaining: 1.19s\n",
      "499:\tlearn: 13.1429778\ttotal: 1.18s\tremaining: 1.18s\n"
     ]
    },
    {
     "name": "stdout",
     "output_type": "stream",
     "text": [
      "500:\tlearn: 13.1429496\ttotal: 1.19s\tremaining: 1.18s\n",
      "501:\tlearn: 13.1423192\ttotal: 1.19s\tremaining: 1.18s\n",
      "502:\tlearn: 13.1420942\ttotal: 1.19s\tremaining: 1.18s\n",
      "503:\tlearn: 13.1419244\ttotal: 1.2s\tremaining: 1.18s\n",
      "504:\tlearn: 13.1418413\ttotal: 1.2s\tremaining: 1.17s\n",
      "505:\tlearn: 13.1416915\ttotal: 1.2s\tremaining: 1.17s\n",
      "506:\tlearn: 13.1409520\ttotal: 1.2s\tremaining: 1.17s\n",
      "507:\tlearn: 13.1404492\ttotal: 1.2s\tremaining: 1.17s\n",
      "508:\tlearn: 13.1403456\ttotal: 1.21s\tremaining: 1.16s\n",
      "509:\tlearn: 13.1380128\ttotal: 1.21s\tremaining: 1.16s\n",
      "510:\tlearn: 13.1379189\ttotal: 1.21s\tremaining: 1.16s\n",
      "511:\tlearn: 13.1378113\ttotal: 1.22s\tremaining: 1.16s\n",
      "512:\tlearn: 13.1377625\ttotal: 1.22s\tremaining: 1.16s\n",
      "513:\tlearn: 13.1376934\ttotal: 1.22s\tremaining: 1.15s\n",
      "514:\tlearn: 13.1371275\ttotal: 1.22s\tremaining: 1.15s\n",
      "515:\tlearn: 13.1369548\ttotal: 1.22s\tremaining: 1.15s\n",
      "516:\tlearn: 13.1362840\ttotal: 1.23s\tremaining: 1.15s\n",
      "517:\tlearn: 13.1352110\ttotal: 1.23s\tremaining: 1.15s\n",
      "518:\tlearn: 13.1326659\ttotal: 1.23s\tremaining: 1.14s\n",
      "519:\tlearn: 13.1323556\ttotal: 1.24s\tremaining: 1.14s\n",
      "520:\tlearn: 13.1315649\ttotal: 1.24s\tremaining: 1.14s\n",
      "521:\tlearn: 13.1306507\ttotal: 1.24s\tremaining: 1.14s\n",
      "522:\tlearn: 13.1303973\ttotal: 1.24s\tremaining: 1.13s\n",
      "523:\tlearn: 13.1294159\ttotal: 1.25s\tremaining: 1.13s\n",
      "524:\tlearn: 13.1291844\ttotal: 1.25s\tremaining: 1.13s\n",
      "525:\tlearn: 13.1288611\ttotal: 1.25s\tremaining: 1.13s\n",
      "526:\tlearn: 13.1286662\ttotal: 1.25s\tremaining: 1.13s\n",
      "527:\tlearn: 13.1284313\ttotal: 1.25s\tremaining: 1.12s\n",
      "528:\tlearn: 13.1279830\ttotal: 1.26s\tremaining: 1.12s\n",
      "529:\tlearn: 13.1279693\ttotal: 1.26s\tremaining: 1.12s\n",
      "530:\tlearn: 13.1275537\ttotal: 1.26s\tremaining: 1.11s\n",
      "531:\tlearn: 13.1273831\ttotal: 1.26s\tremaining: 1.11s\n",
      "532:\tlearn: 13.1268614\ttotal: 1.27s\tremaining: 1.11s\n",
      "533:\tlearn: 13.1260815\ttotal: 1.27s\tremaining: 1.11s\n",
      "534:\tlearn: 13.1256965\ttotal: 1.27s\tremaining: 1.11s\n",
      "535:\tlearn: 13.1255823\ttotal: 1.27s\tremaining: 1.1s\n",
      "536:\tlearn: 13.1235736\ttotal: 1.28s\tremaining: 1.1s\n",
      "537:\tlearn: 13.1235068\ttotal: 1.28s\tremaining: 1.1s\n",
      "538:\tlearn: 13.1233855\ttotal: 1.28s\tremaining: 1.1s\n",
      "539:\tlearn: 13.1227826\ttotal: 1.28s\tremaining: 1.09s\n",
      "540:\tlearn: 13.1224127\ttotal: 1.29s\tremaining: 1.09s\n",
      "541:\tlearn: 13.1223379\ttotal: 1.29s\tremaining: 1.09s\n",
      "542:\tlearn: 13.1219401\ttotal: 1.29s\tremaining: 1.09s\n",
      "543:\tlearn: 13.1216189\ttotal: 1.29s\tremaining: 1.08s\n",
      "544:\tlearn: 13.1195220\ttotal: 1.3s\tremaining: 1.08s\n",
      "545:\tlearn: 13.1194324\ttotal: 1.3s\tremaining: 1.08s\n",
      "546:\tlearn: 13.1177014\ttotal: 1.3s\tremaining: 1.08s\n",
      "547:\tlearn: 13.1175859\ttotal: 1.3s\tremaining: 1.08s\n",
      "548:\tlearn: 13.1173202\ttotal: 1.31s\tremaining: 1.07s\n",
      "549:\tlearn: 13.1162616\ttotal: 1.31s\tremaining: 1.07s\n",
      "550:\tlearn: 13.1162198\ttotal: 1.31s\tremaining: 1.07s\n",
      "551:\tlearn: 13.1155820\ttotal: 1.32s\tremaining: 1.07s\n",
      "552:\tlearn: 13.1151764\ttotal: 1.32s\tremaining: 1.06s\n",
      "553:\tlearn: 13.1138260\ttotal: 1.32s\tremaining: 1.06s\n",
      "554:\tlearn: 13.1119611\ttotal: 1.32s\tremaining: 1.06s\n",
      "555:\tlearn: 13.1106080\ttotal: 1.33s\tremaining: 1.06s\n",
      "556:\tlearn: 13.1105878\ttotal: 1.33s\tremaining: 1.06s\n",
      "557:\tlearn: 13.1101426\ttotal: 1.33s\tremaining: 1.05s\n",
      "558:\tlearn: 13.1097726\ttotal: 1.33s\tremaining: 1.05s\n",
      "559:\tlearn: 13.1069323\ttotal: 1.34s\tremaining: 1.05s\n",
      "560:\tlearn: 13.1065663\ttotal: 1.34s\tremaining: 1.05s\n",
      "561:\tlearn: 13.1065522\ttotal: 1.34s\tremaining: 1.05s\n",
      "562:\tlearn: 13.1061615\ttotal: 1.34s\tremaining: 1.04s\n",
      "563:\tlearn: 13.1061088\ttotal: 1.35s\tremaining: 1.04s\n",
      "564:\tlearn: 13.1058931\ttotal: 1.35s\tremaining: 1.04s\n",
      "565:\tlearn: 13.1058558\ttotal: 1.35s\tremaining: 1.04s\n",
      "566:\tlearn: 13.0953064\ttotal: 1.35s\tremaining: 1.03s\n",
      "567:\tlearn: 13.0934724\ttotal: 1.36s\tremaining: 1.03s\n",
      "568:\tlearn: 13.0933570\ttotal: 1.36s\tremaining: 1.03s\n",
      "569:\tlearn: 13.0931987\ttotal: 1.36s\tremaining: 1.03s\n",
      "570:\tlearn: 13.0931764\ttotal: 1.36s\tremaining: 1.02s\n",
      "571:\tlearn: 13.0907204\ttotal: 1.37s\tremaining: 1.02s\n",
      "572:\tlearn: 13.0907115\ttotal: 1.37s\tremaining: 1.02s\n",
      "573:\tlearn: 13.0906922\ttotal: 1.37s\tremaining: 1.02s\n",
      "574:\tlearn: 13.0894079\ttotal: 1.37s\tremaining: 1.01s\n",
      "575:\tlearn: 13.0869353\ttotal: 1.38s\tremaining: 1.01s\n",
      "576:\tlearn: 13.0856543\ttotal: 1.38s\tremaining: 1.01s\n",
      "577:\tlearn: 13.0848976\ttotal: 1.38s\tremaining: 1.01s\n",
      "578:\tlearn: 13.0846485\ttotal: 1.38s\tremaining: 1.01s\n",
      "579:\tlearn: 13.0844598\ttotal: 1.39s\tremaining: 1s\n",
      "580:\tlearn: 13.0839271\ttotal: 1.39s\tremaining: 1s\n",
      "581:\tlearn: 13.0836715\ttotal: 1.39s\tremaining: 1s\n",
      "582:\tlearn: 13.0812406\ttotal: 1.4s\tremaining: 998ms\n",
      "583:\tlearn: 13.0810560\ttotal: 1.4s\tremaining: 996ms\n",
      "584:\tlearn: 13.0805600\ttotal: 1.4s\tremaining: 994ms\n",
      "585:\tlearn: 13.0804926\ttotal: 1.4s\tremaining: 991ms\n",
      "586:\tlearn: 13.0803090\ttotal: 1.41s\tremaining: 989ms\n",
      "587:\tlearn: 13.0784907\ttotal: 1.41s\tremaining: 987ms\n",
      "588:\tlearn: 13.0771626\ttotal: 1.41s\tremaining: 984ms\n",
      "589:\tlearn: 13.0768835\ttotal: 1.41s\tremaining: 982ms\n",
      "590:\tlearn: 13.0764069\ttotal: 1.42s\tremaining: 980ms\n",
      "591:\tlearn: 13.0755411\ttotal: 1.42s\tremaining: 978ms\n",
      "592:\tlearn: 13.0754400\ttotal: 1.42s\tremaining: 975ms\n",
      "593:\tlearn: 13.0754067\ttotal: 1.42s\tremaining: 972ms\n",
      "594:\tlearn: 13.0741624\ttotal: 1.43s\tremaining: 970ms\n",
      "595:\tlearn: 13.0736085\ttotal: 1.43s\tremaining: 968ms\n",
      "596:\tlearn: 13.0732079\ttotal: 1.43s\tremaining: 965ms\n",
      "597:\tlearn: 13.0727947\ttotal: 1.43s\tremaining: 963ms\n",
      "598:\tlearn: 13.0727578\ttotal: 1.43s\tremaining: 960ms\n",
      "599:\tlearn: 13.0721609\ttotal: 1.44s\tremaining: 958ms\n",
      "600:\tlearn: 13.0713373\ttotal: 1.44s\tremaining: 955ms\n",
      "601:\tlearn: 13.0708495\ttotal: 1.44s\tremaining: 953ms\n",
      "602:\tlearn: 13.0708131\ttotal: 1.44s\tremaining: 950ms\n",
      "603:\tlearn: 13.0707868\ttotal: 1.45s\tremaining: 948ms\n",
      "604:\tlearn: 13.0702303\ttotal: 1.45s\tremaining: 945ms\n",
      "605:\tlearn: 13.0675517\ttotal: 1.45s\tremaining: 942ms\n",
      "606:\tlearn: 13.0670584\ttotal: 1.45s\tremaining: 940ms\n",
      "607:\tlearn: 13.0665922\ttotal: 1.45s\tremaining: 937ms\n",
      "608:\tlearn: 13.0631636\ttotal: 1.46s\tremaining: 935ms\n",
      "609:\tlearn: 13.0629289\ttotal: 1.46s\tremaining: 933ms\n",
      "610:\tlearn: 13.0627335\ttotal: 1.46s\tremaining: 930ms\n",
      "611:\tlearn: 13.0625486\ttotal: 1.46s\tremaining: 928ms\n",
      "612:\tlearn: 13.0614215\ttotal: 1.47s\tremaining: 925ms\n",
      "613:\tlearn: 13.0609162\ttotal: 1.47s\tremaining: 923ms\n",
      "614:\tlearn: 13.0608519\ttotal: 1.47s\tremaining: 920ms\n",
      "615:\tlearn: 13.0582017\ttotal: 1.47s\tremaining: 918ms\n",
      "616:\tlearn: 13.0571080\ttotal: 1.48s\tremaining: 916ms\n",
      "617:\tlearn: 13.0565412\ttotal: 1.48s\tremaining: 913ms\n",
      "618:\tlearn: 13.0559042\ttotal: 1.48s\tremaining: 911ms\n",
      "619:\tlearn: 13.0558785\ttotal: 1.48s\tremaining: 908ms\n",
      "620:\tlearn: 13.0552477\ttotal: 1.48s\tremaining: 906ms\n",
      "621:\tlearn: 13.0545414\ttotal: 1.49s\tremaining: 903ms\n",
      "622:\tlearn: 13.0544324\ttotal: 1.49s\tremaining: 901ms\n",
      "623:\tlearn: 13.0544093\ttotal: 1.49s\tremaining: 898ms\n",
      "624:\tlearn: 13.0543501\ttotal: 1.49s\tremaining: 896ms\n",
      "625:\tlearn: 13.0522465\ttotal: 1.5s\tremaining: 894ms\n",
      "626:\tlearn: 13.0521390\ttotal: 1.5s\tremaining: 891ms\n",
      "627:\tlearn: 13.0517344\ttotal: 1.5s\tremaining: 889ms\n",
      "628:\tlearn: 13.0509930\ttotal: 1.5s\tremaining: 887ms\n",
      "629:\tlearn: 13.0505535\ttotal: 1.5s\tremaining: 884ms\n",
      "630:\tlearn: 13.0502171\ttotal: 1.51s\tremaining: 882ms\n",
      "631:\tlearn: 13.0500989\ttotal: 1.51s\tremaining: 879ms\n",
      "632:\tlearn: 13.0500658\ttotal: 1.51s\tremaining: 877ms\n",
      "633:\tlearn: 13.0498725\ttotal: 1.51s\tremaining: 874ms\n",
      "634:\tlearn: 13.0495296\ttotal: 1.52s\tremaining: 872ms\n",
      "635:\tlearn: 13.0493802\ttotal: 1.52s\tremaining: 869ms\n",
      "636:\tlearn: 13.0487729\ttotal: 1.52s\tremaining: 867ms\n",
      "637:\tlearn: 13.0486195\ttotal: 1.52s\tremaining: 864ms\n",
      "638:\tlearn: 13.0477149\ttotal: 1.52s\tremaining: 862ms\n",
      "639:\tlearn: 13.0472520\ttotal: 1.53s\tremaining: 859ms\n",
      "640:\tlearn: 13.0469391\ttotal: 1.53s\tremaining: 857ms\n",
      "641:\tlearn: 13.0463052\ttotal: 1.53s\tremaining: 855ms\n",
      "642:\tlearn: 13.0461647\ttotal: 1.53s\tremaining: 852ms\n",
      "643:\tlearn: 13.0460795\ttotal: 1.54s\tremaining: 850ms\n",
      "644:\tlearn: 13.0460387\ttotal: 1.54s\tremaining: 848ms\n",
      "645:\tlearn: 13.0451712\ttotal: 1.54s\tremaining: 845ms\n",
      "646:\tlearn: 13.0446630\ttotal: 1.54s\tremaining: 843ms\n",
      "647:\tlearn: 13.0414060\ttotal: 1.55s\tremaining: 840ms\n",
      "648:\tlearn: 13.0413151\ttotal: 1.55s\tremaining: 838ms\n",
      "649:\tlearn: 13.0411128\ttotal: 1.55s\tremaining: 835ms\n",
      "650:\tlearn: 13.0400790\ttotal: 1.55s\tremaining: 833ms\n",
      "651:\tlearn: 13.0400123\ttotal: 1.55s\tremaining: 830ms\n",
      "652:\tlearn: 13.0394960\ttotal: 1.56s\tremaining: 828ms\n",
      "653:\tlearn: 13.0389525\ttotal: 1.56s\tremaining: 825ms\n",
      "654:\tlearn: 13.0388436\ttotal: 1.56s\tremaining: 823ms\n",
      "655:\tlearn: 13.0384869\ttotal: 1.56s\tremaining: 820ms\n",
      "656:\tlearn: 13.0286180\ttotal: 1.57s\tremaining: 818ms\n",
      "657:\tlearn: 13.0285995\ttotal: 1.57s\tremaining: 815ms\n",
      "658:\tlearn: 13.0283996\ttotal: 1.57s\tremaining: 813ms\n",
      "659:\tlearn: 13.0279261\ttotal: 1.57s\tremaining: 811ms\n",
      "660:\tlearn: 13.0277437\ttotal: 1.58s\tremaining: 808ms\n"
     ]
    },
    {
     "name": "stdout",
     "output_type": "stream",
     "text": [
      "661:\tlearn: 13.0276244\ttotal: 1.58s\tremaining: 806ms\n",
      "662:\tlearn: 13.0225108\ttotal: 1.58s\tremaining: 804ms\n",
      "663:\tlearn: 13.0218929\ttotal: 1.58s\tremaining: 801ms\n",
      "664:\tlearn: 13.0216995\ttotal: 1.59s\tremaining: 799ms\n",
      "665:\tlearn: 13.0216128\ttotal: 1.59s\tremaining: 797ms\n",
      "666:\tlearn: 13.0213813\ttotal: 1.59s\tremaining: 795ms\n",
      "667:\tlearn: 13.0210387\ttotal: 1.59s\tremaining: 793ms\n",
      "668:\tlearn: 13.0204181\ttotal: 1.6s\tremaining: 790ms\n",
      "669:\tlearn: 13.0196368\ttotal: 1.6s\tremaining: 788ms\n",
      "670:\tlearn: 13.0101940\ttotal: 1.6s\tremaining: 786ms\n",
      "671:\tlearn: 13.0090533\ttotal: 1.6s\tremaining: 783ms\n",
      "672:\tlearn: 13.0089794\ttotal: 1.61s\tremaining: 781ms\n",
      "673:\tlearn: 13.0081464\ttotal: 1.61s\tremaining: 779ms\n",
      "674:\tlearn: 13.0081188\ttotal: 1.61s\tremaining: 776ms\n",
      "675:\tlearn: 13.0080826\ttotal: 1.61s\tremaining: 774ms\n",
      "676:\tlearn: 13.0077996\ttotal: 1.62s\tremaining: 771ms\n",
      "677:\tlearn: 13.0071722\ttotal: 1.62s\tremaining: 769ms\n",
      "678:\tlearn: 13.0069584\ttotal: 1.62s\tremaining: 767ms\n",
      "679:\tlearn: 12.9977089\ttotal: 1.63s\tremaining: 765ms\n",
      "680:\tlearn: 12.9960013\ttotal: 1.63s\tremaining: 763ms\n",
      "681:\tlearn: 12.9959709\ttotal: 1.63s\tremaining: 760ms\n",
      "682:\tlearn: 12.9958693\ttotal: 1.63s\tremaining: 758ms\n",
      "683:\tlearn: 12.9955077\ttotal: 1.63s\tremaining: 755ms\n",
      "684:\tlearn: 12.9954780\ttotal: 1.64s\tremaining: 753ms\n",
      "685:\tlearn: 12.9949919\ttotal: 1.64s\tremaining: 751ms\n",
      "686:\tlearn: 12.9947083\ttotal: 1.64s\tremaining: 748ms\n",
      "687:\tlearn: 12.9946327\ttotal: 1.64s\tremaining: 746ms\n",
      "688:\tlearn: 12.9940630\ttotal: 1.65s\tremaining: 744ms\n",
      "689:\tlearn: 12.9937044\ttotal: 1.65s\tremaining: 741ms\n",
      "690:\tlearn: 12.9933570\ttotal: 1.65s\tremaining: 739ms\n",
      "691:\tlearn: 12.9932444\ttotal: 1.65s\tremaining: 736ms\n",
      "692:\tlearn: 12.9932371\ttotal: 1.66s\tremaining: 734ms\n",
      "693:\tlearn: 12.9867817\ttotal: 1.66s\tremaining: 732ms\n",
      "694:\tlearn: 12.9865974\ttotal: 1.66s\tremaining: 729ms\n",
      "695:\tlearn: 12.9856908\ttotal: 1.67s\tremaining: 727ms\n",
      "696:\tlearn: 12.9855965\ttotal: 1.67s\tremaining: 725ms\n",
      "697:\tlearn: 12.9854862\ttotal: 1.67s\tremaining: 723ms\n",
      "698:\tlearn: 12.9851777\ttotal: 1.67s\tremaining: 721ms\n",
      "699:\tlearn: 12.9850956\ttotal: 1.68s\tremaining: 718ms\n",
      "700:\tlearn: 12.9776690\ttotal: 1.68s\tremaining: 716ms\n",
      "701:\tlearn: 12.9773308\ttotal: 1.68s\tremaining: 714ms\n",
      "702:\tlearn: 12.9771866\ttotal: 1.69s\tremaining: 712ms\n",
      "703:\tlearn: 12.9768571\ttotal: 1.69s\tremaining: 710ms\n",
      "704:\tlearn: 12.9765486\ttotal: 1.69s\tremaining: 708ms\n",
      "705:\tlearn: 12.9759317\ttotal: 1.69s\tremaining: 705ms\n",
      "706:\tlearn: 12.9757838\ttotal: 1.7s\tremaining: 703ms\n",
      "707:\tlearn: 12.9745360\ttotal: 1.7s\tremaining: 700ms\n",
      "708:\tlearn: 12.9732182\ttotal: 1.7s\tremaining: 698ms\n",
      "709:\tlearn: 12.9728230\ttotal: 1.7s\tremaining: 695ms\n",
      "710:\tlearn: 12.9727196\ttotal: 1.7s\tremaining: 693ms\n",
      "711:\tlearn: 12.9726609\ttotal: 1.71s\tremaining: 690ms\n",
      "712:\tlearn: 12.9714503\ttotal: 1.71s\tremaining: 688ms\n",
      "713:\tlearn: 12.9713491\ttotal: 1.71s\tremaining: 685ms\n",
      "714:\tlearn: 12.9712524\ttotal: 1.71s\tremaining: 683ms\n",
      "715:\tlearn: 12.9711582\ttotal: 1.72s\tremaining: 681ms\n",
      "716:\tlearn: 12.9706278\ttotal: 1.72s\tremaining: 678ms\n",
      "717:\tlearn: 12.9703965\ttotal: 1.72s\tremaining: 676ms\n",
      "718:\tlearn: 12.9697417\ttotal: 1.72s\tremaining: 673ms\n",
      "719:\tlearn: 12.9687516\ttotal: 1.73s\tremaining: 671ms\n",
      "720:\tlearn: 12.9668698\ttotal: 1.73s\tremaining: 669ms\n",
      "721:\tlearn: 12.9667690\ttotal: 1.73s\tremaining: 667ms\n",
      "722:\tlearn: 12.9664159\ttotal: 1.73s\tremaining: 664ms\n",
      "723:\tlearn: 12.9663949\ttotal: 1.74s\tremaining: 662ms\n",
      "724:\tlearn: 12.9663426\ttotal: 1.74s\tremaining: 660ms\n",
      "725:\tlearn: 12.9659411\ttotal: 1.74s\tremaining: 657ms\n",
      "726:\tlearn: 12.9655223\ttotal: 1.74s\tremaining: 655ms\n",
      "727:\tlearn: 12.9654549\ttotal: 1.75s\tremaining: 653ms\n",
      "728:\tlearn: 12.9648740\ttotal: 1.75s\tremaining: 650ms\n",
      "729:\tlearn: 12.9645061\ttotal: 1.75s\tremaining: 648ms\n",
      "730:\tlearn: 12.9643874\ttotal: 1.75s\tremaining: 645ms\n",
      "731:\tlearn: 12.9643642\ttotal: 1.75s\tremaining: 643ms\n",
      "732:\tlearn: 12.9642383\ttotal: 1.76s\tremaining: 640ms\n",
      "733:\tlearn: 12.9636064\ttotal: 1.76s\tremaining: 638ms\n",
      "734:\tlearn: 12.9632903\ttotal: 1.76s\tremaining: 635ms\n",
      "735:\tlearn: 12.9632661\ttotal: 1.76s\tremaining: 633ms\n",
      "736:\tlearn: 12.9632487\ttotal: 1.77s\tremaining: 631ms\n",
      "737:\tlearn: 12.9625976\ttotal: 1.77s\tremaining: 628ms\n",
      "738:\tlearn: 12.9625827\ttotal: 1.77s\tremaining: 626ms\n",
      "739:\tlearn: 12.9625180\ttotal: 1.77s\tremaining: 623ms\n",
      "740:\tlearn: 12.9621296\ttotal: 1.78s\tremaining: 621ms\n",
      "741:\tlearn: 12.9616422\ttotal: 1.78s\tremaining: 619ms\n",
      "742:\tlearn: 12.9614550\ttotal: 1.78s\tremaining: 616ms\n",
      "743:\tlearn: 12.9609806\ttotal: 1.78s\tremaining: 614ms\n",
      "744:\tlearn: 12.9608462\ttotal: 1.78s\tremaining: 611ms\n",
      "745:\tlearn: 12.9605846\ttotal: 1.79s\tremaining: 609ms\n",
      "746:\tlearn: 12.9601386\ttotal: 1.79s\tremaining: 607ms\n",
      "747:\tlearn: 12.9598537\ttotal: 1.79s\tremaining: 604ms\n",
      "748:\tlearn: 12.9597232\ttotal: 1.8s\tremaining: 602ms\n",
      "749:\tlearn: 12.9595431\ttotal: 1.8s\tremaining: 600ms\n",
      "750:\tlearn: 12.9590006\ttotal: 1.8s\tremaining: 598ms\n",
      "751:\tlearn: 12.9587954\ttotal: 1.8s\tremaining: 595ms\n",
      "752:\tlearn: 12.9587317\ttotal: 1.81s\tremaining: 593ms\n",
      "753:\tlearn: 12.9586551\ttotal: 1.81s\tremaining: 591ms\n",
      "754:\tlearn: 12.9584867\ttotal: 1.81s\tremaining: 588ms\n",
      "755:\tlearn: 12.9583670\ttotal: 1.81s\tremaining: 586ms\n",
      "756:\tlearn: 12.9578613\ttotal: 1.82s\tremaining: 583ms\n",
      "757:\tlearn: 12.9576288\ttotal: 1.82s\tremaining: 581ms\n",
      "758:\tlearn: 12.9574724\ttotal: 1.82s\tremaining: 578ms\n",
      "759:\tlearn: 12.9574153\ttotal: 1.82s\tremaining: 576ms\n",
      "760:\tlearn: 12.9571819\ttotal: 1.83s\tremaining: 574ms\n",
      "761:\tlearn: 12.9567416\ttotal: 1.83s\tremaining: 571ms\n",
      "762:\tlearn: 12.9562580\ttotal: 1.83s\tremaining: 569ms\n",
      "763:\tlearn: 12.9559526\ttotal: 1.83s\tremaining: 566ms\n",
      "764:\tlearn: 12.9555215\ttotal: 1.83s\tremaining: 564ms\n",
      "765:\tlearn: 12.9550487\ttotal: 1.84s\tremaining: 561ms\n",
      "766:\tlearn: 12.9549698\ttotal: 1.84s\tremaining: 559ms\n",
      "767:\tlearn: 12.9549081\ttotal: 1.84s\tremaining: 557ms\n",
      "768:\tlearn: 12.9534806\ttotal: 1.85s\tremaining: 555ms\n",
      "769:\tlearn: 12.9534398\ttotal: 1.85s\tremaining: 552ms\n",
      "770:\tlearn: 12.9533000\ttotal: 1.85s\tremaining: 550ms\n",
      "771:\tlearn: 12.9532445\ttotal: 1.85s\tremaining: 547ms\n",
      "772:\tlearn: 12.9531310\ttotal: 1.85s\tremaining: 545ms\n",
      "773:\tlearn: 12.9530990\ttotal: 1.86s\tremaining: 542ms\n",
      "774:\tlearn: 12.9521688\ttotal: 1.86s\tremaining: 540ms\n",
      "775:\tlearn: 12.9521623\ttotal: 1.86s\tremaining: 537ms\n",
      "776:\tlearn: 12.9515414\ttotal: 1.86s\tremaining: 535ms\n",
      "777:\tlearn: 12.9514911\ttotal: 1.86s\tremaining: 532ms\n",
      "778:\tlearn: 12.9465631\ttotal: 1.87s\tremaining: 530ms\n",
      "779:\tlearn: 12.9465311\ttotal: 1.87s\tremaining: 528ms\n",
      "780:\tlearn: 12.9457654\ttotal: 1.87s\tremaining: 525ms\n",
      "781:\tlearn: 12.9457027\ttotal: 1.88s\tremaining: 523ms\n",
      "782:\tlearn: 12.9455121\ttotal: 1.88s\tremaining: 520ms\n",
      "783:\tlearn: 12.9451146\ttotal: 1.88s\tremaining: 518ms\n",
      "784:\tlearn: 12.9426581\ttotal: 1.88s\tremaining: 516ms\n",
      "785:\tlearn: 12.9388980\ttotal: 1.89s\tremaining: 514ms\n",
      "786:\tlearn: 12.9388952\ttotal: 1.89s\tremaining: 511ms\n",
      "787:\tlearn: 12.9387971\ttotal: 1.89s\tremaining: 509ms\n",
      "788:\tlearn: 12.9387113\ttotal: 1.89s\tremaining: 506ms\n",
      "789:\tlearn: 12.9385724\ttotal: 1.9s\tremaining: 504ms\n",
      "790:\tlearn: 12.9366744\ttotal: 1.9s\tremaining: 501ms\n",
      "791:\tlearn: 12.9358130\ttotal: 1.9s\tremaining: 499ms\n",
      "792:\tlearn: 12.9357444\ttotal: 1.9s\tremaining: 497ms\n",
      "793:\tlearn: 12.9356838\ttotal: 1.9s\tremaining: 494ms\n",
      "794:\tlearn: 12.9355656\ttotal: 1.91s\tremaining: 492ms\n",
      "795:\tlearn: 12.9354561\ttotal: 1.91s\tremaining: 489ms\n",
      "796:\tlearn: 12.9354139\ttotal: 1.91s\tremaining: 487ms\n",
      "797:\tlearn: 12.9351971\ttotal: 1.91s\tremaining: 485ms\n",
      "798:\tlearn: 12.9351130\ttotal: 1.92s\tremaining: 482ms\n",
      "799:\tlearn: 12.9350518\ttotal: 1.92s\tremaining: 480ms\n",
      "800:\tlearn: 12.9257628\ttotal: 1.92s\tremaining: 478ms\n",
      "801:\tlearn: 12.9254920\ttotal: 1.92s\tremaining: 475ms\n",
      "802:\tlearn: 12.9254211\ttotal: 1.93s\tremaining: 473ms\n",
      "803:\tlearn: 12.9253768\ttotal: 1.93s\tremaining: 471ms\n",
      "804:\tlearn: 12.9251153\ttotal: 1.93s\tremaining: 468ms\n",
      "805:\tlearn: 12.9245908\ttotal: 1.94s\tremaining: 466ms\n",
      "806:\tlearn: 12.9245568\ttotal: 1.94s\tremaining: 464ms\n",
      "807:\tlearn: 12.9243847\ttotal: 1.94s\tremaining: 462ms\n",
      "808:\tlearn: 12.9243183\ttotal: 1.95s\tremaining: 459ms\n",
      "809:\tlearn: 12.9237928\ttotal: 1.95s\tremaining: 457ms\n",
      "810:\tlearn: 12.9233552\ttotal: 1.95s\tremaining: 455ms\n",
      "811:\tlearn: 12.9226934\ttotal: 1.95s\tremaining: 452ms\n",
      "812:\tlearn: 12.9215628\ttotal: 1.96s\tremaining: 450ms\n",
      "813:\tlearn: 12.9214830\ttotal: 1.96s\tremaining: 447ms\n",
      "814:\tlearn: 12.9214628\ttotal: 1.96s\tremaining: 445ms\n",
      "815:\tlearn: 12.9204354\ttotal: 1.96s\tremaining: 443ms\n",
      "816:\tlearn: 12.9203047\ttotal: 1.97s\tremaining: 440ms\n",
      "817:\tlearn: 12.9198679\ttotal: 1.97s\tremaining: 438ms\n",
      "818:\tlearn: 12.9193504\ttotal: 1.97s\tremaining: 435ms\n"
     ]
    },
    {
     "name": "stdout",
     "output_type": "stream",
     "text": [
      "819:\tlearn: 12.9192828\ttotal: 1.97s\tremaining: 433ms\n",
      "820:\tlearn: 12.9192253\ttotal: 1.98s\tremaining: 431ms\n",
      "821:\tlearn: 12.9186235\ttotal: 1.98s\tremaining: 429ms\n",
      "822:\tlearn: 12.9185827\ttotal: 1.98s\tremaining: 426ms\n",
      "823:\tlearn: 12.9182784\ttotal: 1.98s\tremaining: 424ms\n",
      "824:\tlearn: 12.9182239\ttotal: 1.99s\tremaining: 421ms\n",
      "825:\tlearn: 12.9095133\ttotal: 1.99s\tremaining: 419ms\n",
      "826:\tlearn: 12.9094950\ttotal: 1.99s\tremaining: 417ms\n",
      "827:\tlearn: 12.9093801\ttotal: 2s\tremaining: 414ms\n",
      "828:\tlearn: 12.9093410\ttotal: 2s\tremaining: 412ms\n",
      "829:\tlearn: 12.9079580\ttotal: 2s\tremaining: 410ms\n",
      "830:\tlearn: 12.9076123\ttotal: 2s\tremaining: 407ms\n",
      "831:\tlearn: 12.9075874\ttotal: 2.01s\tremaining: 405ms\n",
      "832:\tlearn: 12.9072968\ttotal: 2.01s\tremaining: 403ms\n",
      "833:\tlearn: 12.9071604\ttotal: 2.01s\tremaining: 400ms\n",
      "834:\tlearn: 12.9064753\ttotal: 2.01s\tremaining: 398ms\n",
      "835:\tlearn: 12.9064243\ttotal: 2.02s\tremaining: 396ms\n",
      "836:\tlearn: 12.8993370\ttotal: 2.02s\tremaining: 393ms\n",
      "837:\tlearn: 12.8992685\ttotal: 2.02s\tremaining: 391ms\n",
      "838:\tlearn: 12.8908724\ttotal: 2.02s\tremaining: 389ms\n",
      "839:\tlearn: 12.8907082\ttotal: 2.03s\tremaining: 386ms\n",
      "840:\tlearn: 12.8905078\ttotal: 2.03s\tremaining: 384ms\n",
      "841:\tlearn: 12.8904260\ttotal: 2.03s\tremaining: 381ms\n",
      "842:\tlearn: 12.8877029\ttotal: 2.04s\tremaining: 379ms\n",
      "843:\tlearn: 12.8876853\ttotal: 2.04s\tremaining: 377ms\n",
      "844:\tlearn: 12.8876373\ttotal: 2.04s\tremaining: 374ms\n",
      "845:\tlearn: 12.8876115\ttotal: 2.04s\tremaining: 372ms\n",
      "846:\tlearn: 12.8875969\ttotal: 2.05s\tremaining: 370ms\n",
      "847:\tlearn: 12.8875563\ttotal: 2.05s\tremaining: 368ms\n",
      "848:\tlearn: 12.8848089\ttotal: 2.05s\tremaining: 365ms\n",
      "849:\tlearn: 12.8826369\ttotal: 2.06s\tremaining: 363ms\n",
      "850:\tlearn: 12.8824776\ttotal: 2.06s\tremaining: 360ms\n",
      "851:\tlearn: 12.8819145\ttotal: 2.06s\tremaining: 358ms\n",
      "852:\tlearn: 12.8810831\ttotal: 2.06s\tremaining: 356ms\n",
      "853:\tlearn: 12.8808450\ttotal: 2.06s\tremaining: 353ms\n",
      "854:\tlearn: 12.8803618\ttotal: 2.07s\tremaining: 351ms\n",
      "855:\tlearn: 12.8803521\ttotal: 2.07s\tremaining: 348ms\n",
      "856:\tlearn: 12.8803089\ttotal: 2.07s\tremaining: 346ms\n",
      "857:\tlearn: 12.8799343\ttotal: 2.08s\tremaining: 344ms\n",
      "858:\tlearn: 12.8799128\ttotal: 2.08s\tremaining: 341ms\n",
      "859:\tlearn: 12.8790550\ttotal: 2.08s\tremaining: 339ms\n",
      "860:\tlearn: 12.8790289\ttotal: 2.08s\tremaining: 336ms\n",
      "861:\tlearn: 12.8763334\ttotal: 2.08s\tremaining: 334ms\n",
      "862:\tlearn: 12.8762454\ttotal: 2.09s\tremaining: 331ms\n",
      "863:\tlearn: 12.8757478\ttotal: 2.09s\tremaining: 329ms\n",
      "864:\tlearn: 12.8755429\ttotal: 2.09s\tremaining: 327ms\n",
      "865:\tlearn: 12.8751344\ttotal: 2.09s\tremaining: 324ms\n",
      "866:\tlearn: 12.8750968\ttotal: 2.1s\tremaining: 322ms\n",
      "867:\tlearn: 12.8750381\ttotal: 2.1s\tremaining: 319ms\n",
      "868:\tlearn: 12.8748784\ttotal: 2.1s\tremaining: 317ms\n",
      "869:\tlearn: 12.8748597\ttotal: 2.1s\tremaining: 314ms\n",
      "870:\tlearn: 12.8746368\ttotal: 2.11s\tremaining: 312ms\n",
      "871:\tlearn: 12.8744372\ttotal: 2.11s\tremaining: 309ms\n",
      "872:\tlearn: 12.8743637\ttotal: 2.11s\tremaining: 307ms\n",
      "873:\tlearn: 12.8743048\ttotal: 2.11s\tremaining: 305ms\n",
      "874:\tlearn: 12.8742791\ttotal: 2.12s\tremaining: 302ms\n",
      "875:\tlearn: 12.8742220\ttotal: 2.12s\tremaining: 300ms\n",
      "876:\tlearn: 12.8740787\ttotal: 2.12s\tremaining: 297ms\n",
      "877:\tlearn: 12.8740107\ttotal: 2.12s\tremaining: 295ms\n",
      "878:\tlearn: 12.8730418\ttotal: 2.12s\tremaining: 292ms\n",
      "879:\tlearn: 12.8724094\ttotal: 2.13s\tremaining: 290ms\n",
      "880:\tlearn: 12.8722139\ttotal: 2.13s\tremaining: 288ms\n",
      "881:\tlearn: 12.8721274\ttotal: 2.13s\tremaining: 285ms\n",
      "882:\tlearn: 12.8720494\ttotal: 2.13s\tremaining: 283ms\n",
      "883:\tlearn: 12.8720315\ttotal: 2.13s\tremaining: 280ms\n",
      "884:\tlearn: 12.8720090\ttotal: 2.14s\tremaining: 278ms\n",
      "885:\tlearn: 12.8716315\ttotal: 2.14s\tremaining: 275ms\n",
      "886:\tlearn: 12.8704641\ttotal: 2.14s\tremaining: 273ms\n",
      "887:\tlearn: 12.8696087\ttotal: 2.15s\tremaining: 271ms\n",
      "888:\tlearn: 12.8695958\ttotal: 2.15s\tremaining: 268ms\n",
      "889:\tlearn: 12.8692961\ttotal: 2.15s\tremaining: 266ms\n",
      "890:\tlearn: 12.8690003\ttotal: 2.15s\tremaining: 263ms\n",
      "891:\tlearn: 12.8688037\ttotal: 2.15s\tremaining: 261ms\n",
      "892:\tlearn: 12.8684301\ttotal: 2.16s\tremaining: 258ms\n",
      "893:\tlearn: 12.8678612\ttotal: 2.16s\tremaining: 256ms\n",
      "894:\tlearn: 12.8667590\ttotal: 2.16s\tremaining: 254ms\n",
      "895:\tlearn: 12.8654186\ttotal: 2.16s\tremaining: 251ms\n",
      "896:\tlearn: 12.8624760\ttotal: 2.17s\tremaining: 249ms\n",
      "897:\tlearn: 12.8624278\ttotal: 2.17s\tremaining: 246ms\n",
      "898:\tlearn: 12.8624069\ttotal: 2.17s\tremaining: 244ms\n",
      "899:\tlearn: 12.8620224\ttotal: 2.17s\tremaining: 241ms\n",
      "900:\tlearn: 12.8618729\ttotal: 2.17s\tremaining: 239ms\n",
      "901:\tlearn: 12.8616977\ttotal: 2.18s\tremaining: 237ms\n",
      "902:\tlearn: 12.8613298\ttotal: 2.18s\tremaining: 234ms\n",
      "903:\tlearn: 12.8612091\ttotal: 2.18s\tremaining: 232ms\n",
      "904:\tlearn: 12.8592450\ttotal: 2.19s\tremaining: 229ms\n",
      "905:\tlearn: 12.8591393\ttotal: 2.19s\tremaining: 227ms\n",
      "906:\tlearn: 12.8589156\ttotal: 2.19s\tremaining: 225ms\n",
      "907:\tlearn: 12.8585439\ttotal: 2.19s\tremaining: 222ms\n",
      "908:\tlearn: 12.8584882\ttotal: 2.19s\tremaining: 220ms\n",
      "909:\tlearn: 12.8576019\ttotal: 2.2s\tremaining: 217ms\n",
      "910:\tlearn: 12.8571419\ttotal: 2.2s\tremaining: 215ms\n",
      "911:\tlearn: 12.8570415\ttotal: 2.2s\tremaining: 212ms\n",
      "912:\tlearn: 12.8569542\ttotal: 2.2s\tremaining: 210ms\n",
      "913:\tlearn: 12.8569134\ttotal: 2.2s\tremaining: 207ms\n",
      "914:\tlearn: 12.8561148\ttotal: 2.21s\tremaining: 205ms\n",
      "915:\tlearn: 12.8557901\ttotal: 2.21s\tremaining: 203ms\n",
      "916:\tlearn: 12.8546000\ttotal: 2.21s\tremaining: 200ms\n",
      "917:\tlearn: 12.8545194\ttotal: 2.21s\tremaining: 198ms\n",
      "918:\tlearn: 12.8545133\ttotal: 2.21s\tremaining: 195ms\n",
      "919:\tlearn: 12.8544810\ttotal: 2.22s\tremaining: 193ms\n",
      "920:\tlearn: 12.8539264\ttotal: 2.22s\tremaining: 190ms\n",
      "921:\tlearn: 12.8532413\ttotal: 2.22s\tremaining: 188ms\n",
      "922:\tlearn: 12.8532056\ttotal: 2.22s\tremaining: 185ms\n",
      "923:\tlearn: 12.8528214\ttotal: 2.23s\tremaining: 183ms\n",
      "924:\tlearn: 12.8526547\ttotal: 2.23s\tremaining: 181ms\n",
      "925:\tlearn: 12.8522464\ttotal: 2.23s\tremaining: 178ms\n",
      "926:\tlearn: 12.8522036\ttotal: 2.23s\tremaining: 176ms\n",
      "927:\tlearn: 12.8511573\ttotal: 2.23s\tremaining: 173ms\n",
      "928:\tlearn: 12.8508526\ttotal: 2.24s\tremaining: 171ms\n",
      "929:\tlearn: 12.8503989\ttotal: 2.24s\tremaining: 169ms\n",
      "930:\tlearn: 12.8498317\ttotal: 2.24s\tremaining: 166ms\n",
      "931:\tlearn: 12.8496645\ttotal: 2.24s\tremaining: 164ms\n",
      "932:\tlearn: 12.8470766\ttotal: 2.25s\tremaining: 161ms\n",
      "933:\tlearn: 12.8469799\ttotal: 2.25s\tremaining: 159ms\n",
      "934:\tlearn: 12.8467394\ttotal: 2.25s\tremaining: 156ms\n",
      "935:\tlearn: 12.8467086\ttotal: 2.25s\tremaining: 154ms\n",
      "936:\tlearn: 12.8463448\ttotal: 2.25s\tremaining: 152ms\n",
      "937:\tlearn: 12.8463354\ttotal: 2.26s\tremaining: 149ms\n",
      "938:\tlearn: 12.8463189\ttotal: 2.26s\tremaining: 147ms\n",
      "939:\tlearn: 12.8462105\ttotal: 2.26s\tremaining: 144ms\n",
      "940:\tlearn: 12.8461817\ttotal: 2.26s\tremaining: 142ms\n",
      "941:\tlearn: 12.8461350\ttotal: 2.27s\tremaining: 139ms\n",
      "942:\tlearn: 12.8460812\ttotal: 2.27s\tremaining: 137ms\n",
      "943:\tlearn: 12.8460511\ttotal: 2.27s\tremaining: 135ms\n",
      "944:\tlearn: 12.8460345\ttotal: 2.27s\tremaining: 132ms\n",
      "945:\tlearn: 12.8452973\ttotal: 2.27s\tremaining: 130ms\n",
      "946:\tlearn: 12.8451629\ttotal: 2.28s\tremaining: 128ms\n",
      "947:\tlearn: 12.8447496\ttotal: 2.28s\tremaining: 125ms\n",
      "948:\tlearn: 12.8446562\ttotal: 2.28s\tremaining: 123ms\n",
      "949:\tlearn: 12.8446341\ttotal: 2.28s\tremaining: 120ms\n",
      "950:\tlearn: 12.8445115\ttotal: 2.29s\tremaining: 118ms\n",
      "951:\tlearn: 12.8444470\ttotal: 2.29s\tremaining: 115ms\n",
      "952:\tlearn: 12.8444121\ttotal: 2.29s\tremaining: 113ms\n",
      "953:\tlearn: 12.8443957\ttotal: 2.29s\tremaining: 111ms\n",
      "954:\tlearn: 12.8437318\ttotal: 2.29s\tremaining: 108ms\n",
      "955:\tlearn: 12.8437254\ttotal: 2.3s\tremaining: 106ms\n",
      "956:\tlearn: 12.8436892\ttotal: 2.3s\tremaining: 103ms\n",
      "957:\tlearn: 12.8436622\ttotal: 2.3s\tremaining: 101ms\n",
      "958:\tlearn: 12.8435735\ttotal: 2.3s\tremaining: 98.5ms\n",
      "959:\tlearn: 12.8432869\ttotal: 2.31s\tremaining: 96.1ms\n",
      "960:\tlearn: 12.8427534\ttotal: 2.31s\tremaining: 93.7ms\n",
      "961:\tlearn: 12.8425627\ttotal: 2.31s\tremaining: 91.3ms\n",
      "962:\tlearn: 12.8419111\ttotal: 2.31s\tremaining: 88.9ms\n",
      "963:\tlearn: 12.8418328\ttotal: 2.32s\tremaining: 86.5ms\n",
      "964:\tlearn: 12.8417446\ttotal: 2.32s\tremaining: 84.1ms\n",
      "965:\tlearn: 12.8398613\ttotal: 2.32s\tremaining: 81.7ms\n",
      "966:\tlearn: 12.8385988\ttotal: 2.32s\tremaining: 79.3ms\n",
      "967:\tlearn: 12.8383913\ttotal: 2.33s\tremaining: 76.9ms\n",
      "968:\tlearn: 12.8382671\ttotal: 2.33s\tremaining: 74.5ms\n",
      "969:\tlearn: 12.8381566\ttotal: 2.33s\tremaining: 72.1ms\n",
      "970:\tlearn: 12.8381497\ttotal: 2.33s\tremaining: 69.7ms\n",
      "971:\tlearn: 12.8380851\ttotal: 2.34s\tremaining: 67.3ms\n",
      "972:\tlearn: 12.8379009\ttotal: 2.34s\tremaining: 64.9ms\n",
      "973:\tlearn: 12.8377458\ttotal: 2.34s\tremaining: 62.5ms\n",
      "974:\tlearn: 12.8376951\ttotal: 2.34s\tremaining: 60.1ms\n",
      "975:\tlearn: 12.8374631\ttotal: 2.34s\tremaining: 57.7ms\n",
      "976:\tlearn: 12.8372415\ttotal: 2.35s\tremaining: 55.3ms\n",
      "977:\tlearn: 12.8370991\ttotal: 2.35s\tremaining: 52.9ms\n",
      "978:\tlearn: 12.8369244\ttotal: 2.35s\tremaining: 50.5ms\n",
      "979:\tlearn: 12.8362529\ttotal: 2.35s\tremaining: 48.1ms\n",
      "980:\tlearn: 12.8359965\ttotal: 2.36s\tremaining: 45.7ms\n",
      "981:\tlearn: 12.8359614\ttotal: 2.36s\tremaining: 43.2ms\n",
      "982:\tlearn: 12.8346585\ttotal: 2.36s\tremaining: 40.9ms\n"
     ]
    },
    {
     "name": "stdout",
     "output_type": "stream",
     "text": [
      "983:\tlearn: 12.8341037\ttotal: 2.36s\tremaining: 38.4ms\n",
      "984:\tlearn: 12.8339737\ttotal: 2.37s\tremaining: 36.1ms\n",
      "985:\tlearn: 12.8322747\ttotal: 2.37s\tremaining: 33.7ms\n",
      "986:\tlearn: 12.8322320\ttotal: 2.38s\tremaining: 31.3ms\n",
      "987:\tlearn: 12.8293765\ttotal: 2.38s\tremaining: 28.9ms\n",
      "988:\tlearn: 12.8292682\ttotal: 2.39s\tremaining: 26.5ms\n",
      "989:\tlearn: 12.8292481\ttotal: 2.39s\tremaining: 24.1ms\n",
      "990:\tlearn: 12.8286617\ttotal: 2.39s\tremaining: 21.7ms\n",
      "991:\tlearn: 12.8286385\ttotal: 2.39s\tremaining: 19.3ms\n",
      "992:\tlearn: 12.8280769\ttotal: 2.4s\tremaining: 16.9ms\n",
      "993:\tlearn: 12.8280741\ttotal: 2.4s\tremaining: 14.5ms\n",
      "994:\tlearn: 12.8279914\ttotal: 2.4s\tremaining: 12.1ms\n",
      "995:\tlearn: 12.8276233\ttotal: 2.4s\tremaining: 9.66ms\n",
      "996:\tlearn: 12.8273800\ttotal: 2.41s\tremaining: 7.24ms\n",
      "997:\tlearn: 12.8265903\ttotal: 2.41s\tremaining: 4.83ms\n",
      "998:\tlearn: 12.8264549\ttotal: 2.41s\tremaining: 2.41ms\n",
      "999:\tlearn: 12.8264209\ttotal: 2.41s\tremaining: 0us\n"
     ]
    },
    {
     "data": {
      "text/plain": [
       "<catboost.core.CatBoostRegressor at 0x7f72936c7a60>"
      ]
     },
     "execution_count": 39,
     "metadata": {},
     "output_type": "execute_result"
    }
   ],
   "source": [
    "cat_model.fit(X_train[cat_features + num_features], y_train)"
   ]
  },
  {
   "cell_type": "code",
   "execution_count": 41,
   "id": "91ba9133",
   "metadata": {},
   "outputs": [
    {
     "data": {
      "text/plain": [
       "11.924232883068338"
      ]
     },
     "execution_count": 41,
     "metadata": {},
     "output_type": "execute_result"
    }
   ],
   "source": [
    "preds = cat_model.predict(X_test[cat_features + num_features])\n",
    "mean_absolute_error(preds, y_test)"
   ]
  },
  {
   "cell_type": "markdown",
   "id": "5289c2cd",
   "metadata": {},
   "source": [
    "# Catboost + Optuna"
   ]
  },
  {
   "cell_type": "markdown",
   "id": "57acafc9",
   "metadata": {},
   "source": [
    "### Делаю это в колабе, что не перегружать ноут"
   ]
  },
  {
   "cell_type": "code",
   "execution_count": null,
   "id": "b81a4eb8",
   "metadata": {},
   "outputs": [],
   "source": []
  },
  {
   "cell_type": "code",
   "execution_count": 73,
   "id": "07ed8a59",
   "metadata": {},
   "outputs": [],
   "source": [
    "params = {\"iterations\": 801,\n",
    "    \"learning_rate\": 0.08095995022948115,\n",
    "    \"depth\": 8,\n",
    "    \"l2_leaf_reg\": 0.001803255493066866,\n",
    "    \"bootstrap_type\": \"Bayesian\",\n",
    "    \"random_strength\": 1.9623341157814514e-06,\n",
    "    \"bagging_temperature\": 1.3891975485309294,\n",
    "    \"od_type\": \"IncToDec\",\n",
    "    \"od_wait\": 16}"
   ]
  },
  {
   "cell_type": "markdown",
   "id": "ad8420ae",
   "metadata": {},
   "source": [
    "Best_params:\n",
    "```\n",
    "Number of finished trials:  100\n",
    "Best trial:\n",
    "  Value:  11.761440934379612\n",
    "  Params: \n",
    "    iterations: 801\n",
    "    learning_rate: 0.08095995022948115\n",
    "    depth: 8\n",
    "    l2_leaf_reg: 0.001803255493066866\n",
    "    bootstrap_type: Bayesian\n",
    "    random_strength: 1.9623341157814514e-06\n",
    "    bagging_temperature: 1.3891975485309294\n",
    "    od_type: IncToDec\n",
    "    od_wait: 16\n",
    "```"
   ]
  },
  {
   "cell_type": "code",
   "execution_count": 75,
   "id": "4d59d213",
   "metadata": {},
   "outputs": [
    {
     "data": {
      "text/plain": [
       "11.761440934379612"
      ]
     },
     "execution_count": 75,
     "metadata": {},
     "output_type": "execute_result"
    }
   ],
   "source": [
    "model = CatBoostRegressor(\n",
    "    **params,\n",
    "    loss_function='MAE',\n",
    "    cat_features=cat_features,\n",
    "    verbose=False\n",
    ")\n",
    "model.fit(X_train[cat_features + num_features], y_train)\n",
    "preds = model.predict(X_test[cat_features + num_features])\n",
    "mean_absolute_error(preds, y_test)"
   ]
  },
  {
   "cell_type": "markdown",
   "id": "7cd73638",
   "metadata": {},
   "source": [
    "Надо добавать валидацию!!!"
   ]
  },
  {
   "cell_type": "code",
   "execution_count": null,
   "id": "2f192921",
   "metadata": {},
   "outputs": [],
   "source": []
  }
 ],
 "metadata": {
  "kernelspec": {
   "display_name": "Python 3 (ipykernel)",
   "language": "python",
   "name": "python3"
  },
  "language_info": {
   "codemirror_mode": {
    "name": "ipython",
    "version": 3
   },
   "file_extension": ".py",
   "mimetype": "text/x-python",
   "name": "python",
   "nbconvert_exporter": "python",
   "pygments_lexer": "ipython3",
   "version": "3.10.6"
  }
 },
 "nbformat": 4,
 "nbformat_minor": 5
}
