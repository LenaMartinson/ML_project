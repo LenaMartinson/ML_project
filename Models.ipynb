{
 "cells": [
  {
   "cell_type": "code",
   "execution_count": 2,
   "id": "1d731efc",
   "metadata": {},
   "outputs": [],
   "source": [
    "import numpy as np\n",
    "import pandas as pd\n",
    "import matplotlib.pyplot as plt\n",
    "import seaborn as sns"
   ]
  },
  {
   "cell_type": "code",
   "execution_count": 3,
   "id": "13da7588",
   "metadata": {},
   "outputs": [],
   "source": [
    "from sklearn.preprocessing import OneHotEncoder, StandardScaler\n",
    "from sklearn.compose import ColumnTransformer\n",
    "from sklearn.pipeline import Pipeline\n",
    "from sklearn.linear_model import Ridge\n",
    "from sklearn.model_selection import train_test_split\n",
    "from sklearn.metrics import mean_squared_error"
   ]
  },
  {
   "cell_type": "code",
   "execution_count": 73,
   "id": "cb4e1dcd",
   "metadata": {},
   "outputs": [],
   "source": [
    "from sklearn.tree import DecisionTreeRegressor\n",
    "from sklearn.ensemble import GradientBoostingRegressor\n",
    "from sklearn.ensemble import RandomForestRegressor"
   ]
  },
  {
   "cell_type": "code",
   "execution_count": 5,
   "id": "da177450",
   "metadata": {},
   "outputs": [],
   "source": [
    "%store -r df"
   ]
  },
  {
   "cell_type": "markdown",
   "id": "72a31c45",
   "metadata": {},
   "source": [
    "# Первая часть\n",
    "\n",
    "В начале я пробовала использовать метрику RMSE (потом перешла на более удобную, но в начале несколько экспериментов с ней).\n",
    "\n",
    "Также данные просто смешивались в куче и брались train_test_split."
   ]
  },
  {
   "cell_type": "markdown",
   "id": "25b8f4b1",
   "metadata": {},
   "source": [
    "Сначала бейзлайн:"
   ]
  },
  {
   "cell_type": "code",
   "execution_count": 11,
   "id": "0a715ac4",
   "metadata": {},
   "outputs": [
    {
     "data": {
      "text/plain": [
       "49.738082451167266"
      ]
     },
     "execution_count": 11,
     "metadata": {},
     "output_type": "execute_result"
    }
   ],
   "source": [
    "easy_pred = [y_train.mean()] * len(y_test)\n",
    "mean_squared_error(y_test, easy_pred, squared=False)"
   ]
  },
  {
   "cell_type": "markdown",
   "id": "64107567",
   "metadata": {},
   "source": [
    "Теперь нормальные эксперименты:"
   ]
  },
  {
   "cell_type": "code",
   "execution_count": 6,
   "id": "d4f2743a",
   "metadata": {},
   "outputs": [],
   "source": [
    "all_columns = set(df.columns)\n",
    "delete_columns = set([\"StudLearnCount\", \"BachStudCount\", \"MagStudCount\", \"ID\", \"ProposalItem\", \"MasterItem\", \"MasterItemPos\"])\n",
    "categorical_columns = all_columns - delete_columns - set([\"StudCount\"])\n",
    "numeric_columns = [\"StudCount\"]\n",
    "\n",
    "X = df[np.array(all_columns - delete_columns)]\n",
    "y = df[\"StudLearnCount\"]\n",
    "\n",
    "X_train, X_test, y_train, y_test = train_test_split(X, y, test_size=0.3, random_state=42)"
   ]
  },
  {
   "cell_type": "code",
   "execution_count": 43,
   "id": "7c6564ec",
   "metadata": {},
   "outputs": [],
   "source": [
    "def base_algo(numeric_col, categor_col, no_coef=False, method=Ridge(), error_func=mean_squared_error, params_for_error={}):\n",
    "    X_train, X_test, y_train, y_test = train_test_split(X, y, test_size=0.3, random_state=42)\n",
    "    column_transformer = ColumnTransformer([\n",
    "        ('ohe', OneHotEncoder(handle_unknown='ignore'), categor_col),\n",
    "        ('scaling', StandardScaler(), numeric_col)\n",
    "    ])\n",
    "\n",
    "    pipeline = Pipeline(steps=[\n",
    "        ('ohe_and_scaling', column_transformer),\n",
    "        ('regression', method)\n",
    "    ])\n",
    "\n",
    "    model = pipeline.fit(X_train, y_train)\n",
    "    y_pred = model.predict(X_test)\n",
    "    err = error_func(y_test, y_pred, **params_for_error)\n",
    "    print(\"Method:\", method, \"\\n\")\n",
    "    print(\"Error:\", error_func)\n",
    "    print(err, \"\\n\")\n",
    "    if no_coef:\n",
    "        return model\n",
    "    coefs = model.named_steps['regression'].coef_\n",
    "    print(\"Coefs:\")\n",
    "    for i in coefs:\n",
    "        print(i)\n",
    "    return model"
   ]
  },
  {
   "cell_type": "code",
   "execution_count": 44,
   "id": "c97087a9",
   "metadata": {},
   "outputs": [
    {
     "name": "stdout",
     "output_type": "stream",
     "text": [
      "Method: Ridge() \n",
      "\n",
      "Error: <function mean_squared_error at 0x7fb247cb0f70>\n",
      "31.971086371589404 \n",
      "\n",
      "Coefs:\n",
      "50.50413973703333\n"
     ]
    },
    {
     "data": {
      "text/html": [
       "<style>#sk-container-id-1 {color: black;background-color: white;}#sk-container-id-1 pre{padding: 0;}#sk-container-id-1 div.sk-toggleable {background-color: white;}#sk-container-id-1 label.sk-toggleable__label {cursor: pointer;display: block;width: 100%;margin-bottom: 0;padding: 0.3em;box-sizing: border-box;text-align: center;}#sk-container-id-1 label.sk-toggleable__label-arrow:before {content: \"▸\";float: left;margin-right: 0.25em;color: #696969;}#sk-container-id-1 label.sk-toggleable__label-arrow:hover:before {color: black;}#sk-container-id-1 div.sk-estimator:hover label.sk-toggleable__label-arrow:before {color: black;}#sk-container-id-1 div.sk-toggleable__content {max-height: 0;max-width: 0;overflow: hidden;text-align: left;background-color: #f0f8ff;}#sk-container-id-1 div.sk-toggleable__content pre {margin: 0.2em;color: black;border-radius: 0.25em;background-color: #f0f8ff;}#sk-container-id-1 input.sk-toggleable__control:checked~div.sk-toggleable__content {max-height: 200px;max-width: 100%;overflow: auto;}#sk-container-id-1 input.sk-toggleable__control:checked~label.sk-toggleable__label-arrow:before {content: \"▾\";}#sk-container-id-1 div.sk-estimator input.sk-toggleable__control:checked~label.sk-toggleable__label {background-color: #d4ebff;}#sk-container-id-1 div.sk-label input.sk-toggleable__control:checked~label.sk-toggleable__label {background-color: #d4ebff;}#sk-container-id-1 input.sk-hidden--visually {border: 0;clip: rect(1px 1px 1px 1px);clip: rect(1px, 1px, 1px, 1px);height: 1px;margin: -1px;overflow: hidden;padding: 0;position: absolute;width: 1px;}#sk-container-id-1 div.sk-estimator {font-family: monospace;background-color: #f0f8ff;border: 1px dotted black;border-radius: 0.25em;box-sizing: border-box;margin-bottom: 0.5em;}#sk-container-id-1 div.sk-estimator:hover {background-color: #d4ebff;}#sk-container-id-1 div.sk-parallel-item::after {content: \"\";width: 100%;border-bottom: 1px solid gray;flex-grow: 1;}#sk-container-id-1 div.sk-label:hover label.sk-toggleable__label {background-color: #d4ebff;}#sk-container-id-1 div.sk-serial::before {content: \"\";position: absolute;border-left: 1px solid gray;box-sizing: border-box;top: 0;bottom: 0;left: 50%;z-index: 0;}#sk-container-id-1 div.sk-serial {display: flex;flex-direction: column;align-items: center;background-color: white;padding-right: 0.2em;padding-left: 0.2em;position: relative;}#sk-container-id-1 div.sk-item {position: relative;z-index: 1;}#sk-container-id-1 div.sk-parallel {display: flex;align-items: stretch;justify-content: center;background-color: white;position: relative;}#sk-container-id-1 div.sk-item::before, #sk-container-id-1 div.sk-parallel-item::before {content: \"\";position: absolute;border-left: 1px solid gray;box-sizing: border-box;top: 0;bottom: 0;left: 50%;z-index: -1;}#sk-container-id-1 div.sk-parallel-item {display: flex;flex-direction: column;z-index: 1;position: relative;background-color: white;}#sk-container-id-1 div.sk-parallel-item:first-child::after {align-self: flex-end;width: 50%;}#sk-container-id-1 div.sk-parallel-item:last-child::after {align-self: flex-start;width: 50%;}#sk-container-id-1 div.sk-parallel-item:only-child::after {width: 0;}#sk-container-id-1 div.sk-dashed-wrapped {border: 1px dashed gray;margin: 0 0.4em 0.5em 0.4em;box-sizing: border-box;padding-bottom: 0.4em;background-color: white;}#sk-container-id-1 div.sk-label label {font-family: monospace;font-weight: bold;display: inline-block;line-height: 1.2em;}#sk-container-id-1 div.sk-label-container {text-align: center;}#sk-container-id-1 div.sk-container {/* jupyter's `normalize.less` sets `[hidden] { display: none; }` but bootstrap.min.css set `[hidden] { display: none !important; }` so we also need the `!important` here to be able to override the default hidden behavior on the sphinx rendered scikit-learn.org. See: https://github.com/scikit-learn/scikit-learn/issues/21755 */display: inline-block !important;position: relative;}#sk-container-id-1 div.sk-text-repr-fallback {display: none;}</style><div id=\"sk-container-id-1\" class=\"sk-top-container\"><div class=\"sk-text-repr-fallback\"><pre>Pipeline(steps=[(&#x27;ohe_and_scaling&#x27;,\n",
       "                 ColumnTransformer(transformers=[(&#x27;ohe&#x27;,\n",
       "                                                  OneHotEncoder(handle_unknown=&#x27;ignore&#x27;),\n",
       "                                                  []),\n",
       "                                                 (&#x27;scaling&#x27;, StandardScaler(),\n",
       "                                                  [&#x27;StudCount&#x27;])])),\n",
       "                (&#x27;regression&#x27;, Ridge())])</pre><b>In a Jupyter environment, please rerun this cell to show the HTML representation or trust the notebook. <br />On GitHub, the HTML representation is unable to render, please try loading this page with nbviewer.org.</b></div><div class=\"sk-container\" hidden><div class=\"sk-item sk-dashed-wrapped\"><div class=\"sk-label-container\"><div class=\"sk-label sk-toggleable\"><input class=\"sk-toggleable__control sk-hidden--visually\" id=\"sk-estimator-id-1\" type=\"checkbox\" ><label for=\"sk-estimator-id-1\" class=\"sk-toggleable__label sk-toggleable__label-arrow\">Pipeline</label><div class=\"sk-toggleable__content\"><pre>Pipeline(steps=[(&#x27;ohe_and_scaling&#x27;,\n",
       "                 ColumnTransformer(transformers=[(&#x27;ohe&#x27;,\n",
       "                                                  OneHotEncoder(handle_unknown=&#x27;ignore&#x27;),\n",
       "                                                  []),\n",
       "                                                 (&#x27;scaling&#x27;, StandardScaler(),\n",
       "                                                  [&#x27;StudCount&#x27;])])),\n",
       "                (&#x27;regression&#x27;, Ridge())])</pre></div></div></div><div class=\"sk-serial\"><div class=\"sk-item sk-dashed-wrapped\"><div class=\"sk-label-container\"><div class=\"sk-label sk-toggleable\"><input class=\"sk-toggleable__control sk-hidden--visually\" id=\"sk-estimator-id-2\" type=\"checkbox\" ><label for=\"sk-estimator-id-2\" class=\"sk-toggleable__label sk-toggleable__label-arrow\">ohe_and_scaling: ColumnTransformer</label><div class=\"sk-toggleable__content\"><pre>ColumnTransformer(transformers=[(&#x27;ohe&#x27;, OneHotEncoder(handle_unknown=&#x27;ignore&#x27;),\n",
       "                                 []),\n",
       "                                (&#x27;scaling&#x27;, StandardScaler(), [&#x27;StudCount&#x27;])])</pre></div></div></div><div class=\"sk-parallel\"><div class=\"sk-parallel-item\"><div class=\"sk-item\"><div class=\"sk-label-container\"><div class=\"sk-label sk-toggleable\"><input class=\"sk-toggleable__control sk-hidden--visually\" id=\"sk-estimator-id-3\" type=\"checkbox\" ><label for=\"sk-estimator-id-3\" class=\"sk-toggleable__label sk-toggleable__label-arrow\">ohe</label><div class=\"sk-toggleable__content\"><pre>[]</pre></div></div></div><div class=\"sk-serial\"><div class=\"sk-item\"><div class=\"sk-estimator sk-toggleable\"><input class=\"sk-toggleable__control sk-hidden--visually\" id=\"sk-estimator-id-4\" type=\"checkbox\" ><label for=\"sk-estimator-id-4\" class=\"sk-toggleable__label sk-toggleable__label-arrow\">OneHotEncoder</label><div class=\"sk-toggleable__content\"><pre>OneHotEncoder(handle_unknown=&#x27;ignore&#x27;)</pre></div></div></div></div></div></div><div class=\"sk-parallel-item\"><div class=\"sk-item\"><div class=\"sk-label-container\"><div class=\"sk-label sk-toggleable\"><input class=\"sk-toggleable__control sk-hidden--visually\" id=\"sk-estimator-id-5\" type=\"checkbox\" ><label for=\"sk-estimator-id-5\" class=\"sk-toggleable__label sk-toggleable__label-arrow\">scaling</label><div class=\"sk-toggleable__content\"><pre>[&#x27;StudCount&#x27;]</pre></div></div></div><div class=\"sk-serial\"><div class=\"sk-item\"><div class=\"sk-estimator sk-toggleable\"><input class=\"sk-toggleable__control sk-hidden--visually\" id=\"sk-estimator-id-6\" type=\"checkbox\" ><label for=\"sk-estimator-id-6\" class=\"sk-toggleable__label sk-toggleable__label-arrow\">StandardScaler</label><div class=\"sk-toggleable__content\"><pre>StandardScaler()</pre></div></div></div></div></div></div></div></div><div class=\"sk-item\"><div class=\"sk-estimator sk-toggleable\"><input class=\"sk-toggleable__control sk-hidden--visually\" id=\"sk-estimator-id-7\" type=\"checkbox\" ><label for=\"sk-estimator-id-7\" class=\"sk-toggleable__label sk-toggleable__label-arrow\">Ridge</label><div class=\"sk-toggleable__content\"><pre>Ridge()</pre></div></div></div></div></div></div></div>"
      ],
      "text/plain": [
       "Pipeline(steps=[('ohe_and_scaling',\n",
       "                 ColumnTransformer(transformers=[('ohe',\n",
       "                                                  OneHotEncoder(handle_unknown='ignore'),\n",
       "                                                  []),\n",
       "                                                 ('scaling', StandardScaler(),\n",
       "                                                  ['StudCount'])])),\n",
       "                ('regression', Ridge())])"
      ]
     },
     "execution_count": 44,
     "metadata": {},
     "output_type": "execute_result"
    }
   ],
   "source": [
    "base_algo([\"StudCount\"], [], params_for_error={\"squared\": False})"
   ]
  },
  {
   "cell_type": "markdown",
   "id": "84d5dc8d",
   "metadata": {},
   "source": [
    "Пробуем добавить еще признаков:"
   ]
  },
  {
   "cell_type": "code",
   "execution_count": 50,
   "id": "0fdc51f4",
   "metadata": {},
   "outputs": [
    {
     "name": "stdout",
     "output_type": "stream",
     "text": [
      "Method: Ridge() \n",
      "\n",
      "Error: <function mean_squared_error at 0x7f0f48e83c10>\n",
      "31.932715768073177 \n",
      "\n",
      "Coefs:\n",
      "-1.16538917977444\n",
      "1.1653891797746563\n",
      "3.433978418364064\n",
      "0.12656693297664046\n",
      "-3.560545351314346\n",
      "50.55441420135785\n"
     ]
    }
   ],
   "source": [
    "base_algo([\"StudCount\"], [\"WithOnlineCourse\", \"ItemLearnYear_D\"], params_for_error={\"squared\": False})"
   ]
  },
  {
   "cell_type": "markdown",
   "id": "7b652b5c",
   "metadata": {},
   "source": [
    "Давайте попробуем поиспользовать Credits и PracticeHours, но для этого надо решить, что делать с проблеми (\"None\").\n",
    "Для Credits проблема решена выше - заменили на 0 (это в основном физкультура, логично, что она не имеет веса).\n",
    "Предлагаю для PracticeHours и тд тоже заменить на 0 и потестить."
   ]
  },
  {
   "cell_type": "code",
   "execution_count": 51,
   "id": "f766a606",
   "metadata": {},
   "outputs": [
    {
     "name": "stdout",
     "output_type": "stream",
     "text": [
      "Method: Ridge() \n",
      "\n",
      "Error: <function mean_squared_error at 0x7f0f48e83c10>\n",
      "31.961100948837455 \n",
      "\n",
      "Coefs:\n",
      "-1.2970410973180722\n",
      "1.297041097318243\n",
      "3.4138668894503965\n",
      "0.13247811247546215\n",
      "-3.546345001899121\n",
      "50.56245034942134\n",
      "-0.790465323570226\n"
     ]
    }
   ],
   "source": [
    "base_algo([\"StudCount\", \"Credits\"], [\"WithOnlineCourse\", \"ItemLearnYear_D\"], params_for_error={\"squared\": False})"
   ]
  },
  {
   "cell_type": "markdown",
   "id": "7971229d",
   "metadata": {},
   "source": [
    "Видно, что самые большие дельты у Английского языка(в том или ином виде). Давайте попробуем добавить факультет:"
   ]
  },
  {
   "cell_type": "code",
   "execution_count": 52,
   "id": "cca027df",
   "metadata": {},
   "outputs": [
    {
     "name": "stdout",
     "output_type": "stream",
     "text": [
      "Method: Ridge() \n",
      "\n",
      "Error: <function mean_squared_error at 0x7f0f48e83c10>\n",
      "32.30016017583393 \n",
      "\n"
     ]
    }
   ],
   "source": [
    "base_algo([\"StudCount\", \"Credits\"], [\"Description\"], no_coef=True, params_for_error={\"squared\": False})"
   ]
  },
  {
   "cell_type": "code",
   "execution_count": 53,
   "id": "7452535d",
   "metadata": {},
   "outputs": [
    {
     "name": "stdout",
     "output_type": "stream",
     "text": [
      "Method: Ridge() \n",
      "\n",
      "Error: <function mean_squared_error at 0x7f0f48e83c10>\n",
      "31.053559446075898 \n",
      "\n"
     ]
    }
   ],
   "source": [
    "base_algo([\"StudCount\"], [\"EdLevel_D\", \"ItemCourse_D\"], no_coef=True, params_for_error={\"squared\": False})"
   ]
  },
  {
   "cell_type": "code",
   "execution_count": 54,
   "id": "76061172",
   "metadata": {},
   "outputs": [
    {
     "name": "stdout",
     "output_type": "stream",
     "text": [
      "Method: Ridge() \n",
      "\n",
      "Error: <function mean_squared_error at 0x7f0f48e83c10>\n",
      "31.008989943556177 \n",
      "\n"
     ]
    }
   ],
   "source": [
    "base_algo(\n",
    "    [\"StudCount\"],\n",
    "    [\"EdLevel_D\", \"ItemCourse_D\", \"ItemLearnYear_D\"],\n",
    "    no_coef=True, params_for_error={\"squared\": False})"
   ]
  },
  {
   "cell_type": "markdown",
   "id": "c6a4eaae",
   "metadata": {},
   "source": [
    "Дрбавили так называемые \"корзины\" - взяли логарифм от StudCount, чтобы разделть веса на тяжелые и легкие."
   ]
  },
  {
   "cell_type": "code",
   "execution_count": 55,
   "id": "e437ab23",
   "metadata": {},
   "outputs": [
    {
     "name": "stdout",
     "output_type": "stream",
     "text": [
      "Method: Ridge() \n",
      "\n",
      "Error: <function mean_squared_error at 0x7f0f48e83c10>\n",
      "33.171345666821814 \n",
      "\n",
      "Coefs:\n",
      "84.34209905100354\n",
      "24.302301578900092\n",
      "26.274534771643047\n",
      "29.059015854428985\n",
      "41.13867161635022\n",
      "75.84951459548952\n",
      "180.66621236453105\n",
      "-513.7592892245956\n",
      "52.12693939008375\n",
      "48.532050178995924\n"
     ]
    }
   ],
   "source": [
    "base_algo(\n",
    "    [\"StudCount\"],\n",
    "    [\"StudCountBins\"],\n",
    "    no_coef=False, params_for_error={\"squared\": False})"
   ]
  },
  {
   "cell_type": "markdown",
   "id": "4f935272",
   "metadata": {},
   "source": [
    "Пробуем простое решающее дерево и градиентный бустинг:"
   ]
  },
  {
   "cell_type": "code",
   "execution_count": 58,
   "id": "eb850602",
   "metadata": {},
   "outputs": [
    {
     "name": "stdout",
     "output_type": "stream",
     "text": [
      "Method: DecisionTreeRegressor() \n",
      "\n",
      "Error: <function mean_squared_error at 0x7f0f48e83c10>\n",
      "70.78357889472663 \n",
      "\n"
     ]
    }
   ],
   "source": [
    "base_algo(\n",
    "    [\"StudCount\"],\n",
    "    [\"EdLevel_D\", \"ItemCourse_D\", \"ItemLearnYear_D\"],\n",
    "    method=DecisionTreeRegressor(),\n",
    "    no_coef=True, params_for_error={\"squared\": False})"
   ]
  },
  {
   "cell_type": "code",
   "execution_count": 60,
   "id": "4e675a15",
   "metadata": {},
   "outputs": [
    {
     "name": "stdout",
     "output_type": "stream",
     "text": [
      "Method: GradientBoostingRegressor() \n",
      "\n",
      "Error: <function mean_squared_error at 0x7f0f48e83c10>\n",
      "37.65608950346666 \n",
      "\n"
     ]
    }
   ],
   "source": [
    "base_algo(\n",
    "    [\"StudCount\", \"EntireHours\"],\n",
    "    [\"EdLevel_D\", \"ItemCourse_D\", \"ItemLearnYear_D\", \"StudCountBins\", \"WithOnlineCourse\"],\n",
    "    method=GradientBoostingRegressor(),\n",
    "    no_coef=True, params_for_error={\"squared\": False})"
   ]
  },
  {
   "cell_type": "markdown",
   "id": "75b7558f",
   "metadata": {},
   "source": [
    "# Вторая часть\n",
    "\n",
    "Пробуем изменить метрику на процент ошибки относительно правильного ответа:"
   ]
  },
  {
   "cell_type": "code",
   "execution_count": 12,
   "id": "02b1d61e",
   "metadata": {},
   "outputs": [],
   "source": [
    "def part_error(y_test, y_pred):\n",
    "    y_test[y_test == 0] = 1\n",
    "    res = y_pred / y_test\n",
    "    res = abs(1 - res)\n",
    "    return res.mean()"
   ]
  },
  {
   "cell_type": "code",
   "execution_count": 69,
   "id": "759a3fae",
   "metadata": {},
   "outputs": [
    {
     "name": "stdout",
     "output_type": "stream",
     "text": [
      "Method: Ridge() \n",
      "\n",
      "Error: <function part_error at 0x7f0f40fbce50>\n",
      "2.995311588933207 \n",
      "\n",
      "Coefs:\n",
      "50.50413973703333\n"
     ]
    }
   ],
   "source": [
    "base_algo(\n",
    "    [\"StudCount\"],\n",
    "    [],\n",
    "    error_func=part_error)"
   ]
  },
  {
   "cell_type": "code",
   "execution_count": 27,
   "id": "0cd9e70d",
   "metadata": {},
   "outputs": [
    {
     "name": "stdout",
     "output_type": "stream",
     "text": [
      "Method: Ridge() \n",
      "\n",
      "Error: <function part_error at 0x7fb244515a60>\n",
      "2.6387213237249103 \n",
      "\n",
      "Coefs:\n",
      "-26.748007361766742\n",
      "28.99335153415839\n",
      "-10.402182077920306\n",
      "8.156837904394441\n",
      "26.782201477548085\n",
      "-12.564997619108984\n",
      "-13.021354944102995\n",
      "-14.702651190570625\n",
      "-15.195752989706099\n",
      "-16.577126259194642\n",
      "18.838381921122853\n",
      "18.28446169985428\n",
      "3.8943215609773536\n",
      "4.262516343417086\n",
      "3.7447551689806344\n",
      "-0.25333504187391975\n",
      "-3.4914201270610064\n",
      "46.90796251311258\n"
     ]
    }
   ],
   "source": [
    "base_algo(\n",
    "    [\"StudCount\"],\n",
    "    [\"EdLevel_D\", \"ItemCourse_D\", \"ItemLearnYear_D\"],\n",
    "    error_func=part_error,\n",
    ")"
   ]
  },
  {
   "cell_type": "markdown",
   "id": "67c6c843",
   "metadata": {},
   "source": [
    "Прочитала про метрику SMAPE:"
   ]
  },
  {
   "cell_type": "code",
   "execution_count": 1,
   "id": "f3a14035",
   "metadata": {},
   "outputs": [],
   "source": [
    "def smape(A, F):\n",
    "    return np.sum(2 * np.abs(F - A) / (np.abs(A) + np.abs(F))) / len(A)"
   ]
  },
  {
   "cell_type": "markdown",
   "id": "afba4690",
   "metadata": {},
   "source": [
    "Также я прочитала, что если мы берем в качестве регуляризатора L1, то часто много весов зануляется. Глобально, мы этого и хотим - положить кучу разных данных и занулить их потом. Так что попробуем поиспользовать Lasso:"
   ]
  },
  {
   "cell_type": "code",
   "execution_count": 10,
   "id": "fa55c47d",
   "metadata": {},
   "outputs": [],
   "source": [
    "from sklearn.linear_model import Lasso"
   ]
  },
  {
   "cell_type": "code",
   "execution_count": 14,
   "id": "96e8a129",
   "metadata": {},
   "outputs": [
    {
     "name": "stdout",
     "output_type": "stream",
     "text": [
      "Method: Lasso() \n",
      "\n",
      "Error: <function part_error at 0x7fb244515a60>\n",
      "3.0483246017438477 \n",
      "\n",
      "Coefs:\n",
      "49.507908140237134\n"
     ]
    }
   ],
   "source": [
    "base_algo(\n",
    "    numeric_col=[\"StudCount\"],\n",
    "    categor_col=[],\n",
    "    method=Lasso(),\n",
    "    error_func=part_error)"
   ]
  },
  {
   "cell_type": "code",
   "execution_count": 15,
   "id": "db4e6a4c",
   "metadata": {},
   "outputs": [
    {
     "name": "stdout",
     "output_type": "stream",
     "text": [
      "Method: Lasso() \n",
      "\n",
      "Error: <function part_error at 0x7fb244515a60>\n",
      "2.8209659134220844 \n",
      "\n",
      "Coefs:\n",
      "-5.740088905505539\n",
      "8.454213789759486\n",
      "-0.0\n",
      "0.0\n",
      "10.633986327516785\n",
      "0.0\n",
      "-0.0\n",
      "-0.0\n",
      "-0.0\n",
      "-0.0\n",
      "0.0\n",
      "-0.0\n",
      "0.0\n",
      "0.0\n",
      "0.31323208758413995\n",
      "0.0\n",
      "-0.6445818597535079\n",
      "47.966927615745604\n"
     ]
    }
   ],
   "source": [
    "base_algo(\n",
    "    numeric_col=[\"StudCount\"],\n",
    "    categor_col=[\"EdLevel_D\", \"ItemCourse_D\", \"ItemLearnYear_D\"],\n",
    "    method=Lasso(),\n",
    "    error_func=part_error)"
   ]
  },
  {
   "cell_type": "code",
   "execution_count": 17,
   "id": "87d31690",
   "metadata": {},
   "outputs": [
    {
     "name": "stdout",
     "output_type": "stream",
     "text": [
      "Method: Lasso(alpha=0.5) \n",
      "\n",
      "Error: <function part_error at 0x7fb244515a60>\n",
      "2.696341775810879 \n",
      "\n",
      "Coefs:\n",
      "-24.21674679831957\n",
      "8.281107759482296\n",
      "-0.0\n",
      "0.0\n",
      "23.06672724930179\n",
      "0.0\n",
      "-0.0\n",
      "-0.0\n",
      "-0.0\n",
      "-0.0\n",
      "0.0\n",
      "0.0\n",
      "0.0\n",
      "0.0\n",
      "2.0824702469536533\n",
      "0.0\n",
      "-1.9401214094825177\n",
      "47.552979588987974\n"
     ]
    }
   ],
   "source": [
    "base_algo(\n",
    "    numeric_col=[\"StudCount\"],\n",
    "    categor_col=[\"EdLevel_D\", \"ItemCourse_D\", \"ItemLearnYear_D\"],\n",
    "    method=Lasso(alpha=0.5),\n",
    "    error_func=part_error)"
   ]
  },
  {
   "cell_type": "code",
   "execution_count": 22,
   "id": "6bfe0393",
   "metadata": {},
   "outputs": [
    {
     "data": {
      "text/plain": [
       "ID                             int64\n",
       "ProposalItem                   int64\n",
       "PlanClass_D                   object\n",
       "EdLevel_D                     object\n",
       "ItemCourse_D                  object\n",
       "ItemLearnYear_D               object\n",
       "StudCount                      int64\n",
       "StudLearnCount                 int64\n",
       "BachStudCount                  int64\n",
       "MagStudCount                   int64\n",
       "RegDepartment_D               object\n",
       "Faculty_D                     object\n",
       "LearnProgram_D                object\n",
       "Description                   object\n",
       "LongName                      object\n",
       "SubjectClass_D                object\n",
       "FacDepartment_D               object\n",
       "FDFaculty_D                   object\n",
       "FDRegDepartment_D             object\n",
       "MasterItem                     int64\n",
       "MasterItemPos                 object\n",
       "ItemSource_D                  object\n",
       "AudienceScope_D               object\n",
       "Credits                        int64\n",
       "EntireHours                    int64\n",
       "LectionHours                   int64\n",
       "SeminarHours                   int64\n",
       "PracticeHours                  int64\n",
       "PeriodNumList                 object\n",
       "WithOnlineCourse              object\n",
       "ItemLearnYear_D_discipline    object\n",
       "dtype: object"
      ]
     },
     "execution_count": 22,
     "metadata": {},
     "output_type": "execute_result"
    }
   ],
   "source": [
    "df.dtypes"
   ]
  },
  {
   "cell_type": "code",
   "execution_count": 33,
   "id": "65137eef",
   "metadata": {},
   "outputs": [
    {
     "name": "stdout",
     "output_type": "stream",
     "text": [
      "Method: Lasso(alpha=0.5) \n",
      "\n",
      "Error: <function part_error at 0x7fb244515a60>\n",
      "2.763400044181575 \n",
      "\n",
      "Coefs:\n",
      "0.0\n",
      "0.0\n",
      "-0.0\n",
      "-10.273457948596782\n",
      "-21.564376331170905\n",
      "8.748725423121488\n",
      "-0.0\n",
      "0.0\n",
      "10.756191294443562\n",
      "0.0\n",
      "0.0\n",
      "-0.0\n",
      "-0.3586826347611377\n",
      "-0.0\n",
      "0.0\n",
      "0.0\n",
      "0.0\n",
      "0.0\n",
      "1.1399056517268444\n",
      "-0.0\n",
      "-1.8894702394244856\n",
      "-0.0\n",
      "0.0\n",
      "-0.0\n",
      "0.0\n",
      "0.0\n",
      "-0.0\n",
      "0.0\n",
      "-0.0\n",
      "0.0\n",
      "-0.0\n",
      "0.0\n",
      "-0.0\n",
      "-0.0\n",
      "-0.0\n",
      "212.81772248264016\n",
      "-0.0\n",
      "0.0\n",
      "47.66407428773121\n",
      "0.0\n",
      "0.0\n",
      "0.07777515234035015\n",
      "0.006440698895365199\n",
      "-0.7289882238825414\n"
     ]
    }
   ],
   "source": [
    "base_algo(\n",
    "    numeric_col=[\"StudCount\", \"Credits\", \"EntireHours\", \"LectionHours\", \"SeminarHours\", \"PracticeHours\"],\n",
    "    categor_col=[\"PlanClass_D\", \"EdLevel_D\", \"ItemCourse_D\", \"ItemLearnYear_D\", \"PeriodNumList\", \"WithOnlineCourse\"],\n",
    "    method=Lasso(alpha=0.5),\n",
    "    error_func=part_error)"
   ]
  },
  {
   "cell_type": "markdown",
   "id": "bb5d0f54",
   "metadata": {},
   "source": [
    "## Перейдем на SMAPE:"
   ]
  },
  {
   "cell_type": "code",
   "execution_count": 34,
   "id": "729d884b",
   "metadata": {},
   "outputs": [
    {
     "name": "stdout",
     "output_type": "stream",
     "text": [
      "Method: Lasso() \n",
      "\n",
      "Error: <function smape at 0x7fb28835a430>\n",
      "0.6181089596732408 \n",
      "\n",
      "Coefs:\n",
      "49.507908140237134\n"
     ]
    }
   ],
   "source": [
    "base_algo(\n",
    "    numeric_col=[\"StudCount\"],\n",
    "    categor_col=[],\n",
    "    method=Lasso(),\n",
    "    error_func=smape)"
   ]
  },
  {
   "cell_type": "code",
   "execution_count": 35,
   "id": "5453b037",
   "metadata": {},
   "outputs": [
    {
     "name": "stdout",
     "output_type": "stream",
     "text": [
      "Method: Lasso() \n",
      "\n",
      "Error: <function smape at 0x7fb28835a430>\n",
      "0.6056611867156406 \n",
      "\n",
      "Coefs:\n",
      "-5.740088905505539\n",
      "8.454213789759486\n",
      "-0.0\n",
      "0.0\n",
      "10.633986327516785\n",
      "0.0\n",
      "-0.0\n",
      "-0.0\n",
      "-0.0\n",
      "-0.0\n",
      "0.0\n",
      "-0.0\n",
      "0.0\n",
      "0.0\n",
      "0.31323208758413995\n",
      "0.0\n",
      "-0.6445818597535079\n",
      "47.966927615745604\n"
     ]
    }
   ],
   "source": [
    "base_algo(\n",
    "    numeric_col=[\"StudCount\"],\n",
    "    categor_col=[\"EdLevel_D\", \"ItemCourse_D\", \"ItemLearnYear_D\"],\n",
    "    method=Lasso(),\n",
    "    error_func=smape)"
   ]
  },
  {
   "cell_type": "code",
   "execution_count": 36,
   "id": "b1ff1de7",
   "metadata": {},
   "outputs": [
    {
     "name": "stdout",
     "output_type": "stream",
     "text": [
      "Method: Lasso(alpha=0.5) \n",
      "\n",
      "Error: <function smape at 0x7fb28835a430>\n",
      "0.6069783290833942 \n",
      "\n",
      "Coefs:\n",
      "-24.21674679831957\n",
      "8.281107759482296\n",
      "-0.0\n",
      "0.0\n",
      "23.06672724930179\n",
      "0.0\n",
      "-0.0\n",
      "-0.0\n",
      "-0.0\n",
      "-0.0\n",
      "0.0\n",
      "0.0\n",
      "0.0\n",
      "0.0\n",
      "2.0824702469536533\n",
      "0.0\n",
      "-1.9401214094825177\n",
      "47.552979588987974\n"
     ]
    }
   ],
   "source": [
    "base_algo(\n",
    "    numeric_col=[\"StudCount\"],\n",
    "    categor_col=[\"EdLevel_D\", \"ItemCourse_D\", \"ItemLearnYear_D\"],\n",
    "    method=Lasso(alpha=0.5),\n",
    "    error_func=smape)"
   ]
  },
  {
   "cell_type": "code",
   "execution_count": 37,
   "id": "45860dfe",
   "metadata": {},
   "outputs": [
    {
     "name": "stdout",
     "output_type": "stream",
     "text": [
      "Method: Lasso(alpha=0.5) \n",
      "\n",
      "Error: <function smape at 0x7fb28835a430>\n",
      "0.6048528990263804 \n",
      "\n",
      "Coefs:\n",
      "0.0\n",
      "0.0\n",
      "-0.0\n",
      "-10.273457948596782\n",
      "-21.564376331170905\n",
      "8.748725423121488\n",
      "-0.0\n",
      "0.0\n",
      "10.756191294443562\n",
      "0.0\n",
      "0.0\n",
      "-0.0\n",
      "-0.3586826347611377\n",
      "-0.0\n",
      "0.0\n",
      "0.0\n",
      "0.0\n",
      "0.0\n",
      "1.1399056517268444\n",
      "-0.0\n",
      "-1.8894702394244856\n",
      "-0.0\n",
      "0.0\n",
      "-0.0\n",
      "0.0\n",
      "0.0\n",
      "-0.0\n",
      "0.0\n",
      "-0.0\n",
      "0.0\n",
      "-0.0\n",
      "0.0\n",
      "-0.0\n",
      "-0.0\n",
      "-0.0\n",
      "212.81772248264016\n",
      "-0.0\n",
      "0.0\n",
      "47.66407428773121\n",
      "0.0\n",
      "0.0\n",
      "0.07777515234035015\n",
      "0.006440698895365199\n",
      "-0.7289882238825414\n"
     ]
    }
   ],
   "source": [
    "base_algo(\n",
    "    numeric_col=[\"StudCount\", \"Credits\", \"EntireHours\", \"LectionHours\", \"SeminarHours\", \"PracticeHours\"],\n",
    "    categor_col=[\"PlanClass_D\", \"EdLevel_D\", \"ItemCourse_D\", \"ItemLearnYear_D\", \"PeriodNumList\", \"WithOnlineCourse\"],\n",
    "    method=Lasso(alpha=0.5),\n",
    "    error_func=smape)"
   ]
  },
  {
   "cell_type": "markdown",
   "id": "8e19a40d",
   "metadata": {},
   "source": [
    "Попробуем DecisionTreeRegressor (с визуалиазацией):"
   ]
  },
  {
   "cell_type": "code",
   "execution_count": 45,
   "id": "1050e187",
   "metadata": {},
   "outputs": [
    {
     "name": "stdout",
     "output_type": "stream",
     "text": [
      "Method: DecisionTreeRegressor() \n",
      "\n",
      "Error: <function smape at 0x7fb28835a430>\n",
      "0.6352356241191554 \n",
      "\n"
     ]
    },
    {
     "data": {
      "text/html": [
       "<style>#sk-container-id-2 {color: black;background-color: white;}#sk-container-id-2 pre{padding: 0;}#sk-container-id-2 div.sk-toggleable {background-color: white;}#sk-container-id-2 label.sk-toggleable__label {cursor: pointer;display: block;width: 100%;margin-bottom: 0;padding: 0.3em;box-sizing: border-box;text-align: center;}#sk-container-id-2 label.sk-toggleable__label-arrow:before {content: \"▸\";float: left;margin-right: 0.25em;color: #696969;}#sk-container-id-2 label.sk-toggleable__label-arrow:hover:before {color: black;}#sk-container-id-2 div.sk-estimator:hover label.sk-toggleable__label-arrow:before {color: black;}#sk-container-id-2 div.sk-toggleable__content {max-height: 0;max-width: 0;overflow: hidden;text-align: left;background-color: #f0f8ff;}#sk-container-id-2 div.sk-toggleable__content pre {margin: 0.2em;color: black;border-radius: 0.25em;background-color: #f0f8ff;}#sk-container-id-2 input.sk-toggleable__control:checked~div.sk-toggleable__content {max-height: 200px;max-width: 100%;overflow: auto;}#sk-container-id-2 input.sk-toggleable__control:checked~label.sk-toggleable__label-arrow:before {content: \"▾\";}#sk-container-id-2 div.sk-estimator input.sk-toggleable__control:checked~label.sk-toggleable__label {background-color: #d4ebff;}#sk-container-id-2 div.sk-label input.sk-toggleable__control:checked~label.sk-toggleable__label {background-color: #d4ebff;}#sk-container-id-2 input.sk-hidden--visually {border: 0;clip: rect(1px 1px 1px 1px);clip: rect(1px, 1px, 1px, 1px);height: 1px;margin: -1px;overflow: hidden;padding: 0;position: absolute;width: 1px;}#sk-container-id-2 div.sk-estimator {font-family: monospace;background-color: #f0f8ff;border: 1px dotted black;border-radius: 0.25em;box-sizing: border-box;margin-bottom: 0.5em;}#sk-container-id-2 div.sk-estimator:hover {background-color: #d4ebff;}#sk-container-id-2 div.sk-parallel-item::after {content: \"\";width: 100%;border-bottom: 1px solid gray;flex-grow: 1;}#sk-container-id-2 div.sk-label:hover label.sk-toggleable__label {background-color: #d4ebff;}#sk-container-id-2 div.sk-serial::before {content: \"\";position: absolute;border-left: 1px solid gray;box-sizing: border-box;top: 0;bottom: 0;left: 50%;z-index: 0;}#sk-container-id-2 div.sk-serial {display: flex;flex-direction: column;align-items: center;background-color: white;padding-right: 0.2em;padding-left: 0.2em;position: relative;}#sk-container-id-2 div.sk-item {position: relative;z-index: 1;}#sk-container-id-2 div.sk-parallel {display: flex;align-items: stretch;justify-content: center;background-color: white;position: relative;}#sk-container-id-2 div.sk-item::before, #sk-container-id-2 div.sk-parallel-item::before {content: \"\";position: absolute;border-left: 1px solid gray;box-sizing: border-box;top: 0;bottom: 0;left: 50%;z-index: -1;}#sk-container-id-2 div.sk-parallel-item {display: flex;flex-direction: column;z-index: 1;position: relative;background-color: white;}#sk-container-id-2 div.sk-parallel-item:first-child::after {align-self: flex-end;width: 50%;}#sk-container-id-2 div.sk-parallel-item:last-child::after {align-self: flex-start;width: 50%;}#sk-container-id-2 div.sk-parallel-item:only-child::after {width: 0;}#sk-container-id-2 div.sk-dashed-wrapped {border: 1px dashed gray;margin: 0 0.4em 0.5em 0.4em;box-sizing: border-box;padding-bottom: 0.4em;background-color: white;}#sk-container-id-2 div.sk-label label {font-family: monospace;font-weight: bold;display: inline-block;line-height: 1.2em;}#sk-container-id-2 div.sk-label-container {text-align: center;}#sk-container-id-2 div.sk-container {/* jupyter's `normalize.less` sets `[hidden] { display: none; }` but bootstrap.min.css set `[hidden] { display: none !important; }` so we also need the `!important` here to be able to override the default hidden behavior on the sphinx rendered scikit-learn.org. See: https://github.com/scikit-learn/scikit-learn/issues/21755 */display: inline-block !important;position: relative;}#sk-container-id-2 div.sk-text-repr-fallback {display: none;}</style><div id=\"sk-container-id-2\" class=\"sk-top-container\"><div class=\"sk-text-repr-fallback\"><pre>Pipeline(steps=[(&#x27;ohe_and_scaling&#x27;,\n",
       "                 ColumnTransformer(transformers=[(&#x27;ohe&#x27;,\n",
       "                                                  OneHotEncoder(handle_unknown=&#x27;ignore&#x27;),\n",
       "                                                  [&#x27;PlanClass_D&#x27;, &#x27;EdLevel_D&#x27;,\n",
       "                                                   &#x27;ItemCourse_D&#x27;,\n",
       "                                                   &#x27;ItemLearnYear_D&#x27;,\n",
       "                                                   &#x27;PeriodNumList&#x27;,\n",
       "                                                   &#x27;WithOnlineCourse&#x27;]),\n",
       "                                                 (&#x27;scaling&#x27;, StandardScaler(),\n",
       "                                                  [&#x27;StudCount&#x27;, &#x27;Credits&#x27;,\n",
       "                                                   &#x27;EntireHours&#x27;,\n",
       "                                                   &#x27;LectionHours&#x27;,\n",
       "                                                   &#x27;SeminarHours&#x27;,\n",
       "                                                   &#x27;PracticeHours&#x27;])])),\n",
       "                (&#x27;regression&#x27;, DecisionTreeRegressor())])</pre><b>In a Jupyter environment, please rerun this cell to show the HTML representation or trust the notebook. <br />On GitHub, the HTML representation is unable to render, please try loading this page with nbviewer.org.</b></div><div class=\"sk-container\" hidden><div class=\"sk-item sk-dashed-wrapped\"><div class=\"sk-label-container\"><div class=\"sk-label sk-toggleable\"><input class=\"sk-toggleable__control sk-hidden--visually\" id=\"sk-estimator-id-8\" type=\"checkbox\" ><label for=\"sk-estimator-id-8\" class=\"sk-toggleable__label sk-toggleable__label-arrow\">Pipeline</label><div class=\"sk-toggleable__content\"><pre>Pipeline(steps=[(&#x27;ohe_and_scaling&#x27;,\n",
       "                 ColumnTransformer(transformers=[(&#x27;ohe&#x27;,\n",
       "                                                  OneHotEncoder(handle_unknown=&#x27;ignore&#x27;),\n",
       "                                                  [&#x27;PlanClass_D&#x27;, &#x27;EdLevel_D&#x27;,\n",
       "                                                   &#x27;ItemCourse_D&#x27;,\n",
       "                                                   &#x27;ItemLearnYear_D&#x27;,\n",
       "                                                   &#x27;PeriodNumList&#x27;,\n",
       "                                                   &#x27;WithOnlineCourse&#x27;]),\n",
       "                                                 (&#x27;scaling&#x27;, StandardScaler(),\n",
       "                                                  [&#x27;StudCount&#x27;, &#x27;Credits&#x27;,\n",
       "                                                   &#x27;EntireHours&#x27;,\n",
       "                                                   &#x27;LectionHours&#x27;,\n",
       "                                                   &#x27;SeminarHours&#x27;,\n",
       "                                                   &#x27;PracticeHours&#x27;])])),\n",
       "                (&#x27;regression&#x27;, DecisionTreeRegressor())])</pre></div></div></div><div class=\"sk-serial\"><div class=\"sk-item sk-dashed-wrapped\"><div class=\"sk-label-container\"><div class=\"sk-label sk-toggleable\"><input class=\"sk-toggleable__control sk-hidden--visually\" id=\"sk-estimator-id-9\" type=\"checkbox\" ><label for=\"sk-estimator-id-9\" class=\"sk-toggleable__label sk-toggleable__label-arrow\">ohe_and_scaling: ColumnTransformer</label><div class=\"sk-toggleable__content\"><pre>ColumnTransformer(transformers=[(&#x27;ohe&#x27;, OneHotEncoder(handle_unknown=&#x27;ignore&#x27;),\n",
       "                                 [&#x27;PlanClass_D&#x27;, &#x27;EdLevel_D&#x27;, &#x27;ItemCourse_D&#x27;,\n",
       "                                  &#x27;ItemLearnYear_D&#x27;, &#x27;PeriodNumList&#x27;,\n",
       "                                  &#x27;WithOnlineCourse&#x27;]),\n",
       "                                (&#x27;scaling&#x27;, StandardScaler(),\n",
       "                                 [&#x27;StudCount&#x27;, &#x27;Credits&#x27;, &#x27;EntireHours&#x27;,\n",
       "                                  &#x27;LectionHours&#x27;, &#x27;SeminarHours&#x27;,\n",
       "                                  &#x27;PracticeHours&#x27;])])</pre></div></div></div><div class=\"sk-parallel\"><div class=\"sk-parallel-item\"><div class=\"sk-item\"><div class=\"sk-label-container\"><div class=\"sk-label sk-toggleable\"><input class=\"sk-toggleable__control sk-hidden--visually\" id=\"sk-estimator-id-10\" type=\"checkbox\" ><label for=\"sk-estimator-id-10\" class=\"sk-toggleable__label sk-toggleable__label-arrow\">ohe</label><div class=\"sk-toggleable__content\"><pre>[&#x27;PlanClass_D&#x27;, &#x27;EdLevel_D&#x27;, &#x27;ItemCourse_D&#x27;, &#x27;ItemLearnYear_D&#x27;, &#x27;PeriodNumList&#x27;, &#x27;WithOnlineCourse&#x27;]</pre></div></div></div><div class=\"sk-serial\"><div class=\"sk-item\"><div class=\"sk-estimator sk-toggleable\"><input class=\"sk-toggleable__control sk-hidden--visually\" id=\"sk-estimator-id-11\" type=\"checkbox\" ><label for=\"sk-estimator-id-11\" class=\"sk-toggleable__label sk-toggleable__label-arrow\">OneHotEncoder</label><div class=\"sk-toggleable__content\"><pre>OneHotEncoder(handle_unknown=&#x27;ignore&#x27;)</pre></div></div></div></div></div></div><div class=\"sk-parallel-item\"><div class=\"sk-item\"><div class=\"sk-label-container\"><div class=\"sk-label sk-toggleable\"><input class=\"sk-toggleable__control sk-hidden--visually\" id=\"sk-estimator-id-12\" type=\"checkbox\" ><label for=\"sk-estimator-id-12\" class=\"sk-toggleable__label sk-toggleable__label-arrow\">scaling</label><div class=\"sk-toggleable__content\"><pre>[&#x27;StudCount&#x27;, &#x27;Credits&#x27;, &#x27;EntireHours&#x27;, &#x27;LectionHours&#x27;, &#x27;SeminarHours&#x27;, &#x27;PracticeHours&#x27;]</pre></div></div></div><div class=\"sk-serial\"><div class=\"sk-item\"><div class=\"sk-estimator sk-toggleable\"><input class=\"sk-toggleable__control sk-hidden--visually\" id=\"sk-estimator-id-13\" type=\"checkbox\" ><label for=\"sk-estimator-id-13\" class=\"sk-toggleable__label sk-toggleable__label-arrow\">StandardScaler</label><div class=\"sk-toggleable__content\"><pre>StandardScaler()</pre></div></div></div></div></div></div></div></div><div class=\"sk-item\"><div class=\"sk-estimator sk-toggleable\"><input class=\"sk-toggleable__control sk-hidden--visually\" id=\"sk-estimator-id-14\" type=\"checkbox\" ><label for=\"sk-estimator-id-14\" class=\"sk-toggleable__label sk-toggleable__label-arrow\">DecisionTreeRegressor</label><div class=\"sk-toggleable__content\"><pre>DecisionTreeRegressor()</pre></div></div></div></div></div></div></div>"
      ],
      "text/plain": [
       "Pipeline(steps=[('ohe_and_scaling',\n",
       "                 ColumnTransformer(transformers=[('ohe',\n",
       "                                                  OneHotEncoder(handle_unknown='ignore'),\n",
       "                                                  ['PlanClass_D', 'EdLevel_D',\n",
       "                                                   'ItemCourse_D',\n",
       "                                                   'ItemLearnYear_D',\n",
       "                                                   'PeriodNumList',\n",
       "                                                   'WithOnlineCourse']),\n",
       "                                                 ('scaling', StandardScaler(),\n",
       "                                                  ['StudCount', 'Credits',\n",
       "                                                   'EntireHours',\n",
       "                                                   'LectionHours',\n",
       "                                                   'SeminarHours',\n",
       "                                                   'PracticeHours'])])),\n",
       "                ('regression', DecisionTreeRegressor())])"
      ]
     },
     "execution_count": 45,
     "metadata": {},
     "output_type": "execute_result"
    }
   ],
   "source": [
    "base_algo(\n",
    "    numeric_col=[\"StudCount\", \"Credits\", \"EntireHours\", \"LectionHours\", \"SeminarHours\", \"PracticeHours\"],\n",
    "    categor_col=[\"PlanClass_D\", \"EdLevel_D\", \"ItemCourse_D\", \"ItemLearnYear_D\", \"PeriodNumList\", \"WithOnlineCourse\"],\n",
    "    method=DecisionTreeRegressor(),\n",
    "    no_coef=True,\n",
    "    error_func=smape)"
   ]
  },
  {
   "cell_type": "code",
   "execution_count": 42,
   "id": "a7bf72d1",
   "metadata": {},
   "outputs": [],
   "source": [
    "from sklearn import tree"
   ]
  },
  {
   "cell_type": "code",
   "execution_count": 54,
   "id": "356f8680",
   "metadata": {},
   "outputs": [
    {
     "name": "stdout",
     "output_type": "stream",
     "text": [
      "Method: DecisionTreeRegressor() \n",
      "\n",
      "Error: <function smape at 0x7fb28835a430>\n",
      "0.5833954238013328 \n",
      "\n"
     ]
    }
   ],
   "source": [
    "model_tree = base_algo(\n",
    "    numeric_col=[\"StudCount\"],\n",
    "    categor_col=[],\n",
    "    method=DecisionTreeRegressor(),\n",
    "    no_coef=True,\n",
    "    error_func=smape)"
   ]
  },
  {
   "cell_type": "code",
   "execution_count": 57,
   "id": "184066cc",
   "metadata": {},
   "outputs": [
    {
     "name": "stdout",
     "output_type": "stream",
     "text": [
      "Method: DecisionTreeRegressor(criterion='absolute_error') \n",
      "\n",
      "Error: <function smape at 0x7fb28835a430>\n",
      "0.5715934552496578 \n",
      "\n"
     ]
    }
   ],
   "source": [
    "model_tree = base_algo(\n",
    "    numeric_col=[\"StudCount\"],\n",
    "    categor_col=[],\n",
    "    method=DecisionTreeRegressor(criterion=\"absolute_error\"),\n",
    "    no_coef=True,\n",
    "    error_func=smape)"
   ]
  },
  {
   "cell_type": "code",
   "execution_count": 58,
   "id": "b722d157",
   "metadata": {},
   "outputs": [
    {
     "name": "stdout",
     "output_type": "stream",
     "text": [
      "Method: DecisionTreeRegressor(criterion='absolute_error', max_depth=3) \n",
      "\n",
      "Error: <function smape at 0x7fb28835a430>\n",
      "0.601072193127812 \n",
      "\n"
     ]
    }
   ],
   "source": [
    "model_tree = base_algo(\n",
    "    numeric_col=[\"StudCount\"],\n",
    "    categor_col=[],\n",
    "    method=DecisionTreeRegressor(criterion=\"absolute_error\", max_depth=3),\n",
    "    no_coef=True,\n",
    "    error_func=smape)"
   ]
  },
  {
   "cell_type": "code",
   "execution_count": 63,
   "id": "0d389457",
   "metadata": {},
   "outputs": [
    {
     "data": {
      "image/png": "[encoded data removed]",
      "text/plain": [
       "<Figure size 1200x1200 with 1 Axes>"
      ]
     },
     "metadata": {},
     "output_type": "display_data"
    }
   ],
   "source": [
    "plt.figure(figsize=(12, 12))\n",
    "tree.plot_tree(model_tree.named_steps['regression'])\n",
    "plt.show()"
   ]
  },
  {
   "cell_type": "code",
   "execution_count": 67,
   "id": "949cf8ab",
   "metadata": {},
   "outputs": [
    {
     "name": "stdout",
     "output_type": "stream",
     "text": [
      "Method: DecisionTreeRegressor(criterion='absolute_error') \n",
      "\n",
      "Error: <function smape at 0x7fb28835a430>\n",
      "0.5658210143509778 \n",
      "\n"
     ]
    }
   ],
   "source": [
    "model_tree = base_algo(\n",
    "    numeric_col=[\"StudCount\"],\n",
    "    categor_col=[\"PlanClass_D\", \"EdLevel_D\", \"ItemCourse_D\"],\n",
    "    method=DecisionTreeRegressor(criterion=\"absolute_error\"),\n",
    "    no_coef=True,\n",
    "    error_func=smape)"
   ]
  },
  {
   "cell_type": "code",
   "execution_count": 68,
   "id": "d781b238",
   "metadata": {},
   "outputs": [
    {
     "name": "stdout",
     "output_type": "stream",
     "text": [
      "Method: DecisionTreeRegressor(criterion='absolute_error') \n",
      "\n",
      "Error: <function smape at 0x7fb28835a430>\n",
      "0.6329233134314386 \n",
      "\n"
     ]
    }
   ],
   "source": [
    "model_tree = base_algo(\n",
    "    numeric_col=[\"StudCount\", \"Credits\", \"EntireHours\", \"LectionHours\", \"SeminarHours\", \"PracticeHours\"],\n",
    "    categor_col=[\"PlanClass_D\", \"EdLevel_D\", \"ItemCourse_D\", \"ItemLearnYear_D\", \"PeriodNumList\", \"WithOnlineCourse\"],\n",
    "    method=DecisionTreeRegressor(criterion=\"absolute_error\"),\n",
    "    no_coef=True,\n",
    "    error_func=smape)"
   ]
  },
  {
   "cell_type": "code",
   "execution_count": 74,
   "id": "13036942",
   "metadata": {},
   "outputs": [
    {
     "name": "stdout",
     "output_type": "stream",
     "text": [
      "Method: RandomForestRegressor(criterion='absolute_error') \n",
      "\n",
      "Error: <function smape at 0x7fb28835a430>\n",
      "0.5687225560106784 \n",
      "\n"
     ]
    }
   ],
   "source": [
    "model_tree = base_algo(\n",
    "    numeric_col=[\"StudCount\", \"Credits\", \"EntireHours\", \"LectionHours\", \"SeminarHours\", \"PracticeHours\"],\n",
    "    categor_col=[\"PlanClass_D\", \"EdLevel_D\", \"ItemCourse_D\", \"ItemLearnYear_D\", \"PeriodNumList\", \"WithOnlineCourse\"],\n",
    "    method=RandomForestRegressor(criterion=\"absolute_error\"),\n",
    "    no_coef=True,\n",
    "    error_func=smape)"
   ]
  },
  {
   "cell_type": "code",
   "execution_count": 77,
   "id": "d8b7fe7f",
   "metadata": {},
   "outputs": [
    {
     "data": {
      "text/plain": [
       "ID                            19147\n",
       "ProposalItem                  16826\n",
       "PlanClass_D                       4\n",
       "EdLevel_D                         4\n",
       "ItemCourse_D                     10\n",
       "ItemLearnYear_D                   3\n",
       "StudCount                       269\n",
       "StudLearnCount                  375\n",
       "BachStudCount                   372\n",
       "MagStudCount                    127\n",
       "RegDepartment_D                   5\n",
       "Faculty_D                        52\n",
       "LearnProgram_D                  295\n",
       "Description                    7087\n",
       "LongName                       7089\n",
       "SubjectClass_D                    2\n",
       "FacDepartment_D                 210\n",
       "FDFaculty_D                      53\n",
       "FDRegDepartment_D                 4\n",
       "MasterItem                    16170\n",
       "MasterItemPos                 16164\n",
       "ItemSource_D                      4\n",
       "AudienceScope_D                   4\n",
       "Credits                          24\n",
       "EntireHours                      30\n",
       "LectionHours                     59\n",
       "SeminarHours                     73\n",
       "PracticeHours                   113\n",
       "PeriodNumList                    16\n",
       "WithOnlineCourse                  2\n",
       "ItemLearnYear_D_discipline        3\n",
       "dtype: int64"
      ]
     },
     "execution_count": 77,
     "metadata": {},
     "output_type": "execute_result"
    }
   ],
   "source": [
    "df.nunique()"
   ]
  },
  {
   "cell_type": "code",
   "execution_count": 79,
   "id": "aee1a69f",
   "metadata": {},
   "outputs": [
    {
     "data": {
      "text/plain": [
       "12.122003447015189"
      ]
     },
     "execution_count": 79,
     "metadata": {},
     "output_type": "execute_result"
    }
   ],
   "source": [
    "100 - 16826 / 19147 * 100"
   ]
  },
  {
   "cell_type": "code",
   "execution_count": null,
   "id": "185040ff",
   "metadata": {},
   "outputs": [],
   "source": []
  }
 ],
 "metadata": {
  "kernelspec": {
   "display_name": "Python 3 (ipykernel)",
   "language": "python",
   "name": "python3"
  },
  "language_info": {
   "codemirror_mode": {
    "name": "ipython",
    "version": 3
   },
   "file_extension": ".py",
   "mimetype": "text/x-python",
   "name": "python",
   "nbconvert_exporter": "python",
   "pygments_lexer": "ipython3",
   "version": "3.8.10"
  }
 },
 "nbformat": 4,
 "nbformat_minor": 5
}
